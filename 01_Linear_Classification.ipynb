{
  "nbformat": 4,
  "nbformat_minor": 0,
  "metadata": {
    "colab": {
      "name": "01. Linear Classification.ipynb",
      "provenance": [],
      "collapsed_sections": [],
      "authorship_tag": "ABX9TyP1SZFOweeiGEMkSoLciWak",
      "include_colab_link": true
    },
    "kernelspec": {
      "name": "python3",
      "display_name": "Python 3"
    },
    "language_info": {
      "name": "python"
    }
  },
  "cells": [
    {
      "cell_type": "markdown",
      "metadata": {
        "id": "view-in-github",
        "colab_type": "text"
      },
      "source": [
        "<a href=\"https://colab.research.google.com/github/faustofcjr/amazon-social-progress/blob/develop/01_Linear_Classification.ipynb\" target=\"_parent\"><img src=\"https://colab.research.google.com/assets/colab-badge.svg\" alt=\"Open In Colab\"/></a>"
      ]
    },
    {
      "cell_type": "code",
      "execution_count": 1,
      "metadata": {
        "colab": {
          "base_uri": "https://localhost:8080/"
        },
        "id": "ZBvWBSWZLvdZ",
        "outputId": "33d4bfbe-bcf4-4e73-b2d1-7916ff9a31ae"
      },
      "outputs": [
        {
          "output_type": "stream",
          "name": "stdout",
          "text": [
            "2.8.2\n"
          ]
        }
      ],
      "source": [
        "import tensorflow as tf\n",
        "from sklearn.datasets import load_breast_cancer\n",
        "from sklearn.model_selection import train_test_split\n",
        "from sklearn.preprocessing import StandardScaler\n",
        "\n",
        "import matplotlib.pyplot as plt\n",
        "import numpy as np\n",
        "\n",
        "print(tf.__version__)"
      ]
    },
    {
      "cell_type": "code",
      "source": [
        "# Load in the data\n",
        "data = load_breast_cancer()"
      ],
      "metadata": {
        "id": "ac3XjjqLMleQ"
      },
      "execution_count": 2,
      "outputs": []
    },
    {
      "cell_type": "code",
      "source": [
        "# Check the type of 'data'\n",
        "print(\"Data type:\", type(data))\n",
        "print(\"Data Keys:\", data.keys())\n",
        "print(\"Data Shape:\", data.data.shape)"
      ],
      "metadata": {
        "colab": {
          "base_uri": "https://localhost:8080/"
        },
        "id": "esxcZxq4Nx9i",
        "outputId": "410f5cc3-d911-4f75-cd87-63180c49d744"
      },
      "execution_count": 3,
      "outputs": [
        {
          "output_type": "stream",
          "name": "stdout",
          "text": [
            "Data type: <class 'sklearn.utils.Bunch'>\n",
            "Data Keys: dict_keys(['data', 'target', 'frame', 'target_names', 'DESCR', 'feature_names', 'filename', 'data_module'])\n",
            "Data Shape: (569, 30)\n"
          ]
        }
      ]
    },
    {
      "cell_type": "code",
      "source": [
        "# print the targets\n",
        "data.target"
      ],
      "metadata": {
        "colab": {
          "base_uri": "https://localhost:8080/"
        },
        "id": "WVsZ3F98OXI9",
        "outputId": "8011839c-decb-4db9-e936-91b6f74b49cc"
      },
      "execution_count": 4,
      "outputs": [
        {
          "output_type": "execute_result",
          "data": {
            "text/plain": [
              "array([0, 0, 0, 0, 0, 0, 0, 0, 0, 0, 0, 0, 0, 0, 0, 0, 0, 0, 0, 1, 1, 1,\n",
              "       0, 0, 0, 0, 0, 0, 0, 0, 0, 0, 0, 0, 0, 0, 0, 1, 0, 0, 0, 0, 0, 0,\n",
              "       0, 0, 1, 0, 1, 1, 1, 1, 1, 0, 0, 1, 0, 0, 1, 1, 1, 1, 0, 1, 0, 0,\n",
              "       1, 1, 1, 1, 0, 1, 0, 0, 1, 0, 1, 0, 0, 1, 1, 1, 0, 0, 1, 0, 0, 0,\n",
              "       1, 1, 1, 0, 1, 1, 0, 0, 1, 1, 1, 0, 0, 1, 1, 1, 1, 0, 1, 1, 0, 1,\n",
              "       1, 1, 1, 1, 1, 1, 1, 0, 0, 0, 1, 0, 0, 1, 1, 1, 0, 0, 1, 0, 1, 0,\n",
              "       0, 1, 0, 0, 1, 1, 0, 1, 1, 0, 1, 1, 1, 1, 0, 1, 1, 1, 1, 1, 1, 1,\n",
              "       1, 1, 0, 1, 1, 1, 1, 0, 0, 1, 0, 1, 1, 0, 0, 1, 1, 0, 0, 1, 1, 1,\n",
              "       1, 0, 1, 1, 0, 0, 0, 1, 0, 1, 0, 1, 1, 1, 0, 1, 1, 0, 0, 1, 0, 0,\n",
              "       0, 0, 1, 0, 0, 0, 1, 0, 1, 0, 1, 1, 0, 1, 0, 0, 0, 0, 1, 1, 0, 0,\n",
              "       1, 1, 1, 0, 1, 1, 1, 1, 1, 0, 0, 1, 1, 0, 1, 1, 0, 0, 1, 0, 1, 1,\n",
              "       1, 1, 0, 1, 1, 1, 1, 1, 0, 1, 0, 0, 0, 0, 0, 0, 0, 0, 0, 0, 0, 0,\n",
              "       0, 0, 1, 1, 1, 1, 1, 1, 0, 1, 0, 1, 1, 0, 1, 1, 0, 1, 0, 0, 1, 1,\n",
              "       1, 1, 1, 1, 1, 1, 1, 1, 1, 1, 1, 0, 1, 1, 0, 1, 0, 1, 1, 1, 1, 1,\n",
              "       1, 1, 1, 1, 1, 1, 1, 1, 1, 0, 1, 1, 1, 0, 1, 0, 1, 1, 1, 1, 0, 0,\n",
              "       0, 1, 1, 1, 1, 0, 1, 0, 1, 0, 1, 1, 1, 0, 1, 1, 1, 1, 1, 1, 1, 0,\n",
              "       0, 0, 1, 1, 1, 1, 1, 1, 1, 1, 1, 1, 1, 0, 0, 1, 0, 0, 0, 1, 0, 0,\n",
              "       1, 1, 1, 1, 1, 0, 1, 1, 1, 1, 1, 0, 1, 1, 1, 0, 1, 1, 0, 0, 1, 1,\n",
              "       1, 1, 1, 1, 0, 1, 1, 1, 1, 1, 1, 1, 0, 1, 1, 1, 1, 1, 0, 1, 1, 0,\n",
              "       1, 1, 1, 1, 1, 1, 1, 1, 1, 1, 1, 1, 0, 1, 0, 0, 1, 0, 1, 1, 1, 1,\n",
              "       1, 0, 1, 1, 0, 1, 0, 1, 1, 0, 1, 0, 1, 1, 1, 1, 1, 1, 1, 1, 0, 0,\n",
              "       1, 1, 1, 1, 1, 1, 0, 1, 1, 1, 1, 1, 1, 1, 1, 1, 1, 0, 1, 1, 1, 1,\n",
              "       1, 1, 1, 0, 1, 0, 1, 1, 0, 1, 1, 1, 1, 1, 0, 0, 1, 0, 1, 0, 1, 1,\n",
              "       1, 1, 1, 0, 1, 1, 0, 1, 0, 1, 0, 0, 1, 1, 1, 0, 1, 1, 1, 1, 1, 1,\n",
              "       1, 1, 1, 1, 1, 0, 1, 0, 0, 1, 1, 1, 1, 1, 1, 1, 1, 1, 1, 1, 1, 1,\n",
              "       1, 1, 1, 1, 1, 1, 1, 1, 1, 1, 1, 1, 0, 0, 0, 0, 0, 0, 1])"
            ]
          },
          "metadata": {},
          "execution_count": 4
        }
      ]
    },
    {
      "cell_type": "code",
      "source": [
        "# their meaning is not lost\n",
        "print(\"Target names: \", data.target_names)\n",
        "print(\"Target shape\", data.target.shape)"
      ],
      "metadata": {
        "colab": {
          "base_uri": "https://localhost:8080/"
        },
        "id": "KfZ-sJfgOelc",
        "outputId": "911447e9-0658-49e0-ee83-072a70ddf508"
      },
      "execution_count": 5,
      "outputs": [
        {
          "output_type": "stream",
          "name": "stdout",
          "text": [
            "Target names:  ['malignant' 'benign']\n",
            "Target shape (569,)\n"
          ]
        }
      ]
    },
    {
      "cell_type": "code",
      "source": [
        "# Determine the meaning of each feature\n",
        "data.feature_names"
      ],
      "metadata": {
        "colab": {
          "base_uri": "https://localhost:8080/"
        },
        "id": "CVRImD-7OxI1",
        "outputId": "f29b9144-8837-4bd5-cf52-78f37d0cb520"
      },
      "execution_count": 6,
      "outputs": [
        {
          "output_type": "execute_result",
          "data": {
            "text/plain": [
              "array(['mean radius', 'mean texture', 'mean perimeter', 'mean area',\n",
              "       'mean smoothness', 'mean compactness', 'mean concavity',\n",
              "       'mean concave points', 'mean symmetry', 'mean fractal dimension',\n",
              "       'radius error', 'texture error', 'perimeter error', 'area error',\n",
              "       'smoothness error', 'compactness error', 'concavity error',\n",
              "       'concave points error', 'symmetry error',\n",
              "       'fractal dimension error', 'worst radius', 'worst texture',\n",
              "       'worst perimeter', 'worst area', 'worst smoothness',\n",
              "       'worst compactness', 'worst concavity', 'worst concave points',\n",
              "       'worst symmetry', 'worst fractal dimension'], dtype='<U23')"
            ]
          },
          "metadata": {},
          "execution_count": 6
        }
      ]
    },
    {
      "cell_type": "code",
      "source": [
        "# Split the data int train and test sets\n",
        "X_train, X_test, y_train, y_test = train_test_split(data.data, data.target, test_size=0.33)\n",
        "N, D = X_train.shape"
      ],
      "metadata": {
        "id": "Nn_yH7Y5PVHb"
      },
      "execution_count": 7,
      "outputs": []
    },
    {
      "cell_type": "code",
      "source": [
        "# Scale the data\n",
        "scaler = StandardScaler()\n",
        "X_train = scaler.fit_transform(X_train)\n",
        "X_test = scaler.transform(X_test)"
      ],
      "metadata": {
        "id": "bEWG-6hUP1Vk"
      },
      "execution_count": 8,
      "outputs": []
    },
    {
      "cell_type": "code",
      "source": [
        "# Build  de model\n",
        "model = tf.keras.models.Sequential([\n",
        "    tf.keras.layers.Input(shape=(D,)),\n",
        "    tf.keras.layers.Dense(1, activation=\"sigmoid\")\n",
        "])"
      ],
      "metadata": {
        "id": "FlqrofikQuNH"
      },
      "execution_count": 9,
      "outputs": []
    },
    {
      "cell_type": "code",
      "source": [
        "model.compile(\n",
        "    optimizer=\"adam\", \n",
        "    loss=\"binary_crossentropy\", \n",
        "    metrics=[\"accuracy\"]\n",
        ")"
      ],
      "metadata": {
        "id": "MJZEZIRgSJLW"
      },
      "execution_count": 10,
      "outputs": []
    },
    {
      "cell_type": "code",
      "source": [
        "# Train de model\n",
        "r = model.fit(X_train, y_train, validation_data=(X_test, y_test), epochs=100)"
      ],
      "metadata": {
        "colab": {
          "base_uri": "https://localhost:8080/"
        },
        "id": "CWhNniB8Sbsa",
        "outputId": "cbb1cf62-df4f-42f9-9e51-1d7141c2918d"
      },
      "execution_count": 11,
      "outputs": [
        {
          "output_type": "stream",
          "name": "stdout",
          "text": [
            "Epoch 1/100\n",
            "12/12 [==============================] - 1s 22ms/step - loss: 1.3828 - accuracy: 0.1076 - val_loss: 1.2812 - val_accuracy: 0.1383\n",
            "Epoch 2/100\n",
            "12/12 [==============================] - 0s 6ms/step - loss: 1.2639 - accuracy: 0.1286 - val_loss: 1.1716 - val_accuracy: 0.1862\n",
            "Epoch 3/100\n",
            "12/12 [==============================] - 0s 5ms/step - loss: 1.1525 - accuracy: 0.1444 - val_loss: 1.0712 - val_accuracy: 0.2340\n",
            "Epoch 4/100\n",
            "12/12 [==============================] - 0s 6ms/step - loss: 1.0521 - accuracy: 0.1995 - val_loss: 0.9799 - val_accuracy: 0.2819\n",
            "Epoch 5/100\n",
            "12/12 [==============================] - 0s 5ms/step - loss: 0.9594 - accuracy: 0.2782 - val_loss: 0.8997 - val_accuracy: 0.3617\n",
            "Epoch 6/100\n",
            "12/12 [==============================] - 0s 6ms/step - loss: 0.8769 - accuracy: 0.3648 - val_loss: 0.8300 - val_accuracy: 0.4309\n",
            "Epoch 7/100\n",
            "12/12 [==============================] - 0s 6ms/step - loss: 0.8067 - accuracy: 0.4383 - val_loss: 0.7675 - val_accuracy: 0.5000\n",
            "Epoch 8/100\n",
            "12/12 [==============================] - 0s 7ms/step - loss: 0.7444 - accuracy: 0.5144 - val_loss: 0.7129 - val_accuracy: 0.5904\n",
            "Epoch 9/100\n",
            "12/12 [==============================] - 0s 6ms/step - loss: 0.6892 - accuracy: 0.5801 - val_loss: 0.6661 - val_accuracy: 0.6330\n",
            "Epoch 10/100\n",
            "12/12 [==============================] - 0s 6ms/step - loss: 0.6426 - accuracy: 0.6614 - val_loss: 0.6252 - val_accuracy: 0.6862\n",
            "Epoch 11/100\n",
            "12/12 [==============================] - 0s 5ms/step - loss: 0.6014 - accuracy: 0.7008 - val_loss: 0.5898 - val_accuracy: 0.7234\n",
            "Epoch 12/100\n",
            "12/12 [==============================] - 0s 5ms/step - loss: 0.5655 - accuracy: 0.7402 - val_loss: 0.5587 - val_accuracy: 0.7394\n",
            "Epoch 13/100\n",
            "12/12 [==============================] - 0s 5ms/step - loss: 0.5347 - accuracy: 0.7664 - val_loss: 0.5301 - val_accuracy: 0.7553\n",
            "Epoch 14/100\n",
            "12/12 [==============================] - 0s 12ms/step - loss: 0.5067 - accuracy: 0.7900 - val_loss: 0.5050 - val_accuracy: 0.7766\n",
            "Epoch 15/100\n",
            "12/12 [==============================] - 0s 10ms/step - loss: 0.4817 - accuracy: 0.8058 - val_loss: 0.4824 - val_accuracy: 0.8085\n",
            "Epoch 16/100\n",
            "12/12 [==============================] - 0s 8ms/step - loss: 0.4596 - accuracy: 0.8215 - val_loss: 0.4616 - val_accuracy: 0.8245\n",
            "Epoch 17/100\n",
            "12/12 [==============================] - 0s 8ms/step - loss: 0.4396 - accuracy: 0.8399 - val_loss: 0.4429 - val_accuracy: 0.8404\n",
            "Epoch 18/100\n",
            "12/12 [==============================] - 0s 11ms/step - loss: 0.4215 - accuracy: 0.8425 - val_loss: 0.4254 - val_accuracy: 0.8511\n",
            "Epoch 19/100\n",
            "12/12 [==============================] - 0s 6ms/step - loss: 0.4051 - accuracy: 0.8556 - val_loss: 0.4095 - val_accuracy: 0.8617\n",
            "Epoch 20/100\n",
            "12/12 [==============================] - 0s 8ms/step - loss: 0.3901 - accuracy: 0.8661 - val_loss: 0.3947 - val_accuracy: 0.8617\n",
            "Epoch 21/100\n",
            "12/12 [==============================] - 0s 12ms/step - loss: 0.3764 - accuracy: 0.8688 - val_loss: 0.3811 - val_accuracy: 0.8617\n",
            "Epoch 22/100\n",
            "12/12 [==============================] - 0s 9ms/step - loss: 0.3634 - accuracy: 0.8714 - val_loss: 0.3690 - val_accuracy: 0.8670\n",
            "Epoch 23/100\n",
            "12/12 [==============================] - 0s 9ms/step - loss: 0.3520 - accuracy: 0.8740 - val_loss: 0.3573 - val_accuracy: 0.8777\n",
            "Epoch 24/100\n",
            "12/12 [==============================] - 0s 10ms/step - loss: 0.3411 - accuracy: 0.8766 - val_loss: 0.3469 - val_accuracy: 0.8777\n",
            "Epoch 25/100\n",
            "12/12 [==============================] - 0s 7ms/step - loss: 0.3311 - accuracy: 0.8871 - val_loss: 0.3366 - val_accuracy: 0.8777\n",
            "Epoch 26/100\n",
            "12/12 [==============================] - 0s 12ms/step - loss: 0.3220 - accuracy: 0.8898 - val_loss: 0.3267 - val_accuracy: 0.8936\n",
            "Epoch 27/100\n",
            "12/12 [==============================] - 0s 15ms/step - loss: 0.3131 - accuracy: 0.8924 - val_loss: 0.3175 - val_accuracy: 0.8936\n",
            "Epoch 28/100\n",
            "12/12 [==============================] - 0s 8ms/step - loss: 0.3050 - accuracy: 0.9003 - val_loss: 0.3088 - val_accuracy: 0.8936\n",
            "Epoch 29/100\n",
            "12/12 [==============================] - 0s 7ms/step - loss: 0.2971 - accuracy: 0.9003 - val_loss: 0.3012 - val_accuracy: 0.8936\n",
            "Epoch 30/100\n",
            "12/12 [==============================] - 0s 7ms/step - loss: 0.2902 - accuracy: 0.9003 - val_loss: 0.2934 - val_accuracy: 0.8936\n",
            "Epoch 31/100\n",
            "12/12 [==============================] - 0s 10ms/step - loss: 0.2834 - accuracy: 0.9003 - val_loss: 0.2861 - val_accuracy: 0.8989\n",
            "Epoch 32/100\n",
            "12/12 [==============================] - 0s 8ms/step - loss: 0.2769 - accuracy: 0.9055 - val_loss: 0.2794 - val_accuracy: 0.8989\n",
            "Epoch 33/100\n",
            "12/12 [==============================] - 0s 13ms/step - loss: 0.2710 - accuracy: 0.9081 - val_loss: 0.2726 - val_accuracy: 0.8989\n",
            "Epoch 34/100\n",
            "12/12 [==============================] - 0s 7ms/step - loss: 0.2651 - accuracy: 0.9134 - val_loss: 0.2665 - val_accuracy: 0.8989\n",
            "Epoch 35/100\n",
            "12/12 [==============================] - 0s 17ms/step - loss: 0.2597 - accuracy: 0.9134 - val_loss: 0.2607 - val_accuracy: 0.9043\n",
            "Epoch 36/100\n",
            "12/12 [==============================] - 0s 8ms/step - loss: 0.2545 - accuracy: 0.9160 - val_loss: 0.2551 - val_accuracy: 0.9096\n",
            "Epoch 37/100\n",
            "12/12 [==============================] - 0s 8ms/step - loss: 0.2497 - accuracy: 0.9186 - val_loss: 0.2495 - val_accuracy: 0.9096\n",
            "Epoch 38/100\n",
            "12/12 [==============================] - 0s 13ms/step - loss: 0.2449 - accuracy: 0.9186 - val_loss: 0.2443 - val_accuracy: 0.9096\n",
            "Epoch 39/100\n",
            "12/12 [==============================] - 0s 7ms/step - loss: 0.2404 - accuracy: 0.9213 - val_loss: 0.2393 - val_accuracy: 0.9096\n",
            "Epoch 40/100\n",
            "12/12 [==============================] - 0s 7ms/step - loss: 0.2361 - accuracy: 0.9213 - val_loss: 0.2345 - val_accuracy: 0.9149\n",
            "Epoch 41/100\n",
            "12/12 [==============================] - 0s 7ms/step - loss: 0.2320 - accuracy: 0.9213 - val_loss: 0.2304 - val_accuracy: 0.9149\n",
            "Epoch 42/100\n",
            "12/12 [==============================] - 0s 12ms/step - loss: 0.2281 - accuracy: 0.9239 - val_loss: 0.2260 - val_accuracy: 0.9202\n",
            "Epoch 43/100\n",
            "12/12 [==============================] - 0s 10ms/step - loss: 0.2245 - accuracy: 0.9291 - val_loss: 0.2214 - val_accuracy: 0.9202\n",
            "Epoch 44/100\n",
            "12/12 [==============================] - 0s 13ms/step - loss: 0.2206 - accuracy: 0.9291 - val_loss: 0.2176 - val_accuracy: 0.9202\n",
            "Epoch 45/100\n",
            "12/12 [==============================] - 0s 7ms/step - loss: 0.2172 - accuracy: 0.9291 - val_loss: 0.2137 - val_accuracy: 0.9202\n",
            "Epoch 46/100\n",
            "12/12 [==============================] - 0s 23ms/step - loss: 0.2137 - accuracy: 0.9291 - val_loss: 0.2102 - val_accuracy: 0.9202\n",
            "Epoch 47/100\n",
            "12/12 [==============================] - 0s 8ms/step - loss: 0.2106 - accuracy: 0.9318 - val_loss: 0.2065 - val_accuracy: 0.9202\n",
            "Epoch 48/100\n",
            "12/12 [==============================] - 0s 12ms/step - loss: 0.2075 - accuracy: 0.9344 - val_loss: 0.2030 - val_accuracy: 0.9202\n",
            "Epoch 49/100\n",
            "12/12 [==============================] - 0s 9ms/step - loss: 0.2045 - accuracy: 0.9344 - val_loss: 0.1997 - val_accuracy: 0.9255\n",
            "Epoch 50/100\n",
            "12/12 [==============================] - 0s 9ms/step - loss: 0.2016 - accuracy: 0.9370 - val_loss: 0.1965 - val_accuracy: 0.9255\n",
            "Epoch 51/100\n",
            "12/12 [==============================] - 0s 8ms/step - loss: 0.1988 - accuracy: 0.9396 - val_loss: 0.1934 - val_accuracy: 0.9255\n",
            "Epoch 52/100\n",
            "12/12 [==============================] - 0s 11ms/step - loss: 0.1960 - accuracy: 0.9396 - val_loss: 0.1906 - val_accuracy: 0.9255\n",
            "Epoch 53/100\n",
            "12/12 [==============================] - 0s 7ms/step - loss: 0.1934 - accuracy: 0.9396 - val_loss: 0.1880 - val_accuracy: 0.9309\n",
            "Epoch 54/100\n",
            "12/12 [==============================] - 0s 6ms/step - loss: 0.1912 - accuracy: 0.9396 - val_loss: 0.1850 - val_accuracy: 0.9309\n",
            "Epoch 55/100\n",
            "12/12 [==============================] - 0s 7ms/step - loss: 0.1885 - accuracy: 0.9396 - val_loss: 0.1826 - val_accuracy: 0.9362\n",
            "Epoch 56/100\n",
            "12/12 [==============================] - 0s 8ms/step - loss: 0.1863 - accuracy: 0.9423 - val_loss: 0.1801 - val_accuracy: 0.9415\n",
            "Epoch 57/100\n",
            "12/12 [==============================] - 0s 11ms/step - loss: 0.1839 - accuracy: 0.9423 - val_loss: 0.1777 - val_accuracy: 0.9415\n",
            "Epoch 58/100\n",
            "12/12 [==============================] - 0s 8ms/step - loss: 0.1817 - accuracy: 0.9501 - val_loss: 0.1754 - val_accuracy: 0.9415\n",
            "Epoch 59/100\n",
            "12/12 [==============================] - 0s 9ms/step - loss: 0.1795 - accuracy: 0.9501 - val_loss: 0.1731 - val_accuracy: 0.9415\n",
            "Epoch 60/100\n",
            "12/12 [==============================] - 0s 14ms/step - loss: 0.1775 - accuracy: 0.9501 - val_loss: 0.1709 - val_accuracy: 0.9415\n",
            "Epoch 61/100\n",
            "12/12 [==============================] - 0s 11ms/step - loss: 0.1755 - accuracy: 0.9501 - val_loss: 0.1688 - val_accuracy: 0.9415\n",
            "Epoch 62/100\n",
            "12/12 [==============================] - 0s 10ms/step - loss: 0.1735 - accuracy: 0.9528 - val_loss: 0.1668 - val_accuracy: 0.9468\n",
            "Epoch 63/100\n",
            "12/12 [==============================] - 0s 10ms/step - loss: 0.1717 - accuracy: 0.9528 - val_loss: 0.1648 - val_accuracy: 0.9468\n",
            "Epoch 64/100\n",
            "12/12 [==============================] - 0s 8ms/step - loss: 0.1697 - accuracy: 0.9501 - val_loss: 0.1630 - val_accuracy: 0.9468\n",
            "Epoch 65/100\n",
            "12/12 [==============================] - 0s 9ms/step - loss: 0.1680 - accuracy: 0.9501 - val_loss: 0.1612 - val_accuracy: 0.9468\n",
            "Epoch 66/100\n",
            "12/12 [==============================] - 0s 12ms/step - loss: 0.1664 - accuracy: 0.9501 - val_loss: 0.1594 - val_accuracy: 0.9468\n",
            "Epoch 67/100\n",
            "12/12 [==============================] - 0s 17ms/step - loss: 0.1646 - accuracy: 0.9501 - val_loss: 0.1578 - val_accuracy: 0.9468\n",
            "Epoch 68/100\n",
            "12/12 [==============================] - 0s 12ms/step - loss: 0.1630 - accuracy: 0.9501 - val_loss: 0.1560 - val_accuracy: 0.9468\n",
            "Epoch 69/100\n",
            "12/12 [==============================] - 0s 10ms/step - loss: 0.1614 - accuracy: 0.9501 - val_loss: 0.1545 - val_accuracy: 0.9468\n",
            "Epoch 70/100\n",
            "12/12 [==============================] - 0s 11ms/step - loss: 0.1598 - accuracy: 0.9501 - val_loss: 0.1530 - val_accuracy: 0.9468\n",
            "Epoch 71/100\n",
            "12/12 [==============================] - 0s 7ms/step - loss: 0.1584 - accuracy: 0.9501 - val_loss: 0.1515 - val_accuracy: 0.9521\n",
            "Epoch 72/100\n",
            "12/12 [==============================] - 0s 11ms/step - loss: 0.1569 - accuracy: 0.9501 - val_loss: 0.1499 - val_accuracy: 0.9574\n",
            "Epoch 73/100\n",
            "12/12 [==============================] - 0s 9ms/step - loss: 0.1554 - accuracy: 0.9501 - val_loss: 0.1486 - val_accuracy: 0.9574\n",
            "Epoch 74/100\n",
            "12/12 [==============================] - 0s 11ms/step - loss: 0.1541 - accuracy: 0.9501 - val_loss: 0.1473 - val_accuracy: 0.9574\n",
            "Epoch 75/100\n",
            "12/12 [==============================] - 0s 9ms/step - loss: 0.1527 - accuracy: 0.9501 - val_loss: 0.1459 - val_accuracy: 0.9574\n",
            "Epoch 76/100\n",
            "12/12 [==============================] - 0s 11ms/step - loss: 0.1514 - accuracy: 0.9501 - val_loss: 0.1445 - val_accuracy: 0.9574\n",
            "Epoch 77/100\n",
            "12/12 [==============================] - 0s 11ms/step - loss: 0.1502 - accuracy: 0.9501 - val_loss: 0.1432 - val_accuracy: 0.9628\n",
            "Epoch 78/100\n",
            "12/12 [==============================] - 0s 9ms/step - loss: 0.1489 - accuracy: 0.9501 - val_loss: 0.1419 - val_accuracy: 0.9628\n",
            "Epoch 79/100\n",
            "12/12 [==============================] - 0s 8ms/step - loss: 0.1476 - accuracy: 0.9501 - val_loss: 0.1408 - val_accuracy: 0.9628\n",
            "Epoch 80/100\n",
            "12/12 [==============================] - 0s 8ms/step - loss: 0.1465 - accuracy: 0.9501 - val_loss: 0.1396 - val_accuracy: 0.9628\n",
            "Epoch 81/100\n",
            "12/12 [==============================] - 0s 7ms/step - loss: 0.1453 - accuracy: 0.9501 - val_loss: 0.1384 - val_accuracy: 0.9628\n",
            "Epoch 82/100\n",
            "12/12 [==============================] - 0s 8ms/step - loss: 0.1442 - accuracy: 0.9501 - val_loss: 0.1373 - val_accuracy: 0.9628\n",
            "Epoch 83/100\n",
            "12/12 [==============================] - 0s 8ms/step - loss: 0.1431 - accuracy: 0.9501 - val_loss: 0.1361 - val_accuracy: 0.9628\n",
            "Epoch 84/100\n",
            "12/12 [==============================] - 0s 6ms/step - loss: 0.1420 - accuracy: 0.9501 - val_loss: 0.1352 - val_accuracy: 0.9628\n",
            "Epoch 85/100\n",
            "12/12 [==============================] - 0s 8ms/step - loss: 0.1410 - accuracy: 0.9501 - val_loss: 0.1341 - val_accuracy: 0.9628\n",
            "Epoch 86/100\n",
            "12/12 [==============================] - 0s 19ms/step - loss: 0.1399 - accuracy: 0.9501 - val_loss: 0.1331 - val_accuracy: 0.9628\n",
            "Epoch 87/100\n",
            "12/12 [==============================] - 0s 10ms/step - loss: 0.1389 - accuracy: 0.9528 - val_loss: 0.1321 - val_accuracy: 0.9628\n",
            "Epoch 88/100\n",
            "12/12 [==============================] - 0s 14ms/step - loss: 0.1380 - accuracy: 0.9554 - val_loss: 0.1311 - val_accuracy: 0.9628\n",
            "Epoch 89/100\n",
            "12/12 [==============================] - 0s 15ms/step - loss: 0.1370 - accuracy: 0.9554 - val_loss: 0.1301 - val_accuracy: 0.9628\n",
            "Epoch 90/100\n",
            "12/12 [==============================] - 0s 16ms/step - loss: 0.1361 - accuracy: 0.9554 - val_loss: 0.1292 - val_accuracy: 0.9628\n",
            "Epoch 91/100\n",
            "12/12 [==============================] - 0s 6ms/step - loss: 0.1351 - accuracy: 0.9554 - val_loss: 0.1283 - val_accuracy: 0.9628\n",
            "Epoch 92/100\n",
            "12/12 [==============================] - 0s 7ms/step - loss: 0.1343 - accuracy: 0.9554 - val_loss: 0.1274 - val_accuracy: 0.9628\n",
            "Epoch 93/100\n",
            "12/12 [==============================] - 0s 8ms/step - loss: 0.1333 - accuracy: 0.9554 - val_loss: 0.1266 - val_accuracy: 0.9628\n",
            "Epoch 94/100\n",
            "12/12 [==============================] - 0s 10ms/step - loss: 0.1325 - accuracy: 0.9554 - val_loss: 0.1257 - val_accuracy: 0.9628\n",
            "Epoch 95/100\n",
            "12/12 [==============================] - 0s 11ms/step - loss: 0.1317 - accuracy: 0.9554 - val_loss: 0.1248 - val_accuracy: 0.9628\n",
            "Epoch 96/100\n",
            "12/12 [==============================] - 0s 15ms/step - loss: 0.1309 - accuracy: 0.9554 - val_loss: 0.1240 - val_accuracy: 0.9681\n",
            "Epoch 97/100\n",
            "12/12 [==============================] - 0s 9ms/step - loss: 0.1300 - accuracy: 0.9580 - val_loss: 0.1232 - val_accuracy: 0.9628\n",
            "Epoch 98/100\n",
            "12/12 [==============================] - 0s 10ms/step - loss: 0.1293 - accuracy: 0.9580 - val_loss: 0.1224 - val_accuracy: 0.9574\n",
            "Epoch 99/100\n",
            "12/12 [==============================] - 0s 11ms/step - loss: 0.1285 - accuracy: 0.9580 - val_loss: 0.1216 - val_accuracy: 0.9628\n",
            "Epoch 100/100\n",
            "12/12 [==============================] - 0s 11ms/step - loss: 0.1277 - accuracy: 0.9580 - val_loss: 0.1209 - val_accuracy: 0.9681\n"
          ]
        }
      ]
    },
    {
      "cell_type": "code",
      "source": [
        "print(\"Train score:\", model.evaluate(X_train, y_train))\n",
        "print(\"Test score:\", model.evaluate(X_test, y_test))"
      ],
      "metadata": {
        "colab": {
          "base_uri": "https://localhost:8080/"
        },
        "id": "ePA9UZlnS2I3",
        "outputId": "39ab2107-7da3-42fc-915b-4a2dcf1e79cc"
      },
      "execution_count": 12,
      "outputs": [
        {
          "output_type": "stream",
          "name": "stdout",
          "text": [
            "12/12 [==============================] - 0s 2ms/step - loss: 0.1273 - accuracy: 0.9580\n",
            "Train score: [0.12727391719818115, 0.9580052495002747]\n",
            "6/6 [==============================] - 0s 2ms/step - loss: 0.1209 - accuracy: 0.9681\n",
            "Test score: [0.12085695564746857, 0.9680851101875305]\n"
          ]
        }
      ]
    },
    {
      "cell_type": "code",
      "source": [
        "# Plot what's returned by model.fit\n",
        "plt.plot(r.history[\"loss\"], label=\"loss\")\n",
        "plt.plot(r.history[\"val_loss\"], label=\"val_loss\")\n",
        "plt.legend()"
      ],
      "metadata": {
        "colab": {
          "base_uri": "https://localhost:8080/",
          "height": 282
        },
        "id": "hekgTQ_XTaKR",
        "outputId": "9182c314-c234-4e3d-a632-63861f1a4f83"
      },
      "execution_count": 13,
      "outputs": [
        {
          "output_type": "execute_result",
          "data": {
            "text/plain": [
              "<matplotlib.legend.Legend at 0x7f3921e73b50>"
            ]
          },
          "metadata": {},
          "execution_count": 13
        },
        {
          "output_type": "display_data",
          "data": {
            "text/plain": [
              "<Figure size 432x288 with 1 Axes>"
            ],
            "image/png": "[encoded data removed]"
          },
          "metadata": {
            "needs_background": "light"
          }
        }
      ]
    },
    {
      "cell_type": "code",
      "source": [
        "# Plot the accuracy too\n",
        "plt.plot(r.history[\"accuracy\"], label=\"acc\")\n",
        "plt.plot(r.history[\"val_accuracy\"], label=\"val_acc\")\n",
        "plt.legend()"
      ],
      "metadata": {
        "colab": {
          "base_uri": "https://localhost:8080/",
          "height": 284
        },
        "id": "OgNBs24NUCgC",
        "outputId": "e995402b-aad7-4009-b432-24996dc3dfe2"
      },
      "execution_count": 14,
      "outputs": [
        {
          "output_type": "execute_result",
          "data": {
            "text/plain": [
              "<matplotlib.legend.Legend at 0x7f392364c690>"
            ]
          },
          "metadata": {},
          "execution_count": 14
        },
        {
          "output_type": "display_data",
          "data": {
            "text/plain": [
              "<Figure size 432x288 with 1 Axes>"
            ],
            "image/png": "[encoded data removed]"
          },
          "metadata": {
            "needs_background": "light"
          }
        }
      ]
    },
    {
      "cell_type": "markdown",
      "source": [
        "## Part 2: Making Preditions"
      ],
      "metadata": {
        "id": "W4Wzl1tf1GuK"
      }
    },
    {
      "cell_type": "code",
      "source": [
        "# Make predictions\n",
        "P = model.predict(X_test)\n",
        "print(P) # they are outputs of the sigmoid, interpreted as probabilities p(y = 1 | x)"
      ],
      "metadata": {
        "colab": {
          "base_uri": "https://localhost:8080/"
        },
        "id": "KEP_GU6y1FJy",
        "outputId": "94bfac10-b324-49ac-f514-cedf5f0a0cce"
      },
      "execution_count": 15,
      "outputs": [
        {
          "output_type": "stream",
          "name": "stdout",
          "text": [
            "[[5.0152946e-01]\n",
            " [1.7272234e-03]\n",
            " [6.0054660e-04]\n",
            " [2.7866185e-01]\n",
            " [9.4821668e-01]\n",
            " [5.0132453e-01]\n",
            " [8.6738193e-01]\n",
            " [1.4790893e-04]\n",
            " [9.9344826e-01]\n",
            " [2.4877512e-05]\n",
            " [8.8803470e-01]\n",
            " [2.1250030e-01]\n",
            " [5.0213224e-01]\n",
            " [2.3490207e-05]\n",
            " [5.6942618e-01]\n",
            " [9.0533280e-01]\n",
            " [9.9345255e-01]\n",
            " [9.4936109e-01]\n",
            " [9.9012631e-01]\n",
            " [9.3162841e-01]\n",
            " [7.3490864e-01]\n",
            " [6.4905047e-02]\n",
            " [9.7250479e-01]\n",
            " [9.9569368e-01]\n",
            " [1.4522782e-01]\n",
            " [1.8792641e-01]\n",
            " [9.9500024e-01]\n",
            " [9.9730706e-01]\n",
            " [9.6737254e-01]\n",
            " [9.7123706e-01]\n",
            " [9.7474170e-01]\n",
            " [4.9582422e-02]\n",
            " [1.7561525e-02]\n",
            " [9.0357852e-01]\n",
            " [8.9716756e-01]\n",
            " [5.2266121e-03]\n",
            " [9.9285829e-01]\n",
            " [3.7668580e-01]\n",
            " [4.5787096e-03]\n",
            " [8.9542961e-01]\n",
            " [9.9245095e-01]\n",
            " [9.9152851e-01]\n",
            " [9.8793507e-01]\n",
            " [7.0986748e-03]\n",
            " [9.9670172e-01]\n",
            " [9.5682555e-01]\n",
            " [9.7780079e-01]\n",
            " [9.9759459e-01]\n",
            " [7.1615064e-01]\n",
            " [1.0314971e-02]\n",
            " [9.9973500e-01]\n",
            " [9.4385445e-03]\n",
            " [7.5041932e-01]\n",
            " [2.6155114e-03]\n",
            " [9.7537303e-01]\n",
            " [3.9859110e-01]\n",
            " [6.0123414e-01]\n",
            " [9.6455598e-01]\n",
            " [9.4635344e-01]\n",
            " [1.3130903e-04]\n",
            " [3.2344460e-04]\n",
            " [4.1386965e-01]\n",
            " [9.9870944e-01]\n",
            " [6.1775386e-01]\n",
            " [2.7434230e-02]\n",
            " [9.6547228e-01]\n",
            " [1.0420501e-02]\n",
            " [5.7650906e-01]\n",
            " [9.5833856e-01]\n",
            " [3.4618139e-02]\n",
            " [8.6018533e-01]\n",
            " [9.8717284e-01]\n",
            " [2.1090955e-02]\n",
            " [9.8945165e-01]\n",
            " [9.9574816e-01]\n",
            " [1.8500298e-02]\n",
            " [2.3314342e-01]\n",
            " [9.9552667e-01]\n",
            " [9.7097480e-01]\n",
            " [9.0689135e-01]\n",
            " [1.2409121e-02]\n",
            " [1.9525990e-01]\n",
            " [1.6904226e-01]\n",
            " [9.9623299e-01]\n",
            " [9.3370020e-01]\n",
            " [9.3531168e-01]\n",
            " [9.9085140e-01]\n",
            " [1.8261999e-02]\n",
            " [8.1975496e-01]\n",
            " [7.4808490e-01]\n",
            " [8.9485192e-01]\n",
            " [9.1746724e-01]\n",
            " [9.9963236e-01]\n",
            " [1.4614224e-02]\n",
            " [9.9293613e-01]\n",
            " [6.3509655e-01]\n",
            " [3.3176064e-02]\n",
            " [7.3011695e-05]\n",
            " [9.9077892e-01]\n",
            " [9.4682753e-01]\n",
            " [6.6222776e-05]\n",
            " [9.2624497e-01]\n",
            " [9.5126390e-01]\n",
            " [9.6150643e-01]\n",
            " [9.6914321e-01]\n",
            " [9.6719658e-01]\n",
            " [9.4191110e-01]\n",
            " [1.9277632e-03]\n",
            " [8.9083844e-01]\n",
            " [6.5233386e-01]\n",
            " [2.2065371e-02]\n",
            " [7.7477515e-01]\n",
            " [9.5198488e-01]\n",
            " [9.9332386e-01]\n",
            " [9.4383657e-02]\n",
            " [5.5813587e-01]\n",
            " [9.8018849e-01]\n",
            " [6.8325573e-01]\n",
            " [8.6367059e-01]\n",
            " [9.5942402e-01]\n",
            " [1.0291576e-02]\n",
            " [9.8674071e-01]\n",
            " [9.7657061e-01]\n",
            " [7.7376819e-01]\n",
            " [9.7848511e-01]\n",
            " [9.7260284e-01]\n",
            " [9.9846518e-01]\n",
            " [9.4663358e-01]\n",
            " [8.9779848e-01]\n",
            " [9.2233813e-01]\n",
            " [1.5169919e-02]\n",
            " [9.8556852e-01]\n",
            " [4.6057701e-01]\n",
            " [5.6200594e-02]\n",
            " [1.7633486e-01]\n",
            " [8.2973689e-01]\n",
            " [9.5836270e-01]\n",
            " [6.5039927e-01]\n",
            " [8.9980257e-01]\n",
            " [9.8768818e-01]\n",
            " [4.0849885e-01]\n",
            " [8.7618023e-01]\n",
            " [1.4936379e-01]\n",
            " [3.4564167e-02]\n",
            " [2.2067726e-03]\n",
            " [1.5173674e-02]\n",
            " [9.9676287e-01]\n",
            " [9.7604603e-01]\n",
            " [1.8248856e-03]\n",
            " [9.7474730e-01]\n",
            " [8.6648190e-01]\n",
            " [8.1596267e-01]\n",
            " [2.6244223e-03]\n",
            " [9.9696797e-01]\n",
            " [9.9746501e-01]\n",
            " [9.9908602e-01]\n",
            " [9.9901533e-01]\n",
            " [2.6262909e-02]\n",
            " [9.9176884e-01]\n",
            " [3.8123424e-05]\n",
            " [9.6359599e-01]\n",
            " [9.8716050e-01]\n",
            " [8.9622140e-01]\n",
            " [2.3581678e-01]\n",
            " [6.5719187e-03]\n",
            " [1.1644393e-01]\n",
            " [9.8007292e-02]\n",
            " [5.3581552e-05]\n",
            " [9.9554324e-01]\n",
            " [9.4404066e-01]\n",
            " [9.5656478e-01]\n",
            " [3.3081484e-05]\n",
            " [9.7281879e-01]\n",
            " [9.8969322e-01]\n",
            " [9.8363841e-01]\n",
            " [5.1510334e-04]\n",
            " [2.0336807e-03]\n",
            " [9.7029066e-01]\n",
            " [2.5712848e-03]\n",
            " [8.2704532e-01]\n",
            " [9.7068065e-01]\n",
            " [9.5072174e-01]\n",
            " [8.9474058e-01]\n",
            " [9.3656623e-01]\n",
            " [9.3842661e-01]\n",
            " [8.3188528e-01]\n",
            " [1.1400074e-02]\n",
            " [9.5337367e-01]]\n"
          ]
        }
      ]
    },
    {
      "cell_type": "code",
      "source": [
        "# Round to get the actual preditions\n",
        "# Note: has to be flattened since the targets are size (N,) while the predictions are size (N, 1)\n",
        "P = np.round(P).flatten()\n",
        "print(P)"
      ],
      "metadata": {
        "colab": {
          "base_uri": "https://localhost:8080/"
        },
        "id": "G5PVss6y1gKh",
        "outputId": "2f953cbf-a0ab-47ea-d617-280cbb25fe22"
      },
      "execution_count": 16,
      "outputs": [
        {
          "output_type": "stream",
          "name": "stdout",
          "text": [
            "[1. 0. 0. 0. 1. 1. 1. 0. 1. 0. 1. 0. 1. 0. 1. 1. 1. 1. 1. 1. 1. 0. 1. 1.\n",
            " 0. 0. 1. 1. 1. 1. 1. 0. 0. 1. 1. 0. 1. 0. 0. 1. 1. 1. 1. 0. 1. 1. 1. 1.\n",
            " 1. 0. 1. 0. 1. 0. 1. 0. 1. 1. 1. 0. 0. 0. 1. 1. 0. 1. 0. 1. 1. 0. 1. 1.\n",
            " 0. 1. 1. 0. 0. 1. 1. 1. 0. 0. 0. 1. 1. 1. 1. 0. 1. 1. 1. 1. 1. 0. 1. 1.\n",
            " 0. 0. 1. 1. 0. 1. 1. 1. 1. 1. 1. 0. 1. 1. 0. 1. 1. 1. 0. 1. 1. 1. 1. 1.\n",
            " 0. 1. 1. 1. 1. 1. 1. 1. 1. 1. 0. 1. 0. 0. 0. 1. 1. 1. 1. 1. 0. 1. 0. 0.\n",
            " 0. 0. 1. 1. 0. 1. 1. 1. 0. 1. 1. 1. 1. 0. 1. 0. 1. 1. 1. 0. 0. 0. 0. 0.\n",
            " 1. 1. 1. 0. 1. 1. 1. 0. 0. 1. 0. 1. 1. 1. 1. 1. 1. 1. 0. 1.]\n"
          ]
        }
      ]
    },
    {
      "cell_type": "code",
      "source": [
        "# Calculate the accuracy, compare it to evaluate() output\n",
        "print(\"Manually calculated accuracy:\", np.mean(P == y_test))\n",
        "print(\"Evaluate output:\", model.evaluate(X_test, y_test))"
      ],
      "metadata": {
        "colab": {
          "base_uri": "https://localhost:8080/"
        },
        "id": "-YOOq27F3DZ5",
        "outputId": "da257f16-3b08-4994-f593-1b5ab09ac100"
      },
      "execution_count": 17,
      "outputs": [
        {
          "output_type": "stream",
          "name": "stdout",
          "text": [
            "Manually calculated accuracy: 0.9680851063829787\n",
            "6/6 [==============================] - 0s 2ms/step - loss: 0.1209 - accuracy: 0.9681\n",
            "Evaluate output: [0.12085695564746857, 0.9680851101875305]\n"
          ]
        }
      ]
    },
    {
      "cell_type": "markdown",
      "source": [
        "## Part 3: Saving and loading a model"
      ],
      "metadata": {
        "id": "FtsjADNfiQW1"
      }
    },
    {
      "cell_type": "code",
      "source": [
        "# Let's now save our model to a file\n",
        "model.save(\"linearclassifier.h5\")"
      ],
      "metadata": {
        "id": "j_200wGNiPY5"
      },
      "execution_count": 18,
      "outputs": []
    },
    {
      "cell_type": "code",
      "source": [
        "# Check that the model file exists\n",
        "!ls -h"
      ],
      "metadata": {
        "colab": {
          "base_uri": "https://localhost:8080/"
        },
        "id": "QkyeNUgtihWB",
        "outputId": "2b1ed412-34e5-4a40-f19b-2aceb995d7a5"
      },
      "execution_count": 19,
      "outputs": [
        {
          "output_type": "stream",
          "name": "stdout",
          "text": [
            "linearclassifier.h5  sample_data\n"
          ]
        }
      ]
    },
    {
      "cell_type": "code",
      "source": [
        "# Let's load the model and confirm that it still works\n",
        "model =tf.keras.models.load_model(\"linearclassifier.h5\")\n",
        "print(model.layers)\n",
        "model.evaluate(X_test, y_test)"
      ],
      "metadata": {
        "colab": {
          "base_uri": "https://localhost:8080/"
        },
        "id": "FbtUXKkBimhS",
        "outputId": "acc288ae-09d2-40c8-d298-40e69ea5cb36"
      },
      "execution_count": 20,
      "outputs": [
        {
          "output_type": "stream",
          "name": "stdout",
          "text": [
            "[<keras.layers.core.dense.Dense object at 0x7f3921dc1d10>]\n",
            "6/6 [==============================] - 0s 3ms/step - loss: 0.1209 - accuracy: 0.9681\n"
          ]
        },
        {
          "output_type": "execute_result",
          "data": {
            "text/plain": [
              "[0.12085695564746857, 0.9680851101875305]"
            ]
          },
          "metadata": {},
          "execution_count": 20
        }
      ]
    },
    {
      "cell_type": "code",
      "source": [
        "# Download the file - require Chrome (at this point)\n",
        "from google.colab import files\n",
        "files.download(\"linearclassifier.h5\")"
      ],
      "metadata": {
        "colab": {
          "base_uri": "https://localhost:8080/",
          "height": 17
        },
        "id": "2f0FUpTBkR2s",
        "outputId": "b94217dd-9921-4dea-9a2d-6c8d83a7eb76"
      },
      "execution_count": 22,
      "outputs": [
        {
          "output_type": "display_data",
          "data": {
            "text/plain": [
              "<IPython.core.display.Javascript object>"
            ],
            "application/javascript": [
              "\n",
              "    async function download(id, filename, size) {\n",
              "      if (!google.colab.kernel.accessAllowed) {\n",
              "        return;\n",
              "      }\n",
              "      const div = document.createElement('div');\n",
              "      const label = document.createElement('label');\n",
              "      label.textContent = `Downloading \"${filename}\": `;\n",
              "      div.appendChild(label);\n",
              "      const progress = document.createElement('progress');\n",
              "      progress.max = size;\n",
              "      div.appendChild(progress);\n",
              "      document.body.appendChild(div);\n",
              "\n",
              "      const buffers = [];\n",
              "      let downloaded = 0;\n",
              "\n",
              "      const channel = await google.colab.kernel.comms.open(id);\n",
              "      // Send a message to notify the kernel that we're ready.\n",
              "      channel.send({})\n",
              "\n",
              "      for await (const message of channel.messages) {\n",
              "        // Send a message to notify the kernel that we're ready.\n",
              "        channel.send({})\n",
              "        if (message.buffers) {\n",
              "          for (const buffer of message.buffers) {\n",
              "            buffers.push(buffer);\n",
              "            downloaded += buffer.byteLength;\n",
              "            progress.value = downloaded;\n",
              "          }\n",
              "        }\n",
              "      }\n",
              "      const blob = new Blob(buffers, {type: 'application/binary'});\n",
              "      const a = document.createElement('a');\n",
              "      a.href = window.URL.createObjectURL(blob);\n",
              "      a.download = filename;\n",
              "      div.appendChild(a);\n",
              "      a.click();\n",
              "      div.remove();\n",
              "    }\n",
              "  "
            ]
          },
          "metadata": {}
        },
        {
          "output_type": "display_data",
          "data": {
            "text/plain": [
              "<IPython.core.display.Javascript object>"
            ],
            "application/javascript": [
              "download(\"download_76e6f891-efa7-4a79-af44-13baf9a8ced1\", \"linearclassifier.h5\", 19312)"
            ]
          },
          "metadata": {}
        }
      ]
    }
  ]
}