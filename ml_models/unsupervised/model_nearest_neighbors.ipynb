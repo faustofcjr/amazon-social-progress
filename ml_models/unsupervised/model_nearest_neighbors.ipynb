{
 "cells": [
  {
   "cell_type": "markdown",
   "id": "98c87bcb-1b63-4cee-aa36-618679a5cb01",
   "metadata": {},
   "source": [
    "```\n",
    "  _   _                          _     _   _      _       _     _                    \n",
    " | \\ | | ___  __ _ _ __ ___  ___| |_  | \\ | | ___(_) __ _| |__ | |__   ___  _ __ ___ \n",
    " |  \\| |/ _ \\/ _` | '__/ _ \\/ __| __| |  \\| |/ _ \\ |/ _` | '_ \\| '_ \\ / _ \\| '__/ __|\n",
    " | |\\  |  __/ (_| | | |  __/\\__ \\ |_  | |\\  |  __/ | (_| | | | | |_) | (_) | |  \\__ \\\n",
    " |_| \\_|\\___|\\__,_|_|  \\___||___/\\__| |_| \\_|\\___|_|\\__, |_| |_|_.__/ \\___/|_|  |___/\n",
    "                                                    |___/                            \n",
    " Unsupervised Nearest Neighbors\n",
    "```"
   ]
  },
  {
   "cell_type": "code",
   "execution_count": null,
   "id": "9a9da83c-e9d3-442d-91e2-e84c30867a69",
   "metadata": {},
   "outputs": [],
   "source": []
  }
 ],
 "metadata": {
  "kernelspec": {
   "display_name": "Python 3 (ipykernel)",
   "language": "python",
   "name": "python3"
  },
  "language_info": {
   "codemirror_mode": {
    "name": "ipython",
    "version": 3
   },
   "file_extension": ".py",
   "mimetype": "text/x-python",
   "name": "python",
   "nbconvert_exporter": "python",
   "pygments_lexer": "ipython3",
   "version": "3.9.12"
  }
 },
 "nbformat": 4,
 "nbformat_minor": 5
}
