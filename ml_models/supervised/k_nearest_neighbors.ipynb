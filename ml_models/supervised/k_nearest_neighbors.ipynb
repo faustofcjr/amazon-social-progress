{
 "cells": [
  {
   "cell_type": "markdown",
   "id": "e138daed-8eee-4b9b-9b6b-ee597f441eba",
   "metadata": {},
   "source": [
    "```\n",
    "     _                                     ____             _       _   ____                                    \n",
    "    / \\   _ __ ___   __ _ _______  _ __   / ___|  ___   ___(_) __ _| | |  _ \\ _ __ ___   __ _ _ __ ___  ___ ___ \n",
    "   / _ \\ | '_ ` _ \\ / _` |_  / _ \\| '_ \\  \\___ \\ / _ \\ / __| |/ _` | | | |_) | '__/ _ \\ / _` | '__/ _ \\/ __/ __|\n",
    "  / ___ \\| | | | | | (_| |/ / (_) | | | |  ___) | (_) | (__| | (_| | | |  __/| | | (_) | (_| | | |  __/\\__ \\__ \\\n",
    " /_/   \\_\\_| |_| |_|\\__,_/___\\___/|_| |_| |____/ \\___/ \\___|_|\\__,_|_| |_|   |_|  \\___/ \\__, |_|  \\___||___/___/\n",
    "                                                                                        |___/                   \n",
    " Supervised Extremely Randomized Trees\n",
    "```\n",
    "\n",
    "### Module\n",
    "__KNeighborsClassifier__ Classifier implementing the k-nearest neighbors vote.\n",
    "\n",
    "### Goal\n",
    "Ceate a model that classifier implementing the k-nearest neighbors vote.\n",
    "\n",
    "### Tools\n",
    "1. Pandas\n",
    "2. scikit-learn\n",
    "2. KNeighborsClassifier Algorithm\n",
    "\n",
    "### Requirement\n",
    "1. File Definition\n",
    "2. Data Preparation\n",
    "3. hotspot_spi.csv generated\n",
    " \n",
    "### Data Source\n",
    "__${WORKDIR}__/data/ouptut/hotspot_spi.csv"
   ]
  },
  {
   "cell_type": "code",
   "execution_count": 1,
   "id": "e4e17cdf-6c71-47a3-ad82-3aeaa1a1f2db",
   "metadata": {},
   "outputs": [],
   "source": [
    "import pandas as pd\n",
    "\n",
    "import functions as func\n",
    "from  load_dataset import LoadDataset\n",
    "\n",
    "from sklearn.neighbors import KNeighborsClassifier, NeighborhoodComponentsAnalysis\n",
    "\n",
    "from sklearn.pipeline import make_pipeline\n",
    "from sklearn.preprocessing import StandardScaler\n",
    "from sklearn.model_selection import train_test_split"
   ]
  },
  {
   "cell_type": "markdown",
   "id": "75b2233a-5889-4bd6-b5c6-822a8072bef8",
   "metadata": {},
   "source": [
    "## Get the data"
   ]
  },
  {
   "cell_type": "code",
   "execution_count": 2,
   "id": "1ddda37b-c260-4f11-9129-578812dca6bd",
   "metadata": {},
   "outputs": [],
   "source": [
    "load_dataset = LoadDataset()\n",
    "X, y = load_dataset.return_X_y()"
   ]
  },
  {
   "cell_type": "markdown",
   "id": "c1686f40-2a24-4c26-86a8-41340d693cfe",
   "metadata": {},
   "source": [
    "### Split dataset into train and test sets"
   ]
  },
  {
   "cell_type": "code",
   "execution_count": 3,
   "id": "776ac644-118e-4231-9922-35b98c79081e",
   "metadata": {},
   "outputs": [
    {
     "name": "stdout",
     "output_type": "stream",
     "text": [
      "X_train.shape: (1737, 49) y_train.shape: (1737,)\n",
      "X_test.shape: (579, 49) y_test.shape: (579,)\n"
     ]
    }
   ],
   "source": [
    "X_train, X_test, y_train, y_test = train_test_split(X, y, test_size=0.30)\n",
    "\n",
    "print(\"X_train.shape:\", X_train.shape, \"y_train.shape:\", y_train.shape)\n",
    "print(\"X_test.shape:\", X_test.shape, \"y_test.shape:\", y_test.shape)"
   ]
  },
  {
   "cell_type": "markdown",
   "id": "f5ef2879-6dd8-44a1-acb3-dfecc4268ab6",
   "metadata": {},
   "source": [
    "## Modeling"
   ]
  },
  {
   "cell_type": "markdown",
   "id": "556cf086-abb2-48c1-848a-03efb4872123",
   "metadata": {},
   "source": [
    "**Building, train and predict model**"
   ]
  },
  {
   "cell_type": "code",
   "execution_count": 6,
   "id": "dd0b8efc-2292-426c-87fa-fd111e645fe5",
   "metadata": {},
   "outputs": [],
   "source": [
    "pipeline_clf = make_pipeline(\n",
    "    StandardScaler(), \n",
    "    NeighborhoodComponentsAnalysis(), \n",
    "    KNeighborsClassifier())\n",
    "\n",
    "_ = pipeline_clf.fit(X_train, y_train)"
   ]
  },
  {
   "cell_type": "markdown",
   "id": "b7f06edd-9fe5-4c9a-a627-868cb5bf063a",
   "metadata": {},
   "source": [
    "### Predict and show model result"
   ]
  },
  {
   "cell_type": "code",
   "execution_count": 7,
   "id": "5e2f7f15-50aa-4073-be1b-8c79c7967b65",
   "metadata": {},
   "outputs": [
    {
     "name": "stdout",
     "output_type": "stream",
     "text": [
      "\n",
      "Computing cross-validated metrics\n",
      "----------------------------------------------------------------------\n",
      "Scores: [0.40517241 0.40820734 0.40820734 0.412527   0.40820734]\n",
      "Mean = 0.41 / Standard Deviation = 0.00\n",
      "\n",
      "Confunsion Matrix\n",
      "----------------------------------------------------------------------\n",
      "[[99 11 44  9  4]\n",
      " [19 28 36  0 18]\n",
      " [64 34 57  3  7]\n",
      " [34  1  8 21  1]\n",
      " [12 19 18  1 31]]\n",
      "\n",
      "Classification Report\n",
      "----------------------------------------------------------------------\n",
      "              precision    recall  f1-score   support\n",
      "\n",
      "           0       0.43      0.59      0.50       167\n",
      "           1       0.30      0.28      0.29       101\n",
      "           2       0.35      0.35      0.35       165\n",
      "           3       0.62      0.32      0.42        65\n",
      "           4       0.51      0.38      0.44        81\n",
      "\n",
      "    accuracy                           0.41       579\n",
      "   macro avg       0.44      0.38      0.40       579\n",
      "weighted avg       0.42      0.41      0.40       579\n",
      "\n",
      "----------------------------------------------------------------------\n",
      "Accuracy: 0.41\n",
      "Precicion: 0.41\n",
      "Sensitivity aka Recall: 0.41\n",
      "F1-Score: 0.41\n"
     ]
    }
   ],
   "source": [
    "y_predict = pipeline_clf.predict(X_test)\n",
    "func.show_model_result(pipeline_clf, X, y, y_test, y_predict)"
   ]
  }
 ],
 "metadata": {
  "kernelspec": {
   "display_name": "Python 3 (ipykernel)",
   "language": "python",
   "name": "python3"
  },
  "language_info": {
   "codemirror_mode": {
    "name": "ipython",
    "version": 3
   },
   "file_extension": ".py",
   "mimetype": "text/x-python",
   "name": "python",
   "nbconvert_exporter": "python",
   "pygments_lexer": "ipython3",
   "version": "3.9.12"
  }
 },
 "nbformat": 4,
 "nbformat_minor": 5
}
