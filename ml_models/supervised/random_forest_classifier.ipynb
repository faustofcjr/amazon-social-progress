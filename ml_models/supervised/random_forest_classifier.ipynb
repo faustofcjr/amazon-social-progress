{
 "cells": [
  {
   "cell_type": "code",
   "execution_count": null,
   "id": "ed1cafcc-cb8f-4485-ad72-b9f31ff3d250",
   "metadata": {},
   "outputs": [],
   "source": []
  }
 ],
 "metadata": {
  "kernelspec": {
   "display_name": "Python 3 (ipykernel)",
   "language": "python",
   "name": "python3"
  },
  "language_info": {
   "codemirror_mode": {
    "name": "ipython",
    "version": 3
   },
   "file_extension": ".py",
   "mimetype": "text/x-python",
   "name": "python",
   "nbconvert_exporter": "python",
   "pygments_lexer": "ipython3",
   "version": "3.9.12"
  }
 },
 "nbformat": 4,
 "nbformat_minor": 5
}
