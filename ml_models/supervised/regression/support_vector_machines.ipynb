{
 "cells": [
  {
   "cell_type": "markdown",
   "id": "7a9a4a4b-8446-41a0-82f5-43191188fe0b",
   "metadata": {},
   "source": [
    "```\n",
    "     _                                     ____             _       _   ____                                    \n",
    "    / \\   _ __ ___   __ _ _______  _ __   / ___|  ___   ___(_) __ _| | |  _ \\ _ __ ___   __ _ _ __ ___  ___ ___ \n",
    "   / _ \\ | '_ ` _ \\ / _` |_  / _ \\| '_ \\  \\___ \\ / _ \\ / __| |/ _` | | | |_) | '__/ _ \\ / _` | '__/ _ \\/ __/ __|\n",
    "  / ___ \\| | | | | | (_| |/ / (_) | | | |  ___) | (_) | (__| | (_| | | |  __/| | | (_) | (_| | | |  __/\\__ \\__ \\\n",
    " /_/   \\_\\_| |_| |_|\\__,_/___\\___/|_| |_| |____/ \\___/ \\___|_|\\__,_|_| |_|   |_|  \\___/ \\__, |_|  \\___||___/___/\n",
    "                                                                                        |___/                   \n",
    "```\n",
    "\n",
    "### Module\n",
    "__LinearSVR__ Linear Support Vector Regression\n",
    "\n",
    "### Goal\n",
    "Investigating the relationship between independent variables or features and a dependent variable or outcome.\n",
    "\n",
    "### Tools\n",
    "1. Pandas\n",
    "2. scikit-learn\n",
    "3. LinearSVR\n",
    "\n",
    "### Requirement\n",
    "1. File Definition\n",
    "2. Data Preparation\n",
    "3. hotspot_spi.csv generated\n",
    " \n",
    "### Data Source\n",
    "__${WORKDIR}__/data/ouptut/hotspot_spi.csv"
   ]
  },
  {
   "cell_type": "code",
   "execution_count": 1,
   "id": "4437c372-f7ac-4ac7-9c6b-d3ff2b9e3f24",
   "metadata": {},
   "outputs": [
    {
     "data": {
      "text/plain": [
       "['/home/fausto/Development/workspace/amazon-social-progress/ml_models/supervised/regression',\n",
       " '/opt/anaconda3/lib/python39.zip',\n",
       " '/opt/anaconda3/lib/python3.9',\n",
       " '/opt/anaconda3/lib/python3.9/lib-dynload',\n",
       " '',\n",
       " '/opt/anaconda3/lib/python3.9/site-packages',\n",
       " '/home/fausto/Development/workspace/amazon-social-progress/ml_models/supervised']"
      ]
     },
     "execution_count": 1,
     "metadata": {},
     "output_type": "execute_result"
    }
   ],
   "source": [
    "import os\n",
    "import sys\n",
    "\n",
    "supervised_dir = os.path.normpath(os.getcwd() + os.sep + os.pardir)\n",
    "sys.path.append(supervised_dir)\n",
    "sys.path"
   ]
  },
  {
   "cell_type": "code",
   "execution_count": 2,
   "id": "18f52dfa-da1d-455d-9d4c-6b4a01e24c8b",
   "metadata": {},
   "outputs": [],
   "source": [
    "import pandas as pd\n",
    "import numpy as np\n",
    "\n",
    "import functions_regression as freg\n",
    "from  load_dataset import LoadDataset, SpiType\n",
    "\n",
    "from sklearn.svm import LinearSVR\n",
    "from sklearn.preprocessing import scale\n",
    "from sklearn.model_selection import train_test_split"
   ]
  },
  {
   "cell_type": "markdown",
   "id": "e8b83d15-716a-4295-8c7e-186fbd8c30f4",
   "metadata": {},
   "source": [
    "## Get the data"
   ]
  },
  {
   "cell_type": "code",
   "execution_count": 3,
   "id": "58f68bd6-6949-4b9d-8f10-5ceb55d99f3a",
   "metadata": {},
   "outputs": [],
   "source": [
    "load_dataset = LoadDataset()\n",
    "X, y = load_dataset.return_X_y_regr(spi_type = SpiType.INDICATORS)\n",
    "\n",
    "columns_names = X.columns\n",
    "\n",
    "X = scale(X)\n",
    "y = scale(y)"
   ]
  },
  {
   "cell_type": "code",
   "execution_count": 4,
   "id": "5219cdc0-755f-4262-b185-197020d42de8",
   "metadata": {},
   "outputs": [
    {
     "name": "stdout",
     "output_type": "stream",
     "text": [
      "X.shape: (2313, 49) y.shape: (2313,)\n"
     ]
    }
   ],
   "source": [
    "print(\"X.shape:\", X.shape, \"y.shape:\", y.shape)"
   ]
  },
  {
   "cell_type": "markdown",
   "id": "72cb1553-c378-4315-a433-69493411c75e",
   "metadata": {},
   "source": [
    "### Split dataset into train and test sets"
   ]
  },
  {
   "cell_type": "code",
   "execution_count": 5,
   "id": "f39f0dfd-92ae-4a40-9da5-6f0f8ac7a486",
   "metadata": {},
   "outputs": [
    {
     "name": "stdout",
     "output_type": "stream",
     "text": [
      "X_train.shape: (1619, 49) y_train.shape: (1619,)\n",
      "X_test.shape: (694, 49) y_test.shape: (694,)\n"
     ]
    }
   ],
   "source": [
    "X_train, X_test, y_train, y_test = train_test_split(X, y, test_size=.3)\n",
    "\n",
    "print(\"X_train.shape:\", X_train.shape, \"y_train.shape:\", y_train.shape)\n",
    "print(\"X_test.shape:\", X_test.shape, \"y_test.shape:\", y_test.shape)"
   ]
  },
  {
   "cell_type": "markdown",
   "id": "0017a663-57af-4210-af32-2adc18c35634",
   "metadata": {},
   "source": [
    "## Modeling"
   ]
  },
  {
   "cell_type": "markdown",
   "id": "7f325fa8-4c9a-4478-b4a8-03c4570945a5",
   "metadata": {},
   "source": [
    "### Building, train and predict model"
   ]
  },
  {
   "cell_type": "code",
   "execution_count": 6,
   "id": "6364e367-c637-4894-9ba0-d58928f34a51",
   "metadata": {},
   "outputs": [],
   "source": [
    "params = {\n",
    "    \"C\": 1,\n",
    "    \"tol\": 1e-05,\n",
    "    \"epsilon\":  .3,\n",
    "    \"max_iter\": 50000,\n",
    "    \"random_state\": 0,\n",
    "    \"loss\": \"squared_epsilon_insensitive\"\n",
    "}\n",
    "\n",
    "regressor = LinearSVR(**params)\n",
    "regressor.fit(X_train, y_train)\n",
    "y_pred = regressor.predict(X_test)"
   ]
  },
  {
   "cell_type": "markdown",
   "id": "b615c1df-73ab-44b7-99eb-a15e4162c80b",
   "metadata": {},
   "source": [
    "### Getting Best Hyperparameter Optimization\n",
    "\n",
    "*Note: The execution of the code below may take a few minutes or hours.*\n",
    "\n",
    "*Uncomment and run it when you need to optimize hyperparameters.*"
   ]
  },
  {
   "cell_type": "code",
   "execution_count": 7,
   "id": "6a04e330-46b1-40c5-93ef-a3d91c65351d",
   "metadata": {},
   "outputs": [],
   "source": [
    "# from sklearn.model_selection import (GridSearchCV)\n",
    "# import warnings\n",
    "\n",
    "# warnings.filterwarnings(\"ignore\")\n",
    "\n",
    "# parameters = {   \n",
    "#     \"C\":[.01, .1, 1., 2., 3.],\n",
    "#     \"tol\": [1e-5, 1e-4, 1e-3, 1e-2],\n",
    "#     \"loss\": (\"epsilon_insensitive\", \"squared_epsilon_insensitive\"),\n",
    "#     \"epsilon\":[.1, .20, .3, .5]}\n",
    "\n",
    "# gridsearch = GridSearchCV(LinearSVR(), parameters)\n",
    "# gridsearch.fit(X_train, y_train)\n",
    "\n",
    "# print(\"Tuned Hyperparameters :\", gridsearch.best_params_)\n",
    "# print(\"Best Score:\",gridsearch.best_score_)"
   ]
  },
  {
   "cell_type": "markdown",
   "id": "f2e6b2c7-0e49-4dc6-b590-27f8c68a1dba",
   "metadata": {},
   "source": [
    "### Model Evaluation"
   ]
  },
  {
   "cell_type": "code",
   "execution_count": 8,
   "id": "9e6e1350-b8b6-4247-8c82-0d4feeb5e37d",
   "metadata": {},
   "outputs": [
    {
     "name": "stdout",
     "output_type": "stream",
     "text": [
      "\n",
      "Model-evaluation\n",
      "----------------------------------------------------------------------\n",
      "Score: 0.4399\n",
      "CV train mean score:0.4015\n",
      "K-fold CV average score: 0.40\n",
      "R²: 0.3740\n",
      "Max Error: 6.0876\n",
      "Explained Variance: 0.3753\n",
      "MSE: 0.6278\n",
      "RMSE: 0.3139\n"
     ]
    }
   ],
   "source": [
    "freg.evaluate_model(regressor, X, y, X_train, y_train, X_test, y_test, y_pred)"
   ]
  },
  {
   "cell_type": "code",
   "execution_count": 9,
   "id": "85cb7f5f-ccd1-4151-b5ec-562ed55a6c3e",
   "metadata": {},
   "outputs": [
    {
     "name": "stdout",
     "output_type": "stream",
     "text": [
      "Number of features seen during fit: 49\n",
      "Constants in decision function: [0.00693116]\n",
      "Weights assigned to the features:\n",
      " [ 0.00787696 -0.00472124 -0.01767597  0.02845086 -0.00834881 -0.00301651\n",
      "  0.05164138 -0.02530774  0.01036076 -0.03519666 -0.37758437  0.35237837\n",
      " -0.16414586  0.16488113  0.12655772  0.04684445  0.05697901  0.07204349\n",
      " -0.14805031 -0.01684792  0.05692154  0.03576105  0.17312666 -0.19089241\n",
      "  0.0266661  -0.09384033 -0.03130817 -0.05138501  0.05846673 -0.06354293\n",
      " -0.09455405 -0.00499718 -0.13626232  0.01906597  0.21302501  0.3036088\n",
      " -0.0583628  -0.03123619  0.05758304  0.04049984 -0.09641366 -0.04008256\n",
      "  0.01501179  0.04633592 -0.03471392 -0.02064003 -0.0075729  -0.08586796\n",
      "  0.14727452]\n"
     ]
    }
   ],
   "source": [
    "print(\"Number of features seen during fit:\", regressor.n_features_in_)\n",
    "print(\"Constants in decision function:\", regressor.intercept_)\n",
    "print(\"Weights assigned to the features:\\n\", regressor.coef_)"
   ]
  }
 ],
 "metadata": {
  "kernelspec": {
   "display_name": "Python 3 (ipykernel)",
   "language": "python",
   "name": "python3"
  },
  "language_info": {
   "codemirror_mode": {
    "name": "ipython",
    "version": 3
   },
   "file_extension": ".py",
   "mimetype": "text/x-python",
   "name": "python",
   "nbconvert_exporter": "python",
   "pygments_lexer": "ipython3",
   "version": "3.9.12"
  }
 },
 "nbformat": 4,
 "nbformat_minor": 5
}
