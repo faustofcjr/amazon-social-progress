{
 "cells": [
  {
   "cell_type": "markdown",
   "id": "7a9a4a4b-8446-41a0-82f5-43191188fe0b",
   "metadata": {},
   "source": [
    "```\n",
    "     _                                     ____             _       _   ____                                    \n",
    "    / \\   _ __ ___   __ _ _______  _ __   / ___|  ___   ___(_) __ _| | |  _ \\ _ __ ___   __ _ _ __ ___  ___ ___ \n",
    "   / _ \\ | '_ ` _ \\ / _` |_  / _ \\| '_ \\  \\___ \\ / _ \\ / __| |/ _` | | | |_) | '__/ _ \\ / _` | '__/ _ \\/ __/ __|\n",
    "  / ___ \\| | | | | | (_| |/ / (_) | | | |  ___) | (_) | (__| | (_| | | |  __/| | | (_) | (_| | | |  __/\\__ \\__ \\\n",
    " /_/   \\_\\_| |_| |_|\\__,_/___\\___/|_| |_| |____/ \\___/ \\___|_|\\__,_|_| |_|   |_|  \\___/ \\__, |_|  \\___||___/___/\n",
    "                                                                                        |___/                   \n",
    "```\n",
    "\n",
    "\n",
    "### Module\n",
    "__KernelRidge__ Kernel ridge regression.\n",
    "\n",
    "### Goal\n",
    "Investigating the relationship between independent variables or features and a dependent variable or outcome.\n",
    "\n",
    "### Tools\n",
    "1. Pandas\n",
    "2. scikit-learn\n",
    "3. KernelRidge\n",
    "\n",
    "### Requirement\n",
    "1. File Definition\n",
    "2. Data Preparation\n",
    "3. hotspot_spi.csv generated\n",
    " \n",
    "### Data Source\n",
    "__${WORKDIR}__/data/ouptut/hotspot_spi.csv"
   ]
  },
  {
   "cell_type": "code",
   "execution_count": 1,
   "id": "73df59d9-f63d-4c8c-9f0f-ea45bbb61d7e",
   "metadata": {},
   "outputs": [
    {
     "data": {
      "text/plain": [
       "['/home/fausto/Development/workspace/amazon-social-progress/ml_models/supervised/regression',\n",
       " '/opt/anaconda3/lib/python39.zip',\n",
       " '/opt/anaconda3/lib/python3.9',\n",
       " '/opt/anaconda3/lib/python3.9/lib-dynload',\n",
       " '',\n",
       " '/opt/anaconda3/lib/python3.9/site-packages',\n",
       " '/home/fausto/Development/workspace/amazon-social-progress/ml_models/supervised']"
      ]
     },
     "execution_count": 1,
     "metadata": {},
     "output_type": "execute_result"
    }
   ],
   "source": [
    "import os\n",
    "import sys\n",
    "\n",
    "supervised_dir = os.path.normpath(os.getcwd() + os.sep + os.pardir)\n",
    "sys.path.append(supervised_dir)\n",
    "sys.path"
   ]
  },
  {
   "cell_type": "code",
   "execution_count": 2,
   "id": "18f52dfa-da1d-455d-9d4c-6b4a01e24c8b",
   "metadata": {},
   "outputs": [],
   "source": [
    "import pandas as pd\n",
    "import numpy as np\n",
    "\n",
    "import functions_regression as freg\n",
    "from  load_dataset import LoadDataset, SpiType\n",
    "\n",
    "from sklearn.kernel_ridge import KernelRidge\n",
    "\n",
    "from sklearn.preprocessing import scale\n",
    "from sklearn.model_selection import train_test_split"
   ]
  },
  {
   "cell_type": "markdown",
   "id": "e8b83d15-716a-4295-8c7e-186fbd8c30f4",
   "metadata": {},
   "source": [
    "## Get the data"
   ]
  },
  {
   "cell_type": "code",
   "execution_count": 3,
   "id": "58f68bd6-6949-4b9d-8f10-5ceb55d99f3a",
   "metadata": {},
   "outputs": [],
   "source": [
    "load_dataset = LoadDataset()\n",
    "X, y = load_dataset.return_X_y_regr(spi_type = SpiType.INDICATORS)\n",
    "\n",
    "columns_names = X.columns\n",
    "\n",
    "X = scale(X)"
   ]
  },
  {
   "cell_type": "code",
   "execution_count": 4,
   "id": "5219cdc0-755f-4262-b185-197020d42de8",
   "metadata": {},
   "outputs": [
    {
     "name": "stdout",
     "output_type": "stream",
     "text": [
      "X.shape: (2313, 49) y.shape: (2313,)\n"
     ]
    }
   ],
   "source": [
    "print(\"X.shape:\", X.shape, \"y.shape:\", y.shape)"
   ]
  },
  {
   "cell_type": "markdown",
   "id": "72cb1553-c378-4315-a433-69493411c75e",
   "metadata": {},
   "source": [
    "### Split dataset into train and test sets"
   ]
  },
  {
   "cell_type": "code",
   "execution_count": 5,
   "id": "f39f0dfd-92ae-4a40-9da5-6f0f8ac7a486",
   "metadata": {},
   "outputs": [
    {
     "name": "stdout",
     "output_type": "stream",
     "text": [
      "X_train.shape: (1619, 49) y_train.shape: (1619,)\n",
      "X_test.shape: (694, 49) y_test.shape: (694,)\n"
     ]
    }
   ],
   "source": [
    "X_train, X_test, y_train, y_test = train_test_split(X, y, test_size=.3)\n",
    "\n",
    "print(\"X_train.shape:\", X_train.shape, \"y_train.shape:\", y_train.shape)\n",
    "print(\"X_test.shape:\", X_test.shape, \"y_test.shape:\", y_test.shape)"
   ]
  },
  {
   "cell_type": "markdown",
   "id": "0017a663-57af-4210-af32-2adc18c35634",
   "metadata": {},
   "source": [
    "## Modeling"
   ]
  },
  {
   "cell_type": "markdown",
   "id": "f2e6b2c7-0e49-4dc6-b590-27f8c68a1dba",
   "metadata": {},
   "source": [
    "### Building, train and predict model"
   ]
  },
  {
   "cell_type": "code",
   "execution_count": 11,
   "id": "9e6e1350-b8b6-4247-8c82-0d4feeb5e37d",
   "metadata": {},
   "outputs": [],
   "source": [
    "params = {\n",
    "    \"alpha\": 1.0\n",
    "}\n",
    "\n",
    "regressor = KernelRidge(**params)\n",
    "regressor.fit(X_train, y_train)\n",
    "y_pred = regressor.predict(X_test)"
   ]
  },
  {
   "cell_type": "markdown",
   "id": "aacf02fb-c99e-42bb-9000-06045f8d261a",
   "metadata": {},
   "source": [
    "### Getting Best Hyperparameter Optimization\n",
    "\n",
    "*Note: The execution of the code below may take a few minutes or hours.*\n",
    "\n",
    "*Uncomment and run it when you need to optimize hyperparameters.*"
   ]
  },
  {
   "cell_type": "code",
   "execution_count": 7,
   "id": "2276f36c-7d00-4b16-b5d5-2328e388c98b",
   "metadata": {},
   "outputs": [
    {
     "name": "stdout",
     "output_type": "stream",
     "text": [
      "Tuned Hyperparameters : {'alpha': 0.1}\n",
      "Best Score: -2.806441232091244\n"
     ]
    }
   ],
   "source": [
    "# from sklearn.model_selection import (GridSearchCV)\n",
    "# import warnings\n",
    "\n",
    "# warnings.filterwarnings(\"ignore\")\n",
    "\n",
    "# parameters = {\n",
    "#     \"alpha\": [0.0001, 0.001, 0.01, 0.1]\n",
    "# }\n",
    "\n",
    "# gridsearch = GridSearchCV(KernelRidge(), parameters)\n",
    "# gridsearch.fit(X_train, y_train)\n",
    "\n",
    "# print(\"Tuned Hyperparameters :\", gridsearch.best_params_)\n",
    "# print(\"Best Score:\",gridsearch.best_score_)"
   ]
  },
  {
   "cell_type": "markdown",
   "id": "24834861-a2df-4157-953d-f5c16b1c41cb",
   "metadata": {},
   "source": [
    "### Model Evaluation"
   ]
  },
  {
   "cell_type": "code",
   "execution_count": 12,
   "id": "aecb65fd-a871-4326-a3a2-81058bb2c0bb",
   "metadata": {},
   "outputs": [
    {
     "name": "stdout",
     "output_type": "stream",
     "text": [
      "\n",
      "Model-evaluation\n",
      "----------------------------------------------------------------------\n",
      "Score: -2.5596\n",
      "CV train mean score:-2.8221\n",
      "K-fold CV average score: -2.85\n",
      "R²: -2.4925\n",
      "Max Error: 2367.1205\n",
      "Explained Variance: 0.4272\n",
      "MSE: 1511761.0497\n",
      "RMSE: 755880.5248\n"
     ]
    }
   ],
   "source": [
    "freg.evaluate_model(regressor, X, y, X_train, y_train, X_test, y_test, y_pred)"
   ]
  },
  {
   "cell_type": "markdown",
   "id": "7faafa33-f968-4bf3-8e2a-1007c347f53d",
   "metadata": {},
   "source": [
    "### Plor Prediction Result"
   ]
  },
  {
   "cell_type": "code",
   "execution_count": 9,
   "id": "8010daa1-e5cc-4015-8f42-f22fc7e0b0e5",
   "metadata": {},
   "outputs": [
    {
     "data": {
      "image/png": "[encoded data removed]",
      "text/plain": [
       "<Figure size 432x288 with 1 Axes>"
      ]
     },
     "metadata": {
      "needs_background": "light"
     },
     "output_type": "display_data"
    }
   ],
   "source": [
    "freg.plot_prediction_result(y_test, y_pred)"
   ]
  }
 ],
 "metadata": {
  "kernelspec": {
   "display_name": "Python 3 (ipykernel)",
   "language": "python",
   "name": "python3"
  },
  "language_info": {
   "codemirror_mode": {
    "name": "ipython",
    "version": 3
   },
   "file_extension": ".py",
   "mimetype": "text/x-python",
   "name": "python",
   "nbconvert_exporter": "python",
   "pygments_lexer": "ipython3",
   "version": "3.9.12"
  }
 },
 "nbformat": 4,
 "nbformat_minor": 5
}
