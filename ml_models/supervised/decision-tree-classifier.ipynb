{
 "cells": [
  {
   "cell_type": "markdown",
   "id": "0f94e630-f097-433a-afd7-4a0909c748a1",
   "metadata": {},
   "source": [
    "# DecisionTreeClassifier\n",
    "\n",
    "Application of Sklearn's decision tree classifier"
   ]
  },
  {
   "cell_type": "code",
   "execution_count": 1,
   "id": "ffd4804a-87ba-401c-b221-c9506f5fe0b3",
   "metadata": {},
   "outputs": [],
   "source": [
    "import os\n",
    "import pandas as pd\n",
    "\n",
    "import functions as func\n",
    "\n",
    "from sklearn.pipeline import make_pipeline\n",
    "from sklearn.tree import DecisionTreeClassifier\n",
    "from sklearn.preprocessing import LabelEncoder, StandardScaler\n",
    "from sklearn.model_selection import (cross_validate, train_test_split)"
   ]
  },
  {
   "cell_type": "markdown",
   "id": "4d76ed06-8cdb-4ff3-8ff0-0e10479d7a2c",
   "metadata": {},
   "source": [
    "## Constants"
   ]
  },
  {
   "cell_type": "code",
   "execution_count": 2,
   "id": "49b3fe4e-734a-45ea-b7fc-99f421f6e24f",
   "metadata": {},
   "outputs": [],
   "source": [
    "WORKDIR = \"\" #os.path.abspath(os.getcwd())\n",
    "YEARS_AVAILABLE = [2014, 2018, 2021]"
   ]
  },
  {
   "cell_type": "markdown",
   "id": "69c03f9f-f0fa-47a2-9cb8-97435020de85",
   "metadata": {},
   "source": [
    "## Get the data"
   ]
  },
  {
   "cell_type": "code",
   "execution_count": 3,
   "id": "343e8233-dd5b-4f98-8f4e-01d71e07e385",
   "metadata": {},
   "outputs": [],
   "source": [
    "file = ''.join([WORKDIR, \"../../data/output/hotspot_spi.csv\"]) \n",
    "dataset = pd.read_csv(file)"
   ]
  },
  {
   "cell_type": "markdown",
   "id": "4ca9fb56-6d8a-497a-8b84-23f407c55c9a",
   "metadata": {},
   "source": [
    "## 1º Scenario - Consider only SPI Dimensions"
   ]
  },
  {
   "cell_type": "markdown",
   "id": "81d14df8-3ff7-4f41-a2bf-502f4e9d5d95",
   "metadata": {},
   "source": [
    "### Feature Selection\n",
    "\n",
    "_Legend:_\n",
    "\n",
    "X: Feature Variables (or Independent Variables)\n",
    "\n",
    "y: Target Variables (or dependent Variables)"
   ]
  },
  {
   "cell_type": "code",
   "execution_count": 4,
   "id": "9b5b8150-95d0-4a7c-bf6a-8e46bdbaf50d",
   "metadata": {},
   "outputs": [],
   "source": [
    "X = dataset[[\"Necessidades Humanas Básicas\", \"Fundamentos para o Bem-Estar\", \"Oportunidades\"]]\n",
    "\n",
    "\n",
    "# X = dataset[[\n",
    "#     \"Nutrição e cuidados médicos básicos\", \"Água e saneamento\",\"Moradia\",\"Segurança pessoal\",\n",
    "#     \"Acesso ao conhecimento básico\", \"Acesso à informação e comunicação\", \"Saúde e bem-estar\", \"Qualidade do meio ambiente\",\n",
    "#     \"Direitos individuais\", \"Liberdade individual e de escolha\", \"Tolerância e inclusão\", \"Acesso à educação superior\"]]\n",
    "\n",
    "\n",
    "\n",
    "# X= dataset[[ \n",
    "#     \"Mortalidade infantil até 5 anos\", \"Mortalidade materna\", \"Mortalidade por desnutrição\", \"Mortalidade por doenças infecciosas\", \"Subnutrição\", \n",
    "#     \"Abastecimento de água\", \"Esgotamento sanitário\", \"Índice de atendimento de agua\",\n",
    "#     \"Coleta de lixo\", \"Moradias com iluminação adequada\", \"Moradias com parede adequada\", \"Moradias com piso adequado\",\n",
    "#     \"Assassinatos de jovens\", \"Assassinatos de jovens Taxa\", \"Homicídios\", \"Homicídios Taxa\", \"Mortes por acidente no trânsito\",\n",
    "    \n",
    "#     \"Abandono escolar ensino fundamental\", \"Distorção idade-série ensino fundamental\", \"Distorção idade-série ensino médio\", \"Qualidade da educação Ideb ensino fundamental\", \"Reprovação escolar ensino fundamental\",\n",
    "#     \"Densidade internet banda-larga\", \"Densidade telefonia fixa\", \"Densidade telefonia movel\", \"Densidade TV por assinatura\",\n",
    "#     \"Mortalidade por diabetes mellitus\", \"Mortalidade por câncer\", \"Mortalidade por doenças circulatórias\", \"Mortalidade por doenças respiratórias\", \"Mortalidade por suicídios\",\n",
    "#     \"Áreas Protegidas\", \"Desmatamento acumulado\", \"Desmatamento recente\", \"Emissões CO2\", \"Focos de calor por habitantes\", \n",
    "    \n",
    "#     \"Diversidade Partidária\", \"Transporte Público\", \n",
    "#     \"Acesso à cultura, esporte e lazer\", \"Gravidez na infância e adolescência\", \"Trabalho Infantil\" , \"Vulnerabilidade familiar\",\n",
    "#     \"Violência contra indígenas\", \"Violência contra indígenas Taxa\", \"Violência contra mulheres\", \"Violência infantil\", \"Violência infantil Taxa\",\n",
    "#     \"Empregos ensino superior\", \"Mulheres com empregos ensino superior\"\n",
    "# ]]\n",
    "\n",
    "\n",
    "y = LabelEncoder().fit_transform(dataset[\"riscofogocat\"])"
   ]
  },
  {
   "cell_type": "markdown",
   "id": "e36ef483-3914-4d3b-9c5a-cd98f0cb0c22",
   "metadata": {},
   "source": [
    "### Split dataset into train and test sets"
   ]
  },
  {
   "cell_type": "code",
   "execution_count": 5,
   "id": "d67c9237-608f-4c5a-91b0-9697c6f74daf",
   "metadata": {},
   "outputs": [
    {
     "name": "stdout",
     "output_type": "stream",
     "text": [
      "X_train.shape: (1737, 3) y_train.shape: (1737,)\n",
      "X_test.shape: (579, 3) y_test.shape: (579,)\n"
     ]
    }
   ],
   "source": [
    "X_train, X_test, y_train, y_test = train_test_split(X, y, test_size=0.25, random_state=42)\n",
    "\n",
    "print(\"X_train.shape:\", X_train.shape, \"y_train.shape:\", y_train.shape)\n",
    "print(\"X_test.shape:\", X_test.shape, \"y_test.shape:\", y_test.shape)"
   ]
  },
  {
   "cell_type": "markdown",
   "id": "c47d6979-0fd5-47ee-a1d6-685f9c213595",
   "metadata": {},
   "source": [
    "## Modeling"
   ]
  },
  {
   "cell_type": "markdown",
   "id": "36d5bbbd-411d-4399-9634-4fd2c155ae03",
   "metadata": {},
   "source": [
    "**Building, train and predict model**"
   ]
  },
  {
   "cell_type": "markdown",
   "id": "83395e2d-8c14-4122-87f9-66d8e8a9c136",
   "metadata": {},
   "source": [
    "**Getting Best Hyperparameter Optimization**\n",
    "\n",
    "*Note: The execution of the code below may take a few minutes or hours.*\n",
    "\n",
    "*Uncomment and run it when you need to optimize hyperparameters.*"
   ]
  },
  {
   "cell_type": "code",
   "execution_count": 6,
   "id": "7baf47de-234b-47ad-af25-959b6d1c3162",
   "metadata": {},
   "outputs": [],
   "source": [
    "# space = dict()\n",
    "# space['criterion'] = [\"gini\", \"entropy\"]\n",
    "# space['splitter'] = [\"best\", \"random\"]\n",
    "# space['max_depth'] = [n for n in range(50)]\n",
    "# space['min_samples_split'] = [n for n in range(10)]\n",
    "# space['min_samples_leaf'] = [n for n in range(10)]\n",
    "\n",
    "# func.show_best_hyperparameter_optimization(\n",
    "#     DecisionTreeClassifier(), \n",
    "#     space, \n",
    "#     X_train, \n",
    "#     y_train\n",
    "# )"
   ]
  },
  {
   "cell_type": "code",
   "execution_count": 7,
   "id": "3330baab-9e68-47b1-a6ae-76bfe56a5020",
   "metadata": {},
   "outputs": [],
   "source": [
    "decision_tree_classifier = DecisionTreeClassifier()\n",
    "pipeline = make_pipeline(\n",
    "    StandardScaler(),\n",
    "    decision_tree_classifier\n",
    ")\n",
    "\n",
    "_ = pipeline.fit(X_train, y_train)"
   ]
  },
  {
   "cell_type": "markdown",
   "id": "9288fd0e-74b5-4857-a0e1-0b1797b768a7",
   "metadata": {},
   "source": [
    "__Check the most relevant features for the training model__"
   ]
  },
  {
   "cell_type": "code",
   "execution_count": 8,
   "id": "622cbd52-8173-405c-ad41-dbc4bfc4d0cf",
   "metadata": {},
   "outputs": [
    {
     "data": {
      "text/html": [
       "<div>\n",
       "<style scoped>\n",
       "    .dataframe tbody tr th:only-of-type {\n",
       "        vertical-align: middle;\n",
       "    }\n",
       "\n",
       "    .dataframe tbody tr th {\n",
       "        vertical-align: top;\n",
       "    }\n",
       "\n",
       "    .dataframe thead th {\n",
       "        text-align: right;\n",
       "    }\n",
       "</style>\n",
       "<table border=\"1\" class=\"dataframe\">\n",
       "  <thead>\n",
       "    <tr style=\"text-align: right;\">\n",
       "      <th></th>\n",
       "      <th>Features</th>\n",
       "      <th>Relevance (%)</th>\n",
       "    </tr>\n",
       "  </thead>\n",
       "  <tbody>\n",
       "    <tr>\n",
       "      <th>0</th>\n",
       "      <td>Necessidades Humanas Básicas</td>\n",
       "      <td>36</td>\n",
       "    </tr>\n",
       "    <tr>\n",
       "      <th>1</th>\n",
       "      <td>Fundamentos para o Bem-Estar</td>\n",
       "      <td>34</td>\n",
       "    </tr>\n",
       "    <tr>\n",
       "      <th>2</th>\n",
       "      <td>Oportunidades</td>\n",
       "      <td>30</td>\n",
       "    </tr>\n",
       "  </tbody>\n",
       "</table>\n",
       "</div>"
      ],
      "text/plain": [
       "                       Features  Relevance (%)\n",
       "0  Necessidades Humanas Básicas             36\n",
       "1  Fundamentos para o Bem-Estar             34\n",
       "2                 Oportunidades             30"
      ]
     },
     "execution_count": 8,
     "metadata": {},
     "output_type": "execute_result"
    }
   ],
   "source": [
    "func.get_feature_importances(decision_tree_classifier, X_train)"
   ]
  },
  {
   "cell_type": "markdown",
   "id": "567444ca-7b05-4146-923a-b76e1a13e84d",
   "metadata": {},
   "source": [
    "__Predict and show model result__"
   ]
  },
  {
   "cell_type": "code",
   "execution_count": 9,
   "id": "94612b12-6001-4dc5-9fb2-845e5baa577e",
   "metadata": {},
   "outputs": [
    {
     "name": "stdout",
     "output_type": "stream",
     "text": [
      "\n",
      "Computing cross-validated metrics\n",
      "----------------------------------------------------------------------\n",
      "Scores: [0.25646552 0.23542117 0.25917927 0.2699784  0.26133909]\n",
      "Mean = 0.26 / Standard Deviation = 0.01\n",
      "\n",
      "Confunsion Matrix\n",
      "----------------------------------------------------------------------\n",
      "[[59 27 40 16 25]\n",
      " [30 13 30  8 20]\n",
      " [56 16 46 19 28]\n",
      " [26 10 17  3  9]\n",
      " [19 15 25  5 17]]\n",
      "\n",
      "Classification Report\n",
      "----------------------------------------------------------------------\n",
      "              precision    recall  f1-score   support\n",
      "\n",
      "           0       0.31      0.35      0.33       167\n",
      "           1       0.16      0.13      0.14       101\n",
      "           2       0.29      0.28      0.28       165\n",
      "           3       0.06      0.05      0.05        65\n",
      "           4       0.17      0.21      0.19        81\n",
      "\n",
      "    accuracy                           0.24       579\n",
      "   macro avg       0.20      0.20      0.20       579\n",
      "weighted avg       0.23      0.24      0.23       579\n",
      "\n",
      "----------------------------------------------------------------------\n",
      "Accuracy: 0.24\n"
     ]
    },
    {
     "ename": "ValueError",
     "evalue": "Target is multiclass but average='binary'. Please choose another average setting, one of [None, 'micro', 'macro', 'weighted'].",
     "output_type": "error",
     "traceback": [
      "\u001b[0;31m---------------------------------------------------------------------------\u001b[0m",
      "\u001b[0;31mValueError\u001b[0m                                Traceback (most recent call last)",
      "Input \u001b[0;32mIn [9]\u001b[0m, in \u001b[0;36m<cell line: 2>\u001b[0;34m()\u001b[0m\n\u001b[1;32m      1\u001b[0m y_predict \u001b[38;5;241m=\u001b[39m pipeline\u001b[38;5;241m.\u001b[39mpredict(X_test)\n\u001b[0;32m----> 2\u001b[0m \u001b[43mfunc\u001b[49m\u001b[38;5;241;43m.\u001b[39;49m\u001b[43mshow_model_result\u001b[49m\u001b[43m(\u001b[49m\u001b[43mpipeline\u001b[49m\u001b[43m,\u001b[49m\u001b[43m \u001b[49m\u001b[43mX\u001b[49m\u001b[43m,\u001b[49m\u001b[43m \u001b[49m\u001b[43my\u001b[49m\u001b[43m,\u001b[49m\u001b[43m \u001b[49m\u001b[43my_test\u001b[49m\u001b[43m,\u001b[49m\u001b[43m \u001b[49m\u001b[43my_predict\u001b[49m\u001b[43m)\u001b[49m\n",
      "File \u001b[0;32m~/Development/workspace/caipora/ml_models/supervised/functions.py:54\u001b[0m, in \u001b[0;36mshow_model_result\u001b[0;34m(clf, X, y, y_test, y_predict)\u001b[0m\n\u001b[1;32m     52\u001b[0m \u001b[38;5;28mprint\u001b[39m(\u001b[38;5;124m\"\u001b[39m\u001b[38;5;124m----------------------------------------------------------------------\u001b[39m\u001b[38;5;124m\"\u001b[39m)\n\u001b[1;32m     53\u001b[0m \u001b[38;5;28mprint\u001b[39m(\u001b[38;5;124m\"\u001b[39m\u001b[38;5;124mAccuracy: \u001b[39m\u001b[38;5;132;01m%0.2f\u001b[39;00m\u001b[38;5;124m\"\u001b[39m \u001b[38;5;241m%\u001b[39m metrics\u001b[38;5;241m.\u001b[39maccuracy_score(y_test, y_predict))\n\u001b[0;32m---> 54\u001b[0m \u001b[38;5;28mprint\u001b[39m(\u001b[38;5;124m\"\u001b[39m\u001b[38;5;124mPrecicion: \u001b[39m\u001b[38;5;132;01m%0.2f\u001b[39;00m\u001b[38;5;124m\"\u001b[39m \u001b[38;5;241m%\u001b[39m \u001b[43mmetrics\u001b[49m\u001b[38;5;241;43m.\u001b[39;49m\u001b[43mprecision_score\u001b[49m\u001b[43m(\u001b[49m\u001b[43my_test\u001b[49m\u001b[43m,\u001b[49m\u001b[43m \u001b[49m\u001b[43my_predict\u001b[49m\u001b[43m)\u001b[49m)\n\u001b[1;32m     55\u001b[0m \u001b[38;5;28mprint\u001b[39m(\u001b[38;5;124m\"\u001b[39m\u001b[38;5;124mSensitivity aka Recall: \u001b[39m\u001b[38;5;132;01m%0.2f\u001b[39;00m\u001b[38;5;124m\"\u001b[39m \u001b[38;5;241m%\u001b[39m metrics\u001b[38;5;241m.\u001b[39mrecall_score(y_test, y_predict))\n\u001b[1;32m     56\u001b[0m \u001b[38;5;28mprint\u001b[39m(\u001b[38;5;124m\"\u001b[39m\u001b[38;5;124mF1-Score: \u001b[39m\u001b[38;5;132;01m%0.2f\u001b[39;00m\u001b[38;5;124m\"\u001b[39m \u001b[38;5;241m%\u001b[39m metrics\u001b[38;5;241m.\u001b[39mf1_score(y_test, y_predict))\n",
      "File \u001b[0;32m/opt/anaconda3/lib/python3.9/site-packages/sklearn/metrics/_classification.py:1757\u001b[0m, in \u001b[0;36mprecision_score\u001b[0;34m(y_true, y_pred, labels, pos_label, average, sample_weight, zero_division)\u001b[0m\n\u001b[1;32m   1628\u001b[0m \u001b[38;5;28;01mdef\u001b[39;00m \u001b[38;5;21mprecision_score\u001b[39m(\n\u001b[1;32m   1629\u001b[0m     y_true,\n\u001b[1;32m   1630\u001b[0m     y_pred,\n\u001b[0;32m   (...)\u001b[0m\n\u001b[1;32m   1636\u001b[0m     zero_division\u001b[38;5;241m=\u001b[39m\u001b[38;5;124m\"\u001b[39m\u001b[38;5;124mwarn\u001b[39m\u001b[38;5;124m\"\u001b[39m,\n\u001b[1;32m   1637\u001b[0m ):\n\u001b[1;32m   1638\u001b[0m     \u001b[38;5;124;03m\"\"\"Compute the precision.\u001b[39;00m\n\u001b[1;32m   1639\u001b[0m \n\u001b[1;32m   1640\u001b[0m \u001b[38;5;124;03m    The precision is the ratio ``tp / (tp + fp)`` where ``tp`` is the number of\u001b[39;00m\n\u001b[0;32m   (...)\u001b[0m\n\u001b[1;32m   1755\u001b[0m \u001b[38;5;124;03m    array([0.5, 1. , 1. ])\u001b[39;00m\n\u001b[1;32m   1756\u001b[0m \u001b[38;5;124;03m    \"\"\"\u001b[39;00m\n\u001b[0;32m-> 1757\u001b[0m     p, _, _, _ \u001b[38;5;241m=\u001b[39m \u001b[43mprecision_recall_fscore_support\u001b[49m\u001b[43m(\u001b[49m\n\u001b[1;32m   1758\u001b[0m \u001b[43m        \u001b[49m\u001b[43my_true\u001b[49m\u001b[43m,\u001b[49m\n\u001b[1;32m   1759\u001b[0m \u001b[43m        \u001b[49m\u001b[43my_pred\u001b[49m\u001b[43m,\u001b[49m\n\u001b[1;32m   1760\u001b[0m \u001b[43m        \u001b[49m\u001b[43mlabels\u001b[49m\u001b[38;5;241;43m=\u001b[39;49m\u001b[43mlabels\u001b[49m\u001b[43m,\u001b[49m\n\u001b[1;32m   1761\u001b[0m \u001b[43m        \u001b[49m\u001b[43mpos_label\u001b[49m\u001b[38;5;241;43m=\u001b[39;49m\u001b[43mpos_label\u001b[49m\u001b[43m,\u001b[49m\n\u001b[1;32m   1762\u001b[0m \u001b[43m        \u001b[49m\u001b[43maverage\u001b[49m\u001b[38;5;241;43m=\u001b[39;49m\u001b[43maverage\u001b[49m\u001b[43m,\u001b[49m\n\u001b[1;32m   1763\u001b[0m \u001b[43m        \u001b[49m\u001b[43mwarn_for\u001b[49m\u001b[38;5;241;43m=\u001b[39;49m\u001b[43m(\u001b[49m\u001b[38;5;124;43m\"\u001b[39;49m\u001b[38;5;124;43mprecision\u001b[39;49m\u001b[38;5;124;43m\"\u001b[39;49m\u001b[43m,\u001b[49m\u001b[43m)\u001b[49m\u001b[43m,\u001b[49m\n\u001b[1;32m   1764\u001b[0m \u001b[43m        \u001b[49m\u001b[43msample_weight\u001b[49m\u001b[38;5;241;43m=\u001b[39;49m\u001b[43msample_weight\u001b[49m\u001b[43m,\u001b[49m\n\u001b[1;32m   1765\u001b[0m \u001b[43m        \u001b[49m\u001b[43mzero_division\u001b[49m\u001b[38;5;241;43m=\u001b[39;49m\u001b[43mzero_division\u001b[49m\u001b[43m,\u001b[49m\n\u001b[1;32m   1766\u001b[0m \u001b[43m    \u001b[49m\u001b[43m)\u001b[49m\n\u001b[1;32m   1767\u001b[0m     \u001b[38;5;28;01mreturn\u001b[39;00m p\n",
      "File \u001b[0;32m/opt/anaconda3/lib/python3.9/site-packages/sklearn/metrics/_classification.py:1544\u001b[0m, in \u001b[0;36mprecision_recall_fscore_support\u001b[0;34m(y_true, y_pred, beta, labels, pos_label, average, warn_for, sample_weight, zero_division)\u001b[0m\n\u001b[1;32m   1542\u001b[0m \u001b[38;5;28;01mif\u001b[39;00m beta \u001b[38;5;241m<\u001b[39m \u001b[38;5;241m0\u001b[39m:\n\u001b[1;32m   1543\u001b[0m     \u001b[38;5;28;01mraise\u001b[39;00m \u001b[38;5;167;01mValueError\u001b[39;00m(\u001b[38;5;124m\"\u001b[39m\u001b[38;5;124mbeta should be >=0 in the F-beta score\u001b[39m\u001b[38;5;124m\"\u001b[39m)\n\u001b[0;32m-> 1544\u001b[0m labels \u001b[38;5;241m=\u001b[39m \u001b[43m_check_set_wise_labels\u001b[49m\u001b[43m(\u001b[49m\u001b[43my_true\u001b[49m\u001b[43m,\u001b[49m\u001b[43m \u001b[49m\u001b[43my_pred\u001b[49m\u001b[43m,\u001b[49m\u001b[43m \u001b[49m\u001b[43maverage\u001b[49m\u001b[43m,\u001b[49m\u001b[43m \u001b[49m\u001b[43mlabels\u001b[49m\u001b[43m,\u001b[49m\u001b[43m \u001b[49m\u001b[43mpos_label\u001b[49m\u001b[43m)\u001b[49m\n\u001b[1;32m   1546\u001b[0m \u001b[38;5;66;03m# Calculate tp_sum, pred_sum, true_sum ###\u001b[39;00m\n\u001b[1;32m   1547\u001b[0m samplewise \u001b[38;5;241m=\u001b[39m average \u001b[38;5;241m==\u001b[39m \u001b[38;5;124m\"\u001b[39m\u001b[38;5;124msamples\u001b[39m\u001b[38;5;124m\"\u001b[39m\n",
      "File \u001b[0;32m/opt/anaconda3/lib/python3.9/site-packages/sklearn/metrics/_classification.py:1365\u001b[0m, in \u001b[0;36m_check_set_wise_labels\u001b[0;34m(y_true, y_pred, average, labels, pos_label)\u001b[0m\n\u001b[1;32m   1363\u001b[0m         \u001b[38;5;28;01mif\u001b[39;00m y_type \u001b[38;5;241m==\u001b[39m \u001b[38;5;124m\"\u001b[39m\u001b[38;5;124mmulticlass\u001b[39m\u001b[38;5;124m\"\u001b[39m:\n\u001b[1;32m   1364\u001b[0m             average_options\u001b[38;5;241m.\u001b[39mremove(\u001b[38;5;124m\"\u001b[39m\u001b[38;5;124msamples\u001b[39m\u001b[38;5;124m\"\u001b[39m)\n\u001b[0;32m-> 1365\u001b[0m         \u001b[38;5;28;01mraise\u001b[39;00m \u001b[38;5;167;01mValueError\u001b[39;00m(\n\u001b[1;32m   1366\u001b[0m             \u001b[38;5;124m\"\u001b[39m\u001b[38;5;124mTarget is \u001b[39m\u001b[38;5;132;01m%s\u001b[39;00m\u001b[38;5;124m but average=\u001b[39m\u001b[38;5;124m'\u001b[39m\u001b[38;5;124mbinary\u001b[39m\u001b[38;5;124m'\u001b[39m\u001b[38;5;124m. Please \u001b[39m\u001b[38;5;124m\"\u001b[39m\n\u001b[1;32m   1367\u001b[0m             \u001b[38;5;124m\"\u001b[39m\u001b[38;5;124mchoose another average setting, one of \u001b[39m\u001b[38;5;132;01m%r\u001b[39;00m\u001b[38;5;124m.\u001b[39m\u001b[38;5;124m\"\u001b[39m \u001b[38;5;241m%\u001b[39m (y_type, average_options)\n\u001b[1;32m   1368\u001b[0m         )\n\u001b[1;32m   1369\u001b[0m \u001b[38;5;28;01melif\u001b[39;00m pos_label \u001b[38;5;129;01mnot\u001b[39;00m \u001b[38;5;129;01min\u001b[39;00m (\u001b[38;5;28;01mNone\u001b[39;00m, \u001b[38;5;241m1\u001b[39m):\n\u001b[1;32m   1370\u001b[0m     warnings\u001b[38;5;241m.\u001b[39mwarn(\n\u001b[1;32m   1371\u001b[0m         \u001b[38;5;124m\"\u001b[39m\u001b[38;5;124mNote that pos_label (set to \u001b[39m\u001b[38;5;132;01m%r\u001b[39;00m\u001b[38;5;124m) is ignored when \u001b[39m\u001b[38;5;124m\"\u001b[39m\n\u001b[1;32m   1372\u001b[0m         \u001b[38;5;124m\"\u001b[39m\u001b[38;5;124maverage != \u001b[39m\u001b[38;5;124m'\u001b[39m\u001b[38;5;124mbinary\u001b[39m\u001b[38;5;124m'\u001b[39m\u001b[38;5;124m (got \u001b[39m\u001b[38;5;132;01m%r\u001b[39;00m\u001b[38;5;124m). You may use \u001b[39m\u001b[38;5;124m\"\u001b[39m\n\u001b[0;32m   (...)\u001b[0m\n\u001b[1;32m   1375\u001b[0m         \u001b[38;5;167;01mUserWarning\u001b[39;00m,\n\u001b[1;32m   1376\u001b[0m     )\n",
      "\u001b[0;31mValueError\u001b[0m: Target is multiclass but average='binary'. Please choose another average setting, one of [None, 'micro', 'macro', 'weighted']."
     ]
    }
   ],
   "source": [
    "y_predict = pipeline.predict(X_test)\n",
    "func.show_model_result(pipeline, X, y, y_test, y_predict)"
   ]
  },
  {
   "cell_type": "markdown",
   "id": "7c1822b8-257d-4079-8639-2139243c4fd5",
   "metadata": {},
   "source": [
    "**Show Curve ROC and Area Under the ROC**"
   ]
  },
  {
   "cell_type": "code",
   "execution_count": null,
   "id": "15f8b629-924a-4ce7-bb5e-4598286565a3",
   "metadata": {},
   "outputs": [],
   "source": [
    "func.show_curve_roc(pipeline, X_test, y_test, y_predict)"
   ]
  }
 ],
 "metadata": {
  "kernelspec": {
   "display_name": "Python 3 (ipykernel)",
   "language": "python",
   "name": "python3"
  },
  "language_info": {
   "codemirror_mode": {
    "name": "ipython",
    "version": 3
   },
   "file_extension": ".py",
   "mimetype": "text/x-python",
   "name": "python",
   "nbconvert_exporter": "python",
   "pygments_lexer": "ipython3",
   "version": "3.9.12"
  }
 },
 "nbformat": 4,
 "nbformat_minor": 5
}
