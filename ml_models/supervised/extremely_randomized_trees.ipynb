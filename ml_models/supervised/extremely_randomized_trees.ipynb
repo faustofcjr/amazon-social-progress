{
 "cells": [
  {
   "cell_type": "markdown",
   "id": "cced2d2b-3428-4890-8fee-24925460d1dd",
   "metadata": {},
   "source": [
    "```\n",
    "     _                                     ____             _       _   ____                                    \n",
    "    / \\   _ __ ___   __ _ _______  _ __   / ___|  ___   ___(_) __ _| | |  _ \\ _ __ ___   __ _ _ __ ___  ___ ___ \n",
    "   / _ \\ | '_ ` _ \\ / _` |_  / _ \\| '_ \\  \\___ \\ / _ \\ / __| |/ _` | | | |_) | '__/ _ \\ / _` | '__/ _ \\/ __/ __|\n",
    "  / ___ \\| | | | | | (_| |/ / (_) | | | |  ___) | (_) | (__| | (_| | | |  __/| | | (_) | (_| | | |  __/\\__ \\__ \\\n",
    " /_/   \\_\\_| |_| |_|\\__,_/___\\___/|_| |_| |____/ \\___/ \\___|_|\\__,_|_| |_|   |_|  \\___/ \\__, |_|  \\___||___/___/\n",
    "                                                                                        |___/                   \n",
    " Supervised Ensemble method - Extremely Randomized Trees\n",
    "```\n",
    "\n",
    "### Module\n",
    "__ExtraTreesClassifier__ implements a meta estimator that fits a number of randomized decision trees (a.k.a. extra-trees) on various sub-samples of the dataset and uses averaging to improve the predictive accuracy and control over-fitting.\n",
    "\n",
    "### Goal\n",
    "Ceate a model that combine the predictions of several decision trees estimators.\n",
    "\n",
    "### Tools\n",
    "1. Pandas\n",
    "2. scikit-learn\n",
    "2. RandomForestClassifier ensemble method\n",
    "\n",
    "### Requirement\n",
    "1. File Definition\n",
    "2. Data Preparation\n",
    "3. hotspot_spi.csv generated\n",
    " \n",
    "### Data Source\n",
    "__${WORKDIR}__/data/ouptut/hotspot_spi.csv"
   ]
  },
  {
   "cell_type": "code",
   "execution_count": 1,
   "id": "ee21183d-c9ac-4e54-962f-9ffe4b2b6058",
   "metadata": {},
   "outputs": [],
   "source": [
    "import os\n",
    "import pandas as pd\n",
    "\n",
    "import functions as func\n",
    "from  load_dataset import LoadDataset\n",
    "\n",
    "\n",
    "from sklearn.ensemble import ExtraTreesClassifier\n",
    "\n",
    "\n",
    "\n",
    "from sklearn.pipeline import make_pipeline\n",
    "from sklearn.preprocessing import StandardScaler\n",
    "from sklearn.model_selection import (cross_validate, train_test_split)"
   ]
  },
  {
   "cell_type": "markdown",
   "id": "8ba489d7-d102-48f9-a5c1-73edc5fd274d",
   "metadata": {},
   "source": [
    "## Get the data"
   ]
  },
  {
   "cell_type": "code",
   "execution_count": 2,
   "id": "2c571886-9831-475e-9fca-39be1afcd6df",
   "metadata": {},
   "outputs": [],
   "source": [
    "load_dataset = LoadDataset()\n",
    "X, y = load_dataset.return_X_y()"
   ]
  },
  {
   "cell_type": "markdown",
   "id": "b55ae3c6-fd5b-4049-9a29-d0d61ba3cd5e",
   "metadata": {},
   "source": [
    "### Split dataset into train and test sets"
   ]
  },
  {
   "cell_type": "code",
   "execution_count": 3,
   "id": "8d75e71e-ec7b-4568-a1eb-d31473fc6ce3",
   "metadata": {},
   "outputs": [
    {
     "name": "stdout",
     "output_type": "stream",
     "text": [
      "X_train.shape: (1621, 49) y_train.shape: (1621,)\n",
      "X_test.shape: (695, 49) y_test.shape: (695,)\n"
     ]
    }
   ],
   "source": [
    "X_train, X_test, y_train, y_test = train_test_split(X, y, test_size=.3)\n",
    "\n",
    "print(\"X_train.shape:\", X_train.shape, \"y_train.shape:\", y_train.shape)\n",
    "print(\"X_test.shape:\", X_test.shape, \"y_test.shape:\", y_test.shape)"
   ]
  },
  {
   "cell_type": "markdown",
   "id": "e41179a0-d582-4d60-b9fa-46bfb029e72d",
   "metadata": {},
   "source": [
    "## Modeling"
   ]
  },
  {
   "cell_type": "markdown",
   "id": "47bc3ab6-ee21-4316-8aad-7b9f67192dd9",
   "metadata": {},
   "source": [
    "### Getting Best Hyperparameter Optimization\n",
    "\n",
    "*Note: The execution of the code below may take a few minutes or hours.*\n",
    "\n",
    "*Uncomment and run it when you need to optimize hyperparameters.*"
   ]
  },
  {
   "cell_type": "code",
   "execution_count": 4,
   "id": "85c76b04-1a72-40c3-ab67-57f6d6dba071",
   "metadata": {},
   "outputs": [],
   "source": [
    "# space = dict()\n",
    "# # space['criterion'] = [\"gini\", \"entropy\"]\n",
    "# # space['splitter'] = [\"best\", \"random\"]\n",
    "# # space['n_estimators'] = [n for n in range(100)]\n",
    "# space['random_state'] = [n for n in range(10)]\n",
    "# space['max_depth'] = [n for n in range(20)]\n",
    "\n",
    "# func.show_best_hyperparameter_optimization(\n",
    "#     ExtraTreesClassifier(), \n",
    "#     space, \n",
    "#     X_train, \n",
    "#     y_train\n",
    "# )"
   ]
  },
  {
   "cell_type": "markdown",
   "id": "9d02e1d6-e54e-4665-8566-3db30ac0806e",
   "metadata": {},
   "source": [
    "### Building, train and predict model"
   ]
  },
  {
   "cell_type": "code",
   "execution_count": 13,
   "id": "7ddc42ab-7a18-4f5b-853c-6e8eb8369855",
   "metadata": {},
   "outputs": [
    {
     "name": "stderr",
     "output_type": "stream",
     "text": [
      "/opt/anaconda3/lib/python3.9/site-packages/sklearn/svm/_base.py:1206: ConvergenceWarning: Liblinear failed to converge, increase the number of iterations.\n",
      "  warnings.warn(\n"
     ]
    }
   ],
   "source": [
    "classifier = ExtraTreesClassifier(random_state=0)\n",
    "pipeline = make_pipeline(\n",
    "    StandardScaler(),\n",
    "    classifier\n",
    ")\n",
    "\n",
    "_ = pipeline.fit(X_train, y_train)"
   ]
  },
  {
   "cell_type": "markdown",
   "id": "f460fbb0-bca8-4e9c-a202-8d0b67627263",
   "metadata": {},
   "source": [
    "### Check the most relevant features for the training model"
   ]
  },
  {
   "cell_type": "code",
   "execution_count": 6,
   "id": "5511406e-2b55-4c97-a95a-b1a17d083593",
   "metadata": {},
   "outputs": [],
   "source": [
    "# func.get_feature_importances(classifier, X_train)"
   ]
  },
  {
   "cell_type": "markdown",
   "id": "f8455249-d5a0-41fa-8839-a0805ce029aa",
   "metadata": {},
   "source": [
    "### Predict and show model result"
   ]
  },
  {
   "cell_type": "code",
   "execution_count": 14,
   "id": "bec28f85-2faf-41a5-a197-383c2edcd1c3",
   "metadata": {},
   "outputs": [
    {
     "name": "stdout",
     "output_type": "stream",
     "text": [
      "\n",
      "Computing cross-validated metrics\n",
      "----------------------------------------------------------------------\n"
     ]
    },
    {
     "name": "stderr",
     "output_type": "stream",
     "text": [
      "/opt/anaconda3/lib/python3.9/site-packages/sklearn/svm/_base.py:1206: ConvergenceWarning: Liblinear failed to converge, increase the number of iterations.\n",
      "  warnings.warn(\n",
      "/opt/anaconda3/lib/python3.9/site-packages/sklearn/svm/_base.py:1206: ConvergenceWarning: Liblinear failed to converge, increase the number of iterations.\n",
      "  warnings.warn(\n",
      "/opt/anaconda3/lib/python3.9/site-packages/sklearn/svm/_base.py:1206: ConvergenceWarning: Liblinear failed to converge, increase the number of iterations.\n",
      "  warnings.warn(\n",
      "/opt/anaconda3/lib/python3.9/site-packages/sklearn/svm/_base.py:1206: ConvergenceWarning: Liblinear failed to converge, increase the number of iterations.\n",
      "  warnings.warn(\n"
     ]
    },
    {
     "name": "stdout",
     "output_type": "stream",
     "text": [
      "Scores: [0.44827586 0.45788337 0.49460043 0.52051836 0.46868251]\n",
      "Mean = 0.48 / Standard Deviation = 0.03\n",
      "\n",
      "Confunsion Matrix\n",
      "----------------------------------------------------------------------\n",
      "[[116   5  62   7   3]\n",
      " [ 16  21  54   0  17]\n",
      " [ 75  28 103   1  13]\n",
      " [ 40   0   7  23   1]\n",
      " [  7  11  30   0  55]]\n",
      "\n",
      "Classification Report\n",
      "----------------------------------------------------------------------\n",
      "              precision    recall  f1-score   support\n",
      "\n",
      "           0       0.46      0.60      0.52       193\n",
      "           1       0.32      0.19      0.24       108\n",
      "           2       0.40      0.47      0.43       220\n",
      "           3       0.74      0.32      0.45        71\n",
      "           4       0.62      0.53      0.57       103\n",
      "\n",
      "    accuracy                           0.46       695\n",
      "   macro avg       0.51      0.42      0.44       695\n",
      "weighted avg       0.47      0.46      0.45       695\n",
      "\n",
      "----------------------------------------------------------------------\n",
      "Accuracy: 0.46\n",
      "Precicion: 0.46\n",
      "Sensitivity aka Recall: 0.46\n",
      "F1-Score: 0.46\n"
     ]
    },
    {
     "name": "stderr",
     "output_type": "stream",
     "text": [
      "/opt/anaconda3/lib/python3.9/site-packages/sklearn/svm/_base.py:1206: ConvergenceWarning: Liblinear failed to converge, increase the number of iterations.\n",
      "  warnings.warn(\n"
     ]
    }
   ],
   "source": [
    "y_predict = pipeline.predict(X_test)\n",
    "func.show_model_result(pipeline, X, y, y_test, y_predict)"
   ]
  }
 ],
 "metadata": {
  "kernelspec": {
   "display_name": "Python 3 (ipykernel)",
   "language": "python",
   "name": "python3"
  },
  "language_info": {
   "codemirror_mode": {
    "name": "ipython",
    "version": 3
   },
   "file_extension": ".py",
   "mimetype": "text/x-python",
   "name": "python",
   "nbconvert_exporter": "python",
   "pygments_lexer": "ipython3",
   "version": "3.9.12"
  }
 },
 "nbformat": 4,
 "nbformat_minor": 5
}
