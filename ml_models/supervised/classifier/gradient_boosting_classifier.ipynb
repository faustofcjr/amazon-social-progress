{
 "cells": [
  {
   "cell_type": "markdown",
   "id": "7a9a4a4b-8446-41a0-82f5-43191188fe0b",
   "metadata": {},
   "source": [
    "```\n",
    "     _                                     ____             _       _   ____                                    \n",
    "    / \\   _ __ ___   __ _ _______  _ __   / ___|  ___   ___(_) __ _| | |  _ \\ _ __ ___   __ _ _ __ ___  ___ ___ \n",
    "   / _ \\ | '_ ` _ \\ / _` |_  / _ \\| '_ \\  \\___ \\ / _ \\ / __| |/ _` | | | |_) | '__/ _ \\ / _` | '__/ _ \\/ __/ __|\n",
    "  / ___ \\| | | | | | (_| |/ / (_) | | | |  ___) | (_) | (__| | (_| | | |  __/| | | (_) | (_| | | |  __/\\__ \\__ \\\n",
    " /_/   \\_\\_| |_| |_|\\__,_/___\\___/|_| |_| |____/ \\___/ \\___|_|\\__,_|_| |_|   |_|  \\___/ \\__, |_|  \\___||___/___/\n",
    "                                                                                        |___/                   \n",
    "```\n",
    "\n",
    "### Module\n",
    "__GradientBoostingClassifier__ Gradient Boosting for classification.\n",
    "\n",
    "### Goal\n",
    "Investigating the relationship between independent variables or features and a dependent variable or outcome.\n",
    "\n",
    "### Tools\n",
    "1. Pandas\n",
    "2. scikit-learn\n",
    "3. GradientBoostingClassifier\n",
    "\n",
    "### Requirement\n",
    "1. File Definition\n",
    "2. Data Preparation\n",
    "3. hotspot_spi.csv generated\n",
    " \n",
    "### Data Source\n",
    "__${WORKDIR}__/data/ouptut/hotspot_spi.csv"
   ]
  },
  {
   "cell_type": "code",
   "execution_count": 1,
   "id": "73df59d9-f63d-4c8c-9f0f-ea45bbb61d7e",
   "metadata": {},
   "outputs": [
    {
     "data": {
      "text/plain": [
       "['/home/fausto/Development/workspace/amazon-social-progress/ml_models/supervised/classifier',\n",
       " '/opt/anaconda3/lib/python39.zip',\n",
       " '/opt/anaconda3/lib/python3.9',\n",
       " '/opt/anaconda3/lib/python3.9/lib-dynload',\n",
       " '',\n",
       " '/opt/anaconda3/lib/python3.9/site-packages',\n",
       " '/home/fausto/Development/workspace/amazon-social-progress/ml_models/supervised']"
      ]
     },
     "execution_count": 1,
     "metadata": {},
     "output_type": "execute_result"
    }
   ],
   "source": [
    "import os\n",
    "import sys\n",
    "\n",
    "supervised_dir = os.path.normpath(os.getcwd() + os.sep + os.pardir)\n",
    "sys.path.append(supervised_dir)\n",
    "sys.path"
   ]
  },
  {
   "cell_type": "code",
   "execution_count": 2,
   "id": "18f52dfa-da1d-455d-9d4c-6b4a01e24c8b",
   "metadata": {},
   "outputs": [],
   "source": [
    "import pandas as pd\n",
    "import numpy as np\n",
    "\n",
    "import functions_classifier as func\n",
    "from  load_dataset import LoadDataset, SpiType\n",
    "\n",
    "from sklearn.ensemble import GradientBoostingClassifier\n",
    "\n",
    "from sklearn.preprocessing import scale\n",
    "from sklearn.model_selection import train_test_split"
   ]
  },
  {
   "cell_type": "markdown",
   "id": "e8b83d15-716a-4295-8c7e-186fbd8c30f4",
   "metadata": {},
   "source": [
    "## Get the data"
   ]
  },
  {
   "cell_type": "code",
   "execution_count": 3,
   "id": "58f68bd6-6949-4b9d-8f10-5ceb55d99f3a",
   "metadata": {},
   "outputs": [],
   "source": [
    "load_dataset = LoadDataset()\n",
    "X, y = load_dataset.return_X_y_clf(spi_type = SpiType.INDICATORS)\n",
    "\n",
    "columns_names = X.columns\n",
    "\n",
    "X = scale(X)"
   ]
  },
  {
   "cell_type": "code",
   "execution_count": 4,
   "id": "5219cdc0-755f-4262-b185-197020d42de8",
   "metadata": {},
   "outputs": [
    {
     "name": "stdout",
     "output_type": "stream",
     "text": [
      "X.shape: (2313, 49) y.shape: (2313,)\n"
     ]
    }
   ],
   "source": [
    "print(\"X.shape:\", X.shape, \"y.shape:\", y.shape)"
   ]
  },
  {
   "cell_type": "markdown",
   "id": "72cb1553-c378-4315-a433-69493411c75e",
   "metadata": {},
   "source": [
    "### Split dataset into train and test sets"
   ]
  },
  {
   "cell_type": "code",
   "execution_count": 5,
   "id": "f39f0dfd-92ae-4a40-9da5-6f0f8ac7a486",
   "metadata": {},
   "outputs": [
    {
     "name": "stdout",
     "output_type": "stream",
     "text": [
      "X_train.shape: (1619, 49) y_train.shape: (1619,)\n",
      "X_test.shape: (694, 49) y_test.shape: (694,)\n"
     ]
    }
   ],
   "source": [
    "X_train, X_test, y_train, y_test = train_test_split(X, y, test_size=.3, random_state=42)\n",
    "\n",
    "print(\"X_train.shape:\", X_train.shape, \"y_train.shape:\", y_train.shape)\n",
    "print(\"X_test.shape:\", X_test.shape, \"y_test.shape:\", y_test.shape)"
   ]
  },
  {
   "cell_type": "markdown",
   "id": "0017a663-57af-4210-af32-2adc18c35634",
   "metadata": {},
   "source": [
    "## Modeling"
   ]
  },
  {
   "cell_type": "markdown",
   "id": "f2e6b2c7-0e49-4dc6-b590-27f8c68a1dba",
   "metadata": {},
   "source": [
    "### Building, train and predict model"
   ]
  },
  {
   "cell_type": "code",
   "execution_count": 6,
   "id": "9e6e1350-b8b6-4247-8c82-0d4feeb5e37d",
   "metadata": {},
   "outputs": [],
   "source": [
    "params =  {\n",
    "    \"learning_rate\": 0.1, \n",
    "    \"max_depth\": 4, \n",
    "    \"min_samples_split\": 3, \n",
    "    \"n_estimators\": 360\n",
    "}\n",
    "\n",
    "classifier = GradientBoostingClassifier(**params)\n",
    "classifier.fit(X_train, y_train)\n",
    "y_predict = classifier.predict(X_test)"
   ]
  },
  {
   "cell_type": "markdown",
   "id": "aacf02fb-c99e-42bb-9000-06045f8d261a",
   "metadata": {},
   "source": [
    "### Getting Best Hyperparameter Optimization\n",
    "\n",
    "*Note: The execution of the code below may take a few minutes or hours.*\n",
    "\n",
    "*Uncomment and run it when you need to optimize hyperparameters.*"
   ]
  },
  {
   "cell_type": "code",
   "execution_count": 7,
   "id": "2276f36c-7d00-4b16-b5d5-2328e388c98b",
   "metadata": {},
   "outputs": [],
   "source": [
    "# from sklearn.model_selection import (GridSearchCV)\n",
    "# import warnings\n",
    "\n",
    "# warnings.filterwarnings(\"ignore\")\n",
    "\n",
    "# parameters = {   \n",
    "#     \"n_estimators\":[50, 100, 200., 300, 400, 500, 600],\n",
    "#     \"learning_rate\": [.1, .5, 1., 1.5, 2., 3.],\n",
    "#     \"algorithm\": (\"SAMME\", \"SAMME.R\")\n",
    "# }\n",
    "\n",
    "# gridsearch = GridSearchCV(AdaBoostClassifier(), parameters)\n",
    "# gridsearch.fit(X_train, y_train)\n",
    "\n",
    "# print(\"Tuned Hyperparameters :\", gridsearch.best_params_)\n",
    "# print(\"Best Score:\",gridsearch.best_score_)"
   ]
  },
  {
   "cell_type": "markdown",
   "id": "2ea38e51-6de3-4384-a97b-a9b78b571b91",
   "metadata": {},
   "source": [
    "### Predict and show model result"
   ]
  },
  {
   "cell_type": "code",
   "execution_count": 8,
   "id": "136262b6-af4a-4ab8-aad9-a201364e66c5",
   "metadata": {},
   "outputs": [
    {
     "name": "stdout",
     "output_type": "stream",
     "text": [
      "\n",
      "Computing cross-validated metrics\n",
      "----------------------------------------------------------------------\n",
      "Scores: [0.62203024 0.587473   0.61771058 0.60606061 0.5952381 ]\n",
      "Mean = 0.61 / Standard Deviation = 0.01\n",
      "\n",
      "Confunsion Matrix\n",
      "----------------------------------------------------------------------\n",
      "[[117  40   8   3]\n",
      " [ 30  84  39   7]\n",
      " [  7  53  80  38]\n",
      " [  2   8  36 142]]\n",
      "\n",
      "Classification Report\n",
      "----------------------------------------------------------------------\n",
      "              precision    recall  f1-score   support\n",
      "\n",
      "          Q1       0.75      0.70      0.72       168\n",
      "          Q2       0.45      0.53      0.49       160\n",
      "          Q3       0.49      0.45      0.47       178\n",
      "          Q4       0.75      0.76      0.75       188\n",
      "\n",
      "    accuracy                           0.61       694\n",
      "   macro avg       0.61      0.61      0.61       694\n",
      "weighted avg       0.61      0.61      0.61       694\n",
      "\n",
      "----------------------------------------------------------------------\n",
      "Accuracy: 0.61\n",
      "Precicion: 0.61\n",
      "Sensitivity aka Recall: 0.61\n",
      "F1-Score: 0.61\n"
     ]
    }
   ],
   "source": [
    "func.show_model_result(classifier, X, y, y_test, y_predict)"
   ]
  }
 ],
 "metadata": {
  "kernelspec": {
   "display_name": "Python 3 (ipykernel)",
   "language": "python",
   "name": "python3"
  },
  "language_info": {
   "codemirror_mode": {
    "name": "ipython",
    "version": 3
   },
   "file_extension": ".py",
   "mimetype": "text/x-python",
   "name": "python",
   "nbconvert_exporter": "python",
   "pygments_lexer": "ipython3",
   "version": "3.9.12"
  }
 },
 "nbformat": 4,
 "nbformat_minor": 5
}
