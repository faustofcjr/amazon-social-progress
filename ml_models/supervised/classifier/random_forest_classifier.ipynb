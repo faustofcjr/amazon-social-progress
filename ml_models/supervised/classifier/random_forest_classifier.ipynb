{
 "cells": [
  {
   "cell_type": "markdown",
   "id": "cced2d2b-3428-4890-8fee-24925460d1dd",
   "metadata": {},
   "source": [
    "```\n",
    "     _                                     ____             _       _   ____                                    \n",
    "    / \\   _ __ ___   __ _ _______  _ __   / ___|  ___   ___(_) __ _| | |  _ \\ _ __ ___   __ _ _ __ ___  ___ ___ \n",
    "   / _ \\ | '_ ` _ \\ / _` |_  / _ \\| '_ \\  \\___ \\ / _ \\ / __| |/ _` | | | |_) | '__/ _ \\ / _` | '__/ _ \\/ __/ __|\n",
    "  / ___ \\| | | | | | (_| |/ / (_) | | | |  ___) | (_) | (__| | (_| | | |  __/| | | (_) | (_| | | |  __/\\__ \\__ \\\n",
    " /_/   \\_\\_| |_| |_|\\__,_/___\\___/|_| |_| |____/ \\___/ \\___|_|\\__,_|_| |_|   |_|  \\___/ \\__, |_|  \\___||___/___/\n",
    "                                                                                        |___/                   \n",
    " Supervised Ensemble method - Forests of randomized trees\n",
    "```\n",
    "\n",
    "### Module\n",
    "__RandomForestClassifier__ is a meta estimator that fits a number of decision tree classifiers on various sub-samples of the dataset and uses averaging to improve the predictive accuracy and control over-fitting.\n",
    "\n",
    "### Goal\n",
    "Ceate a model that combine the predictions of several decision trees estimators.\n",
    "\n",
    "### Tools\n",
    "1. Pandas\n",
    "2. scikit-learn\n",
    "2. RandomForestClassifier ensemble method\n",
    "\n",
    "### Requirement\n",
    "1. File Definition\n",
    "2. Data Preparation\n",
    "3. hotspot_spi.csv generated\n",
    " \n",
    "### Data Source\n",
    "__${WORKDIR}__/data/ouptut/hotspot_spi.csv"
   ]
  },
  {
   "cell_type": "code",
   "execution_count": 1,
   "id": "e3b1f640-d300-4697-9095-35f390686790",
   "metadata": {},
   "outputs": [
    {
     "data": {
      "text/plain": [
       "['/home/fausto/Development/workspace/amazon-social-progress/ml_models/supervised/classifier',\n",
       " '/opt/anaconda3/lib/python39.zip',\n",
       " '/opt/anaconda3/lib/python3.9',\n",
       " '/opt/anaconda3/lib/python3.9/lib-dynload',\n",
       " '',\n",
       " '/opt/anaconda3/lib/python3.9/site-packages',\n",
       " '/home/fausto/Development/workspace/amazon-social-progress/ml_models/supervised']"
      ]
     },
     "execution_count": 1,
     "metadata": {},
     "output_type": "execute_result"
    }
   ],
   "source": [
    "import os\n",
    "import sys\n",
    "\n",
    "supervised_dir = os.path.normpath(os.getcwd() + os.sep + os.pardir)\n",
    "sys.path.append(supervised_dir)\n",
    "sys.path"
   ]
  },
  {
   "cell_type": "code",
   "execution_count": 9,
   "id": "ee21183d-c9ac-4e54-962f-9ffe4b2b6058",
   "metadata": {},
   "outputs": [],
   "source": [
    "import pandas as pd\n",
    "\n",
    "import functions_classifier as func\n",
    "from  load_dataset import LoadDataset\n",
    "\n",
    "from sklearn.ensemble import RandomForestClassifier\n",
    "\n",
    "from sklearn.pipeline import make_pipeline\n",
    "from sklearn.tree import DecisionTreeClassifier\n",
    "from sklearn.preprocessing import StandardScaler, scale\n",
    "from sklearn.model_selection import train_test_split"
   ]
  },
  {
   "cell_type": "markdown",
   "id": "8ba489d7-d102-48f9-a5c1-73edc5fd274d",
   "metadata": {},
   "source": [
    "## Get the data"
   ]
  },
  {
   "cell_type": "code",
   "execution_count": 4,
   "id": "2c571886-9831-475e-9fca-39be1afcd6df",
   "metadata": {},
   "outputs": [],
   "source": [
    "load_dataset = LoadDataset()\n",
    "X, y = load_dataset.return_X_y_clf()"
   ]
  },
  {
   "cell_type": "markdown",
   "id": "b55ae3c6-fd5b-4049-9a29-d0d61ba3cd5e",
   "metadata": {},
   "source": [
    "### Split dataset into train and test sets"
   ]
  },
  {
   "cell_type": "code",
   "execution_count": 6,
   "id": "8d75e71e-ec7b-4568-a1eb-d31473fc6ce3",
   "metadata": {},
   "outputs": [
    {
     "name": "stdout",
     "output_type": "stream",
     "text": [
      "X_train.shape: (1621, 49) y_train.shape: (1621,)\n",
      "X_test.shape: (695, 49) y_test.shape: (695,)\n"
     ]
    }
   ],
   "source": [
    "X_train, X_test, y_train, y_test = train_test_split(X, y, test_size=.3)\n",
    "\n",
    "print(\"X_train.shape:\", X_train.shape, \"y_train.shape:\", y_train.shape)\n",
    "print(\"X_test.shape:\", X_test.shape, \"y_test.shape:\", y_test.shape)"
   ]
  },
  {
   "cell_type": "markdown",
   "id": "e41179a0-d582-4d60-b9fa-46bfb029e72d",
   "metadata": {},
   "source": [
    "## Modeling"
   ]
  },
  {
   "cell_type": "markdown",
   "id": "9d02e1d6-e54e-4665-8566-3db30ac0806e",
   "metadata": {},
   "source": [
    "#### Building, train and predict model"
   ]
  },
  {
   "cell_type": "code",
   "execution_count": 19,
   "id": "7ddc42ab-7a18-4f5b-853c-6e8eb8369855",
   "metadata": {},
   "outputs": [],
   "source": [
    "params = {\n",
    "    \"criterion\": \"gini\", \n",
    "    \"max_depth\": 100, \n",
    "    \"min_samples_leaf\": 20, \n",
    "    \"min_samples_split\": 3, \n",
    "    \"n_estimators\": 200\n",
    "}\n",
    "\n",
    "classifier = RandomForestClassifier(**params)\n",
    "pipeline = make_pipeline(\n",
    "    StandardScaler(),\n",
    "    classifier\n",
    ")\n",
    "_ = pipeline.fit(X_train, y_train)\n",
    "y_predict = pipeline.predict(X_test)"
   ]
  },
  {
   "cell_type": "markdown",
   "id": "087dc25f-9644-49ee-84e2-68e0f42a5a9d",
   "metadata": {},
   "source": [
    "#### Getting Best Hyperparameter Optimization\n",
    "\n",
    "*Note: The execution of the code below may take a few minutes or hours.*\n",
    "\n",
    "*Uncomment and run it when you need to optimize hyperparameters.*"
   ]
  },
  {
   "cell_type": "code",
   "execution_count": 10,
   "id": "f3f64bce-f044-4f6b-b69a-e203cf8e933f",
   "metadata": {},
   "outputs": [
    {
     "name": "stdout",
     "output_type": "stream",
     "text": [
      "Tuned Hyperparameters : {'criterion': 'gini', 'max_depth': 100, 'min_samples_leaf': 20, 'min_samples_split': 2, 'n_estimators': 200}\n",
      "Best Score: 0.5712896486229819\n"
     ]
    }
   ],
   "source": [
    "# from sklearn.model_selection import (GridSearchCV)\n",
    "# import warnings\n",
    "\n",
    "# warnings.filterwarnings(\"ignore\")\n",
    "\n",
    "# parameters = {\n",
    "#     \"n_estimators\":[100, 200, 300, 400, 500, 600],\n",
    "#     \"criterion\": (\"gini\", \"entropy\", \"log_loss\"),\n",
    "#     \"max_depth\":[20, 40, 60, 80, 100],\n",
    "#     \"min_samples_split\": [2, 4, 6, 8, 10],\n",
    "#     \"min_samples_leaf\":[20, 40, 60, 80, 100],\n",
    "# }\n",
    "\n",
    "# gridsearch = GridSearchCV(RandomForestClassifier(), parameters)\n",
    "# gridsearch.fit(scale(X_train), y_train)\n",
    "\n",
    "# print(\"Tuned Hyperparameters :\", gridsearch.best_params_)\n",
    "# print(\"Best Score:\", gridsearch.best_score_)"
   ]
  },
  {
   "cell_type": "markdown",
   "id": "f460fbb0-bca8-4e9c-a202-8d0b67627263",
   "metadata": {},
   "source": [
    "### Check the most relevant features for the training model"
   ]
  },
  {
   "cell_type": "code",
   "execution_count": 13,
   "id": "5511406e-2b55-4c97-a95a-b1a17d083593",
   "metadata": {},
   "outputs": [],
   "source": [
    "# func.get_feature_importances(classifier, X_train)"
   ]
  },
  {
   "cell_type": "markdown",
   "id": "f8455249-d5a0-41fa-8839-a0805ce029aa",
   "metadata": {},
   "source": [
    "### Predict and show model result"
   ]
  },
  {
   "cell_type": "code",
   "execution_count": 20,
   "id": "bec28f85-2faf-41a5-a197-383c2edcd1c3",
   "metadata": {},
   "outputs": [
    {
     "name": "stdout",
     "output_type": "stream",
     "text": [
      "\n",
      "Computing cross-validated metrics\n",
      "----------------------------------------------------------------------\n",
      "Scores: [0.56896552 0.51187905 0.5399568  0.54211663 0.52915767]\n",
      "Mean = 0.54 / Standard Deviation = 0.02\n",
      "\n",
      "Confunsion Matrix\n",
      "----------------------------------------------------------------------\n",
      "[[133  31   5   5]\n",
      " [ 51  60  34  30]\n",
      " [ 28  37  56  60]\n",
      " [  5   7  15 138]]\n",
      "\n",
      "Classification Report\n",
      "----------------------------------------------------------------------\n",
      "              precision    recall  f1-score   support\n",
      "\n",
      "          Q1       0.61      0.76      0.68       174\n",
      "          Q2       0.44      0.34      0.39       175\n",
      "          Q3       0.51      0.31      0.38       181\n",
      "          Q4       0.59      0.84      0.69       165\n",
      "\n",
      "    accuracy                           0.56       695\n",
      "   macro avg       0.54      0.56      0.54       695\n",
      "weighted avg       0.54      0.56      0.53       695\n",
      "\n",
      "----------------------------------------------------------------------\n",
      "Accuracy: 0.56\n",
      "Precicion: 0.54\n",
      "Sensitivity aka Recall: 0.56\n",
      "F1-Score: 0.53\n"
     ]
    }
   ],
   "source": [
    "func.show_model_result(pipeline, X, y, y_test, y_predict)"
   ]
  }
 ],
 "metadata": {
  "kernelspec": {
   "display_name": "Python 3 (ipykernel)",
   "language": "python",
   "name": "python3"
  },
  "language_info": {
   "codemirror_mode": {
    "name": "ipython",
    "version": 3
   },
   "file_extension": ".py",
   "mimetype": "text/x-python",
   "name": "python",
   "nbconvert_exporter": "python",
   "pygments_lexer": "ipython3",
   "version": "3.9.12"
  }
 },
 "nbformat": 4,
 "nbformat_minor": 5
}
