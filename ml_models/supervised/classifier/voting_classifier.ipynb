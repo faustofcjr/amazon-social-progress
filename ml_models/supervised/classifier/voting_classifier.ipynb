{
 "cells": [
  {
   "cell_type": "markdown",
   "id": "7a9a4a4b-8446-41a0-82f5-43191188fe0b",
   "metadata": {},
   "source": [
    "```\n",
    "     _                                     ____             _       _   ____                                    \n",
    "    / \\   _ __ ___   __ _ _______  _ __   / ___|  ___   ___(_) __ _| | |  _ \\ _ __ ___   __ _ _ __ ___  ___ ___ \n",
    "   / _ \\ | '_ ` _ \\ / _` |_  / _ \\| '_ \\  \\___ \\ / _ \\ / __| |/ _` | | | |_) | '__/ _ \\ / _` | '__/ _ \\/ __/ __|\n",
    "  / ___ \\| | | | | | (_| |/ / (_) | | | |  ___) | (_) | (__| | (_| | | |  __/| | | (_) | (_| | | |  __/\\__ \\__ \\\n",
    " /_/   \\_\\_| |_| |_|\\__,_/___\\___/|_| |_| |____/ \\___/ \\___|_|\\__,_|_| |_|   |_|  \\___/ \\__, |_|  \\___||___/___/\n",
    "                                                                                        |___/                   \n",
    "```\n",
    "\n",
    "### Module\n",
    "__VotingClassifier__ Soft Voting/Majority Rule classifier for unfitted estimators.\n",
    "\n",
    "### Goal\n",
    "Investigating the relationship between independent variables or features and a dependent variable or outcome.\n",
    "\n",
    "### Tools\n",
    "1. Pandas\n",
    "2. scikit-learn\n",
    "3. VotingClassifier\n",
    "\n",
    "### Requirement\n",
    "1. File Definition\n",
    "2. Data Preparation\n",
    "3. hotspot_spi.csv generated\n",
    " \n",
    "### Data Source\n",
    "__${WORKDIR}__/data/ouptut/hotspot_spi.csv"
   ]
  },
  {
   "cell_type": "code",
   "execution_count": 1,
   "id": "73df59d9-f63d-4c8c-9f0f-ea45bbb61d7e",
   "metadata": {},
   "outputs": [
    {
     "data": {
      "text/plain": [
       "['/home/fausto/Development/workspace/amazon-social-progress/ml_models/supervised/classifier',\n",
       " '/opt/anaconda3/lib/python39.zip',\n",
       " '/opt/anaconda3/lib/python3.9',\n",
       " '/opt/anaconda3/lib/python3.9/lib-dynload',\n",
       " '',\n",
       " '/opt/anaconda3/lib/python3.9/site-packages',\n",
       " '/home/fausto/Development/workspace/amazon-social-progress/ml_models/supervised']"
      ]
     },
     "execution_count": 1,
     "metadata": {},
     "output_type": "execute_result"
    }
   ],
   "source": [
    "import os\n",
    "import sys\n",
    "\n",
    "supervised_dir = os.path.normpath(os.getcwd() + os.sep + os.pardir)\n",
    "sys.path.append(supervised_dir)\n",
    "sys.path"
   ]
  },
  {
   "cell_type": "code",
   "execution_count": 2,
   "id": "18f52dfa-da1d-455d-9d4c-6b4a01e24c8b",
   "metadata": {},
   "outputs": [],
   "source": [
    "import pandas as pd\n",
    "import numpy as np\n",
    "\n",
    "import functions_classifier as func\n",
    "from  load_dataset import LoadDataset, SpiType\n",
    "\n",
    "from sklearn.svm import SVC\n",
    "from sklearn.tree import DecisionTreeClassifier\n",
    "from sklearn.ensemble import RandomForestClassifier\n",
    "from sklearn.ensemble import VotingClassifier\n",
    "\n",
    "from sklearn.pipeline import make_pipeline\n",
    "from sklearn.preprocessing import StandardScaler, scale\n",
    "from sklearn.model_selection import train_test_split"
   ]
  },
  {
   "cell_type": "markdown",
   "id": "e8b83d15-716a-4295-8c7e-186fbd8c30f4",
   "metadata": {},
   "source": [
    "## Get the data"
   ]
  },
  {
   "cell_type": "code",
   "execution_count": 3,
   "id": "58f68bd6-6949-4b9d-8f10-5ceb55d99f3a",
   "metadata": {},
   "outputs": [],
   "source": [
    "load_dataset = LoadDataset()\n",
    "X, y = load_dataset.return_X_y_clf()\n",
    "\n",
    "X = scale(X)"
   ]
  },
  {
   "cell_type": "code",
   "execution_count": 4,
   "id": "5219cdc0-755f-4262-b185-197020d42de8",
   "metadata": {},
   "outputs": [
    {
     "name": "stdout",
     "output_type": "stream",
     "text": [
      "X.shape: (2313, 49) y.shape: (2313,)\n"
     ]
    }
   ],
   "source": [
    "print(\"X.shape:\", X.shape, \"y.shape:\", y.shape)"
   ]
  },
  {
   "cell_type": "markdown",
   "id": "72cb1553-c378-4315-a433-69493411c75e",
   "metadata": {},
   "source": [
    "### Split dataset into train and test sets"
   ]
  },
  {
   "cell_type": "code",
   "execution_count": 5,
   "id": "f39f0dfd-92ae-4a40-9da5-6f0f8ac7a486",
   "metadata": {},
   "outputs": [
    {
     "name": "stdout",
     "output_type": "stream",
     "text": [
      "X_train.shape: (1619, 49) y_train.shape: (1619,)\n",
      "X_test.shape: (694, 49) y_test.shape: (694,)\n"
     ]
    }
   ],
   "source": [
    "X_train, X_test, y_train, y_test = train_test_split(X, y, test_size=.3, random_state=42)\n",
    "\n",
    "print(\"X_train.shape:\", X_train.shape, \"y_train.shape:\", y_train.shape)\n",
    "print(\"X_test.shape:\", X_test.shape, \"y_test.shape:\", y_test.shape)"
   ]
  },
  {
   "cell_type": "markdown",
   "id": "0017a663-57af-4210-af32-2adc18c35634",
   "metadata": {},
   "source": [
    "## Modeling"
   ]
  },
  {
   "cell_type": "markdown",
   "id": "f2e6b2c7-0e49-4dc6-b590-27f8c68a1dba",
   "metadata": {},
   "source": [
    "### Building, train and predict model"
   ]
  },
  {
   "cell_type": "code",
   "execution_count": 6,
   "id": "9e6e1350-b8b6-4247-8c82-0d4feeb5e37d",
   "metadata": {},
   "outputs": [],
   "source": [
    "tree_params = {\n",
    "    \"criterion\": \"entropy\", \n",
    "    \"max_depth\": 100, \n",
    "    \"min_samples_leaf\": 40, \n",
    "    \"min_samples_split\": 2, \n",
    "    \"splitter\": \"best\"\n",
    "}\n",
    "tree = DecisionTreeClassifier(**tree_params)\n",
    "\n",
    "\n",
    "svc_params = {\n",
    "    \"C\": 3.0, \n",
    "    \"degree\": 3, \n",
    "    \"gamma\": \"auto\", \n",
    "    \"tol\": 1e-3\n",
    "}\n",
    "svc = SVC(**svc_params)\n",
    "\n",
    "random_params = {\n",
    "    \"criterion\": \"gini\", \n",
    "    \"max_depth\": 100, \n",
    "    \"min_samples_leaf\": 20, \n",
    "    \"min_samples_split\": 3, \n",
    "    \"n_estimators\": 200\n",
    "}\n",
    "random = RandomForestClassifier(**random_params)\n",
    "\n",
    "classifier = VotingClassifier(\n",
    "    estimators=[\n",
    "        ('tree', tree), \n",
    "        ('svc', svc), \n",
    "        ('random_forrest', random)\n",
    "    ],\n",
    "    voting='hard')\n",
    "\n",
    "pipeline = make_pipeline(\n",
    "    StandardScaler(),\n",
    "    classifier,\n",
    "    random\n",
    ")\n",
    "_ = pipeline.fit(X_train, y_train)\n",
    "y_predict = pipeline.predict(X_test)"
   ]
  },
  {
   "cell_type": "markdown",
   "id": "cabf9964-1552-4e3b-aedc-ef4fd6bb2f09",
   "metadata": {},
   "source": [
    "### Predict and show model result"
   ]
  },
  {
   "cell_type": "code",
   "execution_count": 7,
   "id": "ed041023-1af9-4fe3-9bef-f4dccb50dfe4",
   "metadata": {},
   "outputs": [
    {
     "name": "stdout",
     "output_type": "stream",
     "text": [
      "\n",
      "Computing cross-validated metrics\n",
      "----------------------------------------------------------------------\n",
      "Scores: [0.58315335 0.59827214 0.59179266 0.53679654 0.53246753]\n",
      "Mean = 0.57 / Standard Deviation = 0.03\n",
      "\n",
      "Confunsion Matrix\n",
      "----------------------------------------------------------------------\n",
      "[[ 91  62  12   3]\n",
      " [ 28  77  45  10]\n",
      " [  4  59  86  29]\n",
      " [  0  19  34 135]]\n",
      "\n",
      "Classification Report\n",
      "----------------------------------------------------------------------\n",
      "              precision    recall  f1-score   support\n",
      "\n",
      "          Q1       0.74      0.54      0.63       168\n",
      "          Q2       0.35      0.48      0.41       160\n",
      "          Q3       0.49      0.48      0.48       178\n",
      "          Q4       0.76      0.72      0.74       188\n",
      "\n",
      "    accuracy                           0.56       694\n",
      "   macro avg       0.59      0.56      0.56       694\n",
      "weighted avg       0.59      0.56      0.57       694\n",
      "\n",
      "----------------------------------------------------------------------\n",
      "Accuracy: 0.56\n",
      "Precicion: 0.59\n",
      "Sensitivity aka Recall: 0.56\n",
      "F1-Score: 0.57\n"
     ]
    }
   ],
   "source": [
    "func.show_model_result(pipeline, X, y, y_test, y_predict)"
   ]
  },
  {
   "cell_type": "markdown",
   "id": "24834861-a2df-4157-953d-f5c16b1c41cb",
   "metadata": {},
   "source": [
    "### Show Individual Model Accuray"
   ]
  },
  {
   "cell_type": "code",
   "execution_count": 8,
   "id": "3d258b84-ab5b-439e-b289-88a359b68ae4",
   "metadata": {},
   "outputs": [
    {
     "name": "stdout",
     "output_type": "stream",
     "text": [
      "Accuracy: 0.48 (+/- 0.04) [DecisionTreeClassifier]\n",
      "Accuracy: 0.57 (+/- 0.02) [SupportVectorClassification]\n",
      "Accuracy: 0.54 (+/- 0.02) [RandomForestClassifier]\n",
      "Accuracy: 0.57 (+/- 0.03) [Ensemble]\n"
     ]
    }
   ],
   "source": [
    "models = [tree, svc, random, pipeline]\n",
    "models_names = ['DecisionTreeClassifier', 'SupportVectorClassification', 'RandomForestClassifier', 'Ensemble']\n",
    "func.get_ensemble_model_accuracy(models, models_names, X, y)"
   ]
  }
 ],
 "metadata": {
  "kernelspec": {
   "display_name": "Python 3 (ipykernel)",
   "language": "python",
   "name": "python3"
  },
  "language_info": {
   "codemirror_mode": {
    "name": "ipython",
    "version": 3
   },
   "file_extension": ".py",
   "mimetype": "text/x-python",
   "name": "python",
   "nbconvert_exporter": "python",
   "pygments_lexer": "ipython3",
   "version": "3.9.12"
  }
 },
 "nbformat": 4,
 "nbformat_minor": 5
}
