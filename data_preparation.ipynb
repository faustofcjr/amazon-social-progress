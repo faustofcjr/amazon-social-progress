{
 "cells": [
  {
   "cell_type": "markdown",
   "id": "a04bbad3-c262-4f89-b4c5-f3953f9b47f8",
   "metadata": {},
   "source": [
    "# Caipora Project\n",
    "\n",
    "__Objetivo__\n",
    "\n",
    "\n",
    "\n",
    "\n",
    " \n",
    "__Data Source__\n",
    "\n",
    "https://queimadas.dgi.inpe.br/queimadas/portal\n",
    "\n",
    "https://ipsamazonia.org.br/\n",
    "\n",
    "https://openaq.org/\n",
    "\n",
    "\n",
    "__Data characteristics__\n",
    "\n",
    "- Time Series;\n",
    "- Geographic coordinates – Latitude/Longitude;\n",
    "- Satellite Name"
   ]
  },
  {
   "cell_type": "code",
   "execution_count": 1,
   "id": "60aad346-9cf8-4421-9039-075d2beb19b7",
   "metadata": {},
   "outputs": [],
   "source": [
    "import os\n",
    "import math\n",
    "import unicodedata\n",
    "\n",
    "import glob\n",
    "\n",
    "import datetime\n",
    "import gmaps\n",
    "\n",
    "from pathlib import Path\n",
    "\n",
    "import numpy as np\n",
    "import pandas as pd\n",
    "\n",
    "import plotly.graph_objects as go\n",
    "import matplotlib.pyplot as plt\n",
    "import seaborn as sns"
   ]
  },
  {
   "cell_type": "markdown",
   "id": "1270e180-cd10-4373-9a45-626e63b0c8dd",
   "metadata": {},
   "source": [
    "## Prerequisite"
   ]
  },
  {
   "cell_type": "code",
   "execution_count": 2,
   "id": "88171a97-f5a5-442f-bfef-824423b89746",
   "metadata": {},
   "outputs": [],
   "source": [
    "WORKDIR = os.path.abspath(os.getcwd())"
   ]
  },
  {
   "cell_type": "markdown",
   "id": "61494503-8c92-420b-8dc6-6132e732951c",
   "metadata": {},
   "source": [
    "## Constants"
   ]
  },
  {
   "cell_type": "code",
   "execution_count": 3,
   "id": "7053993a-f507-4566-92bf-df52b9869328",
   "metadata": {},
   "outputs": [],
   "source": [
    "BRAZILIAN_STATES = [\n",
    "    { \"acronym\": \"AC\", \"name\": \"Acre\" },\n",
    "    { \"acronym\": \"AL\", \"name\": \"Alagoas\" },\n",
    "    { \"acronym\": \"AP\", \"name\": \"Amapá\" },\n",
    "    { \"acronym\": \"AM\", \"name\": \"Amazonas\" },\n",
    "    { \"acronym\": \"BA\", \"name\": \"Bahia\" },\n",
    "    { \"acronym\": \"CE\", \"name\": \"Ceará\" },\n",
    "    { \"acronym\": \"DF\", \"name\": \"Distrito Federal\" },\n",
    "    { \"acronym\": \"ES\", \"name\": \"Espírito Santo\" },\n",
    "    { \"acronym\": \"GO\", \"name\": \"Goiás\" },\n",
    "    { \"acronym\": \"MA\", \"name\": \"Maranhão\" },\n",
    "    { \"acronym\": \"MT\", \"name\": \"Mato Grosso\" },\n",
    "    { \"acronym\": \"MS\", \"name\": \"Mato Grosso do Sul\" },\n",
    "    { \"acronym\": \"MG\", \"name\": \"Minas Gerais\" },\n",
    "    { \"acronym\": \"PA\", \"name\": \"Pará\" },\n",
    "    { \"acronym\": \"PB\", \"name\": \"Paraíba\" },\n",
    "    { \"acronym\": \"PR\", \"name\": \"Paraná\" },\n",
    "    { \"acronym\": \"PE\", \"name\": \"Pernambuco\" },\n",
    "    { \"acronym\": \"PI\", \"name\": \"Piauí\" },\n",
    "    { \"acronym\": \"RJ\", \"name\": \"Rio de Janeiro\" },\n",
    "    { \"acronym\": \"RN\", \"name\": \"Rio Grande do Norte\" },\n",
    "    { \"acronym\": \"RS\", \"name\": \"Rio Grande do Sul\" },\n",
    "    { \"acronym\": \"RO\", \"name\": \"Rondônia\" },\n",
    "    { \"acronym\": \"RR\", \"name\": \"Roraima\" },\n",
    "    { \"acronym\": \"SC\", \"name\": \"Santa Catarina\" },\n",
    "    { \"acronym\": \"SP\", \"name\": \"São Paulo\" },\n",
    "    { \"acronym\": \"SE\", \"name\": \"Sergipe\" },\n",
    "    { \"acronym\": \"TO\", \"name\": \"Tocantins\" }\n",
    "]"
   ]
  },
  {
   "cell_type": "markdown",
   "id": "72bc35af-c5db-41ee-ac23-54ca636a54f0",
   "metadata": {},
   "source": [
    "## Get the data"
   ]
  },
  {
   "cell_type": "markdown",
   "id": "386cf2b7-e413-486a-a5fa-aff22d2a8f79",
   "metadata": {},
   "source": [
    "### Hotspot data"
   ]
  },
  {
   "cell_type": "markdown",
   "id": "d1cc0ca8-75ad-4417-90c7-99f692396c51",
   "metadata": {},
   "source": [
    "__List files used in the analysis__"
   ]
  },
  {
   "cell_type": "code",
   "execution_count": 4,
   "id": "bac8f3a7-8947-4397-8e9f-62f34668170b",
   "metadata": {},
   "outputs": [],
   "source": [
    "path = ''.join([WORKDIR, \"/data/hotspot/**/*\"]) \n",
    "hotspot_files = glob.glob(os.path.join(path, \"*.csv\"))"
   ]
  },
  {
   "cell_type": "markdown",
   "id": "390392f0-ad40-42ac-bd50-656affe30633",
   "metadata": {},
   "source": [
    "__Load into Pandas DataFrame__"
   ]
  },
  {
   "cell_type": "code",
   "execution_count": 5,
   "id": "a5ba4c44-07a3-43af-9d1c-dd80141ad2b5",
   "metadata": {},
   "outputs": [
    {
     "data": {
      "text/html": [
       "<div>\n",
       "<style scoped>\n",
       "    .dataframe tbody tr th:only-of-type {\n",
       "        vertical-align: middle;\n",
       "    }\n",
       "\n",
       "    .dataframe tbody tr th {\n",
       "        vertical-align: top;\n",
       "    }\n",
       "\n",
       "    .dataframe thead th {\n",
       "        text-align: right;\n",
       "    }\n",
       "</style>\n",
       "<table border=\"1\" class=\"dataframe\">\n",
       "  <thead>\n",
       "    <tr style=\"text-align: right;\">\n",
       "      <th></th>\n",
       "      <th>datahora</th>\n",
       "      <th>satelite</th>\n",
       "      <th>pais</th>\n",
       "      <th>estado</th>\n",
       "      <th>municipio</th>\n",
       "      <th>bioma</th>\n",
       "      <th>diasemchuva</th>\n",
       "      <th>precipitacao</th>\n",
       "      <th>riscofogo</th>\n",
       "      <th>latitude</th>\n",
       "      <th>longitude</th>\n",
       "      <th>frp</th>\n",
       "    </tr>\n",
       "  </thead>\n",
       "  <tbody>\n",
       "    <tr>\n",
       "      <th>0</th>\n",
       "      <td>2018/01/01 04:06:00</td>\n",
       "      <td>NPP-375D</td>\n",
       "      <td>Brasil</td>\n",
       "      <td>MARANHAO</td>\n",
       "      <td>CURURUPU</td>\n",
       "      <td>Amazonia</td>\n",
       "      <td>0.0</td>\n",
       "      <td>0.8</td>\n",
       "      <td>0.0</td>\n",
       "      <td>-1.87136</td>\n",
       "      <td>-44.78587</td>\n",
       "      <td>NaN</td>\n",
       "    </tr>\n",
       "    <tr>\n",
       "      <th>1</th>\n",
       "      <td>2018/01/01 04:06:00</td>\n",
       "      <td>NPP-375D</td>\n",
       "      <td>Brasil</td>\n",
       "      <td>MARANHAO</td>\n",
       "      <td>MARACACUME</td>\n",
       "      <td>Amazonia</td>\n",
       "      <td>0.0</td>\n",
       "      <td>0.1</td>\n",
       "      <td>0.1</td>\n",
       "      <td>-1.82566</td>\n",
       "      <td>-45.88670</td>\n",
       "      <td>NaN</td>\n",
       "    </tr>\n",
       "    <tr>\n",
       "      <th>2</th>\n",
       "      <td>2018/01/01 04:06:00</td>\n",
       "      <td>NPP-375D</td>\n",
       "      <td>Brasil</td>\n",
       "      <td>MARANHAO</td>\n",
       "      <td>BURITICUPU</td>\n",
       "      <td>Amazonia</td>\n",
       "      <td>0.0</td>\n",
       "      <td>1.1</td>\n",
       "      <td>0.1</td>\n",
       "      <td>-4.57874</td>\n",
       "      <td>-46.38660</td>\n",
       "      <td>NaN</td>\n",
       "    </tr>\n",
       "    <tr>\n",
       "      <th>3</th>\n",
       "      <td>2018/01/01 04:06:00</td>\n",
       "      <td>NPP-375D</td>\n",
       "      <td>Brasil</td>\n",
       "      <td>MARANHAO</td>\n",
       "      <td>PAULO RAMOS</td>\n",
       "      <td>Amazonia</td>\n",
       "      <td>0.0</td>\n",
       "      <td>1.4</td>\n",
       "      <td>0.1</td>\n",
       "      <td>-4.59554</td>\n",
       "      <td>-45.66039</td>\n",
       "      <td>NaN</td>\n",
       "    </tr>\n",
       "    <tr>\n",
       "      <th>4</th>\n",
       "      <td>2018/01/01 04:06:00</td>\n",
       "      <td>NPP-375D</td>\n",
       "      <td>Brasil</td>\n",
       "      <td>MARANHAO</td>\n",
       "      <td>ARAME</td>\n",
       "      <td>Amazonia</td>\n",
       "      <td>0.0</td>\n",
       "      <td>0.4</td>\n",
       "      <td>0.3</td>\n",
       "      <td>-5.21960</td>\n",
       "      <td>-46.12886</td>\n",
       "      <td>NaN</td>\n",
       "    </tr>\n",
       "  </tbody>\n",
       "</table>\n",
       "</div>"
      ],
      "text/plain": [
       "              datahora  satelite    pais    estado    municipio     bioma  \\\n",
       "0  2018/01/01 04:06:00  NPP-375D  Brasil  MARANHAO     CURURUPU  Amazonia   \n",
       "1  2018/01/01 04:06:00  NPP-375D  Brasil  MARANHAO   MARACACUME  Amazonia   \n",
       "2  2018/01/01 04:06:00  NPP-375D  Brasil  MARANHAO   BURITICUPU  Amazonia   \n",
       "3  2018/01/01 04:06:00  NPP-375D  Brasil  MARANHAO  PAULO RAMOS  Amazonia   \n",
       "4  2018/01/01 04:06:00  NPP-375D  Brasil  MARANHAO        ARAME  Amazonia   \n",
       "\n",
       "   diasemchuva  precipitacao  riscofogo  latitude  longitude  frp  \n",
       "0          0.0           0.8        0.0  -1.87136  -44.78587  NaN  \n",
       "1          0.0           0.1        0.1  -1.82566  -45.88670  NaN  \n",
       "2          0.0           1.1        0.1  -4.57874  -46.38660  NaN  \n",
       "3          0.0           1.4        0.1  -4.59554  -45.66039  NaN  \n",
       "4          0.0           0.4        0.3  -5.21960  -46.12886  NaN  "
      ]
     },
     "execution_count": 5,
     "metadata": {},
     "output_type": "execute_result"
    }
   ],
   "source": [
    "hotspot_df = pd.concat(map(pd.read_csv, hotspot_files))\n",
    "hotspot_df.head()"
   ]
  },
  {
   "cell_type": "markdown",
   "id": "d070144d-8f4a-45dd-b20d-243946db314a",
   "metadata": {},
   "source": [
    "### Amazon SPI data"
   ]
  },
  {
   "cell_type": "markdown",
   "id": "48de9f0b-ef95-4615-b925-3e3a56db30e9",
   "metadata": {},
   "source": [
    "__List files used in the analysis__"
   ]
  },
  {
   "cell_type": "code",
   "execution_count": 6,
   "id": "30423759-edc0-4b92-8f2a-4d68a7084ab8",
   "metadata": {},
   "outputs": [],
   "source": [
    "path = ''.join([WORKDIR, \"/data/spi/amazonia/detailed\"])\n",
    "spi_files = glob.glob(os.path.join(path, \"*.csv\"))"
   ]
  },
  {
   "cell_type": "markdown",
   "id": "ce0b39eb-d6fc-488e-a4a9-c957ab994c1c",
   "metadata": {},
   "source": [
    "__Load into Pandas DataFrame__"
   ]
  },
  {
   "cell_type": "code",
   "execution_count": 7,
   "id": "25862f05-2b4b-41b1-9816-c52ca596b52c",
   "metadata": {},
   "outputs": [
    {
     "data": {
      "text/html": [
       "<div>\n",
       "<style scoped>\n",
       "    .dataframe tbody tr th:only-of-type {\n",
       "        vertical-align: middle;\n",
       "    }\n",
       "\n",
       "    .dataframe tbody tr th {\n",
       "        vertical-align: top;\n",
       "    }\n",
       "\n",
       "    .dataframe thead th {\n",
       "        text-align: right;\n",
       "    }\n",
       "</style>\n",
       "<table border=\"1\" class=\"dataframe\">\n",
       "  <thead>\n",
       "    <tr style=\"text-align: right;\">\n",
       "      <th></th>\n",
       "      <th>Ano</th>\n",
       "      <th>Código IBGE</th>\n",
       "      <th>Município</th>\n",
       "      <th>Estado</th>\n",
       "      <th>IPS Amazônia</th>\n",
       "      <th>Ranking IPS</th>\n",
       "      <th>Necessidades Humanas Básicas</th>\n",
       "      <th>Fundamentos para o Bem-Estar</th>\n",
       "      <th>Oportunidades</th>\n",
       "      <th>Nutrição e cuidados médicos básicos</th>\n",
       "      <th>...</th>\n",
       "      <th>Desmatamento recente 2019, 2019, 2020 (% área total do município)</th>\n",
       "      <th>Focos de calor 2020 (nª de focos/1.000 habitantes)</th>\n",
       "      <th>Diversidade Partidária 2020 (% vereadores eleitos partidos diferentes)</th>\n",
       "      <th>Transporte Público 2020 (nº de ônibus e micro-ônibus/1.000 habitantes)</th>\n",
       "      <th>Acesso à cultura, esporte e lazer 2018 (Categórica 1-10)</th>\n",
       "      <th>Gravidez na infância e adolescência 2019 (% de filhos de mães com até 19 anos)</th>\n",
       "      <th>Trabalho Infantil 2019 (nº de famílias com ao menos 1 membro em trabalho infantil/1.000 famílias)</th>\n",
       "      <th>Vulnerabilidade familiar 2019 (% de filhos de mães solteiras)</th>\n",
       "      <th>Empregos ensino superior 2019 (% de empregos em relação ao total)</th>\n",
       "      <th>Mulheres com empregos ensino superior 2019 (% de empregos em relação ao total)</th>\n",
       "    </tr>\n",
       "  </thead>\n",
       "  <tbody>\n",
       "    <tr>\n",
       "      <th>0</th>\n",
       "      <td>2014</td>\n",
       "      <td>1100015.0</td>\n",
       "      <td>Alta Floresta D'Oeste</td>\n",
       "      <td>RO</td>\n",
       "      <td>56.594170</td>\n",
       "      <td>197.0</td>\n",
       "      <td>60.195511</td>\n",
       "      <td>57.369340</td>\n",
       "      <td>52.217659</td>\n",
       "      <td>95.154708</td>\n",
       "      <td>...</td>\n",
       "      <td>NaN</td>\n",
       "      <td>NaN</td>\n",
       "      <td>NaN</td>\n",
       "      <td>NaN</td>\n",
       "      <td>NaN</td>\n",
       "      <td>NaN</td>\n",
       "      <td>NaN</td>\n",
       "      <td>NaN</td>\n",
       "      <td>NaN</td>\n",
       "      <td>NaN</td>\n",
       "    </tr>\n",
       "    <tr>\n",
       "      <th>1</th>\n",
       "      <td>2014</td>\n",
       "      <td>1100023.0</td>\n",
       "      <td>Ariquemes</td>\n",
       "      <td>RO</td>\n",
       "      <td>55.728511</td>\n",
       "      <td>264.0</td>\n",
       "      <td>59.059533</td>\n",
       "      <td>59.304304</td>\n",
       "      <td>48.821695</td>\n",
       "      <td>93.920755</td>\n",
       "      <td>...</td>\n",
       "      <td>NaN</td>\n",
       "      <td>NaN</td>\n",
       "      <td>NaN</td>\n",
       "      <td>NaN</td>\n",
       "      <td>NaN</td>\n",
       "      <td>NaN</td>\n",
       "      <td>NaN</td>\n",
       "      <td>NaN</td>\n",
       "      <td>NaN</td>\n",
       "      <td>NaN</td>\n",
       "    </tr>\n",
       "    <tr>\n",
       "      <th>2</th>\n",
       "      <td>2014</td>\n",
       "      <td>1100031.0</td>\n",
       "      <td>Cabixi</td>\n",
       "      <td>RO</td>\n",
       "      <td>58.915724</td>\n",
       "      <td>90.0</td>\n",
       "      <td>74.178132</td>\n",
       "      <td>54.787265</td>\n",
       "      <td>47.781775</td>\n",
       "      <td>88.092664</td>\n",
       "      <td>...</td>\n",
       "      <td>NaN</td>\n",
       "      <td>NaN</td>\n",
       "      <td>NaN</td>\n",
       "      <td>NaN</td>\n",
       "      <td>NaN</td>\n",
       "      <td>NaN</td>\n",
       "      <td>NaN</td>\n",
       "      <td>NaN</td>\n",
       "      <td>NaN</td>\n",
       "      <td>NaN</td>\n",
       "    </tr>\n",
       "    <tr>\n",
       "      <th>3</th>\n",
       "      <td>2014</td>\n",
       "      <td>1100049.0</td>\n",
       "      <td>Cacoal</td>\n",
       "      <td>RO</td>\n",
       "      <td>61.717654</td>\n",
       "      <td>28.0</td>\n",
       "      <td>72.691093</td>\n",
       "      <td>60.613765</td>\n",
       "      <td>51.848105</td>\n",
       "      <td>91.956107</td>\n",
       "      <td>...</td>\n",
       "      <td>NaN</td>\n",
       "      <td>NaN</td>\n",
       "      <td>NaN</td>\n",
       "      <td>NaN</td>\n",
       "      <td>NaN</td>\n",
       "      <td>NaN</td>\n",
       "      <td>NaN</td>\n",
       "      <td>NaN</td>\n",
       "      <td>NaN</td>\n",
       "      <td>NaN</td>\n",
       "    </tr>\n",
       "    <tr>\n",
       "      <th>4</th>\n",
       "      <td>2014</td>\n",
       "      <td>1100056.0</td>\n",
       "      <td>Cerejeiras</td>\n",
       "      <td>RO</td>\n",
       "      <td>54.593926</td>\n",
       "      <td>361.0</td>\n",
       "      <td>62.606094</td>\n",
       "      <td>62.512401</td>\n",
       "      <td>38.663282</td>\n",
       "      <td>87.810163</td>\n",
       "      <td>...</td>\n",
       "      <td>NaN</td>\n",
       "      <td>NaN</td>\n",
       "      <td>NaN</td>\n",
       "      <td>NaN</td>\n",
       "      <td>NaN</td>\n",
       "      <td>NaN</td>\n",
       "      <td>NaN</td>\n",
       "      <td>NaN</td>\n",
       "      <td>NaN</td>\n",
       "      <td>NaN</td>\n",
       "    </tr>\n",
       "  </tbody>\n",
       "</table>\n",
       "<p>5 rows × 158 columns</p>\n",
       "</div>"
      ],
      "text/plain": [
       "    Ano  Código IBGE              Município Estado  IPS Amazônia  Ranking IPS  \\\n",
       "0  2014    1100015.0  Alta Floresta D'Oeste     RO     56.594170        197.0   \n",
       "1  2014    1100023.0              Ariquemes     RO     55.728511        264.0   \n",
       "2  2014    1100031.0                 Cabixi     RO     58.915724         90.0   \n",
       "3  2014    1100049.0                 Cacoal     RO     61.717654         28.0   \n",
       "4  2014    1100056.0             Cerejeiras     RO     54.593926        361.0   \n",
       "\n",
       "   Necessidades Humanas Básicas  Fundamentos para o Bem-Estar  Oportunidades  \\\n",
       "0                     60.195511                     57.369340      52.217659   \n",
       "1                     59.059533                     59.304304      48.821695   \n",
       "2                     74.178132                     54.787265      47.781775   \n",
       "3                     72.691093                     60.613765      51.848105   \n",
       "4                     62.606094                     62.512401      38.663282   \n",
       "\n",
       "   Nutrição e cuidados médicos básicos  ...  \\\n",
       "0                            95.154708  ...   \n",
       "1                            93.920755  ...   \n",
       "2                            88.092664  ...   \n",
       "3                            91.956107  ...   \n",
       "4                            87.810163  ...   \n",
       "\n",
       "   Desmatamento recente 2019, 2019, 2020 (% área total do município)  \\\n",
       "0                                                NaN                   \n",
       "1                                                NaN                   \n",
       "2                                                NaN                   \n",
       "3                                                NaN                   \n",
       "4                                                NaN                   \n",
       "\n",
       "   Focos de calor 2020 (nª de focos/1.000 habitantes)  \\\n",
       "0                                                NaN    \n",
       "1                                                NaN    \n",
       "2                                                NaN    \n",
       "3                                                NaN    \n",
       "4                                                NaN    \n",
       "\n",
       "   Diversidade Partidária 2020 (% vereadores eleitos partidos diferentes)  \\\n",
       "0                                                NaN                        \n",
       "1                                                NaN                        \n",
       "2                                                NaN                        \n",
       "3                                                NaN                        \n",
       "4                                                NaN                        \n",
       "\n",
       "   Transporte Público 2020 (nº de ônibus e micro-ônibus/1.000 habitantes)  \\\n",
       "0                                                NaN                        \n",
       "1                                                NaN                        \n",
       "2                                                NaN                        \n",
       "3                                                NaN                        \n",
       "4                                                NaN                        \n",
       "\n",
       "   Acesso à cultura, esporte e lazer 2018 (Categórica 1-10)  \\\n",
       "0                                                NaN          \n",
       "1                                                NaN          \n",
       "2                                                NaN          \n",
       "3                                                NaN          \n",
       "4                                                NaN          \n",
       "\n",
       "   Gravidez na infância e adolescência 2019 (% de filhos de mães com até 19 anos)  \\\n",
       "0                                                NaN                                \n",
       "1                                                NaN                                \n",
       "2                                                NaN                                \n",
       "3                                                NaN                                \n",
       "4                                                NaN                                \n",
       "\n",
       "   Trabalho Infantil 2019 (nº de famílias com ao menos 1 membro em trabalho infantil/1.000 famílias)  \\\n",
       "0                                                NaN                                                   \n",
       "1                                                NaN                                                   \n",
       "2                                                NaN                                                   \n",
       "3                                                NaN                                                   \n",
       "4                                                NaN                                                   \n",
       "\n",
       "   Vulnerabilidade familiar 2019 (% de filhos de mães solteiras)  \\\n",
       "0                                                NaN               \n",
       "1                                                NaN               \n",
       "2                                                NaN               \n",
       "3                                                NaN               \n",
       "4                                                NaN               \n",
       "\n",
       "   Empregos ensino superior 2019 (% de empregos em relação ao total)  \\\n",
       "0                                                NaN                   \n",
       "1                                                NaN                   \n",
       "2                                                NaN                   \n",
       "3                                                NaN                   \n",
       "4                                                NaN                   \n",
       "\n",
       "   Mulheres com empregos ensino superior 2019 (% de empregos em relação ao total)  \n",
       "0                                                NaN                               \n",
       "1                                                NaN                               \n",
       "2                                                NaN                               \n",
       "3                                                NaN                               \n",
       "4                                                NaN                               \n",
       "\n",
       "[5 rows x 158 columns]"
      ]
     },
     "execution_count": 7,
     "metadata": {},
     "output_type": "execute_result"
    }
   ],
   "source": [
    "spi_df = pd.concat(map(pd.read_csv, spi_files))\n",
    "spi_df.head()"
   ]
  },
  {
   "cell_type": "markdown",
   "id": "dfc7c6e0-1717-4212-8845-0cb780502d05",
   "metadata": {},
   "source": [
    "## Explore the data"
   ]
  },
  {
   "cell_type": "markdown",
   "id": "a24e5daf-e9f7-4cdf-a6dd-44806fcaa508",
   "metadata": {},
   "source": [
    "### Describe the data I"
   ]
  },
  {
   "cell_type": "markdown",
   "id": "6d1969fd-bdab-41bc-b703-3984967614c3",
   "metadata": {},
   "source": [
    "__Hotspot__"
   ]
  },
  {
   "cell_type": "code",
   "execution_count": 8,
   "id": "c36f5438-43a7-4e01-a732-6d9d96a82b69",
   "metadata": {},
   "outputs": [
    {
     "data": {
      "text/html": [
       "<div>\n",
       "<style scoped>\n",
       "    .dataframe tbody tr th:only-of-type {\n",
       "        vertical-align: middle;\n",
       "    }\n",
       "\n",
       "    .dataframe tbody tr th {\n",
       "        vertical-align: top;\n",
       "    }\n",
       "\n",
       "    .dataframe thead th {\n",
       "        text-align: right;\n",
       "    }\n",
       "</style>\n",
       "<table border=\"1\" class=\"dataframe\">\n",
       "  <thead>\n",
       "    <tr style=\"text-align: right;\">\n",
       "      <th></th>\n",
       "      <th>count</th>\n",
       "      <th>mean</th>\n",
       "      <th>std</th>\n",
       "      <th>min</th>\n",
       "      <th>25%</th>\n",
       "      <th>50%</th>\n",
       "      <th>75%</th>\n",
       "      <th>max</th>\n",
       "    </tr>\n",
       "  </thead>\n",
       "  <tbody>\n",
       "    <tr>\n",
       "      <th>diasemchuva</th>\n",
       "      <td>16943121.0</td>\n",
       "      <td>13.348092</td>\n",
       "      <td>65.530664</td>\n",
       "      <td>-999.00000</td>\n",
       "      <td>2.00000</td>\n",
       "      <td>5.000000</td>\n",
       "      <td>20.00000</td>\n",
       "      <td>120.00</td>\n",
       "    </tr>\n",
       "    <tr>\n",
       "      <th>precipitacao</th>\n",
       "      <td>16943121.0</td>\n",
       "      <td>0.859245</td>\n",
       "      <td>3.598378</td>\n",
       "      <td>0.00000</td>\n",
       "      <td>0.00000</td>\n",
       "      <td>0.000000</td>\n",
       "      <td>0.10000</td>\n",
       "      <td>203.70</td>\n",
       "    </tr>\n",
       "    <tr>\n",
       "      <th>riscofogo</th>\n",
       "      <td>16943121.0</td>\n",
       "      <td>-5.579153</td>\n",
       "      <td>79.406999</td>\n",
       "      <td>-999.00000</td>\n",
       "      <td>0.60000</td>\n",
       "      <td>1.000000</td>\n",
       "      <td>1.00000</td>\n",
       "      <td>1.00</td>\n",
       "    </tr>\n",
       "    <tr>\n",
       "      <th>latitude</th>\n",
       "      <td>19706174.0</td>\n",
       "      <td>-8.260597</td>\n",
       "      <td>4.323302</td>\n",
       "      <td>-18.03900</td>\n",
       "      <td>-11.07466</td>\n",
       "      <td>-8.680406</td>\n",
       "      <td>-5.30000</td>\n",
       "      <td>5.23</td>\n",
       "    </tr>\n",
       "    <tr>\n",
       "      <th>longitude</th>\n",
       "      <td>19706174.0</td>\n",
       "      <td>-53.774619</td>\n",
       "      <td>6.601975</td>\n",
       "      <td>-73.93146</td>\n",
       "      <td>-58.20700</td>\n",
       "      <td>-53.091000</td>\n",
       "      <td>-48.23736</td>\n",
       "      <td>-41.80</td>\n",
       "    </tr>\n",
       "    <tr>\n",
       "      <th>frp</th>\n",
       "      <td>5140138.0</td>\n",
       "      <td>19.285664</td>\n",
       "      <td>56.710458</td>\n",
       "      <td>-3.70000</td>\n",
       "      <td>3.30000</td>\n",
       "      <td>7.400000</td>\n",
       "      <td>17.10000</td>\n",
       "      <td>9722.60</td>\n",
       "    </tr>\n",
       "  </tbody>\n",
       "</table>\n",
       "</div>"
      ],
      "text/plain": [
       "                   count       mean        std        min       25%  \\\n",
       "diasemchuva   16943121.0  13.348092  65.530664 -999.00000   2.00000   \n",
       "precipitacao  16943121.0   0.859245   3.598378    0.00000   0.00000   \n",
       "riscofogo     16943121.0  -5.579153  79.406999 -999.00000   0.60000   \n",
       "latitude      19706174.0  -8.260597   4.323302  -18.03900 -11.07466   \n",
       "longitude     19706174.0 -53.774619   6.601975  -73.93146 -58.20700   \n",
       "frp            5140138.0  19.285664  56.710458   -3.70000   3.30000   \n",
       "\n",
       "                    50%       75%      max  \n",
       "diasemchuva    5.000000  20.00000   120.00  \n",
       "precipitacao   0.000000   0.10000   203.70  \n",
       "riscofogo      1.000000   1.00000     1.00  \n",
       "latitude      -8.680406  -5.30000     5.23  \n",
       "longitude    -53.091000 -48.23736   -41.80  \n",
       "frp            7.400000  17.10000  9722.60  "
      ]
     },
     "execution_count": 8,
     "metadata": {},
     "output_type": "execute_result"
    }
   ],
   "source": [
    "hotspot_df.describe().transpose()"
   ]
  },
  {
   "cell_type": "markdown",
   "id": "5fb50c0c-1426-42dd-84ed-8a6b692c6222",
   "metadata": {},
   "source": [
    "__Amazon SPI__"
   ]
  },
  {
   "cell_type": "code",
   "execution_count": 9,
   "id": "67d6b516-6217-4960-916d-8df98007137b",
   "metadata": {},
   "outputs": [
    {
     "data": {
      "text/html": [
       "<div>\n",
       "<style scoped>\n",
       "    .dataframe tbody tr th:only-of-type {\n",
       "        vertical-align: middle;\n",
       "    }\n",
       "\n",
       "    .dataframe tbody tr th {\n",
       "        vertical-align: top;\n",
       "    }\n",
       "\n",
       "    .dataframe thead th {\n",
       "        text-align: right;\n",
       "    }\n",
       "</style>\n",
       "<table border=\"1\" class=\"dataframe\">\n",
       "  <thead>\n",
       "    <tr style=\"text-align: right;\">\n",
       "      <th></th>\n",
       "      <th>count</th>\n",
       "      <th>mean</th>\n",
       "      <th>std</th>\n",
       "      <th>min</th>\n",
       "      <th>25%</th>\n",
       "      <th>50%</th>\n",
       "      <th>75%</th>\n",
       "      <th>max</th>\n",
       "    </tr>\n",
       "  </thead>\n",
       "  <tbody>\n",
       "    <tr>\n",
       "      <th>Ano</th>\n",
       "      <td>2319.0</td>\n",
       "      <td>2.017667e+03</td>\n",
       "      <td>2.868060e+00</td>\n",
       "      <td>2.014000e+03</td>\n",
       "      <td>2.014000e+03</td>\n",
       "      <td>2.018000e+03</td>\n",
       "      <td>2.021000e+03</td>\n",
       "      <td>2.021000e+03</td>\n",
       "    </tr>\n",
       "    <tr>\n",
       "      <th>Código IBGE</th>\n",
       "      <td>2316.0</td>\n",
       "      <td>2.288414e+06</td>\n",
       "      <td>1.365403e+06</td>\n",
       "      <td>1.100015e+06</td>\n",
       "      <td>1.502798e+06</td>\n",
       "      <td>1.713254e+06</td>\n",
       "      <td>2.109278e+06</td>\n",
       "      <td>5.108956e+06</td>\n",
       "    </tr>\n",
       "    <tr>\n",
       "      <th>IPS Amazônia</th>\n",
       "      <td>2316.0</td>\n",
       "      <td>5.456015e+01</td>\n",
       "      <td>3.811311e+00</td>\n",
       "      <td>4.359790e+01</td>\n",
       "      <td>5.192879e+01</td>\n",
       "      <td>5.430994e+01</td>\n",
       "      <td>5.680819e+01</td>\n",
       "      <td>7.441633e+01</td>\n",
       "    </tr>\n",
       "    <tr>\n",
       "      <th>Ranking IPS</th>\n",
       "      <td>2316.0</td>\n",
       "      <td>3.865000e+02</td>\n",
       "      <td>2.229051e+02</td>\n",
       "      <td>1.000000e+00</td>\n",
       "      <td>1.937500e+02</td>\n",
       "      <td>3.865000e+02</td>\n",
       "      <td>5.792500e+02</td>\n",
       "      <td>7.720000e+02</td>\n",
       "    </tr>\n",
       "    <tr>\n",
       "      <th>Necessidades Humanas Básicas</th>\n",
       "      <td>2319.0</td>\n",
       "      <td>6.437410e+01</td>\n",
       "      <td>6.825254e+00</td>\n",
       "      <td>4.337849e+01</td>\n",
       "      <td>5.969696e+01</td>\n",
       "      <td>6.432076e+01</td>\n",
       "      <td>6.887852e+01</td>\n",
       "      <td>8.712833e+01</td>\n",
       "    </tr>\n",
       "    <tr>\n",
       "      <th>...</th>\n",
       "      <td>...</td>\n",
       "      <td>...</td>\n",
       "      <td>...</td>\n",
       "      <td>...</td>\n",
       "      <td>...</td>\n",
       "      <td>...</td>\n",
       "      <td>...</td>\n",
       "      <td>...</td>\n",
       "    </tr>\n",
       "    <tr>\n",
       "      <th>Gravidez na infância e adolescência 2019 (% de filhos de mães com até 19 anos)</th>\n",
       "      <td>772.0</td>\n",
       "      <td>2.384973e+01</td>\n",
       "      <td>6.295921e+00</td>\n",
       "      <td>5.172414e+00</td>\n",
       "      <td>1.955196e+01</td>\n",
       "      <td>2.412254e+01</td>\n",
       "      <td>2.815534e+01</td>\n",
       "      <td>4.545455e+01</td>\n",
       "    </tr>\n",
       "    <tr>\n",
       "      <th>Trabalho Infantil 2019 (nº de famílias com ao menos 1 membro em trabalho infantil/1.000 famílias)</th>\n",
       "      <td>772.0</td>\n",
       "      <td>3.170346e+01</td>\n",
       "      <td>6.065901e+01</td>\n",
       "      <td>0.000000e+00</td>\n",
       "      <td>2.748239e+00</td>\n",
       "      <td>9.631206e+00</td>\n",
       "      <td>3.342557e+01</td>\n",
       "      <td>4.740000e+02</td>\n",
       "    </tr>\n",
       "    <tr>\n",
       "      <th>Vulnerabilidade familiar 2019 (% de filhos de mães solteiras)</th>\n",
       "      <td>772.0</td>\n",
       "      <td>4.370381e+01</td>\n",
       "      <td>2.095850e+01</td>\n",
       "      <td>5.000000e+00</td>\n",
       "      <td>2.629215e+01</td>\n",
       "      <td>3.899752e+01</td>\n",
       "      <td>5.949844e+01</td>\n",
       "      <td>9.534161e+01</td>\n",
       "    </tr>\n",
       "    <tr>\n",
       "      <th>Empregos ensino superior 2019 (% de empregos em relação ao total)</th>\n",
       "      <td>772.0</td>\n",
       "      <td>1.828965e+01</td>\n",
       "      <td>1.281655e+01</td>\n",
       "      <td>4.964422e+00</td>\n",
       "      <td>1.129523e+01</td>\n",
       "      <td>1.595505e+01</td>\n",
       "      <td>2.173583e+01</td>\n",
       "      <td>1.479940e+02</td>\n",
       "    </tr>\n",
       "    <tr>\n",
       "      <th>Mulheres com empregos ensino superior 2019 (% de empregos em relação ao total)</th>\n",
       "      <td>772.0</td>\n",
       "      <td>1.231738e+01</td>\n",
       "      <td>7.690014e+00</td>\n",
       "      <td>5.000000e+00</td>\n",
       "      <td>7.447498e+00</td>\n",
       "      <td>1.082179e+01</td>\n",
       "      <td>1.505757e+01</td>\n",
       "      <td>8.616407e+01</td>\n",
       "    </tr>\n",
       "  </tbody>\n",
       "</table>\n",
       "<p>156 rows × 8 columns</p>\n",
       "</div>"
      ],
      "text/plain": [
       "                                                     count          mean  \\\n",
       "Ano                                                 2319.0  2.017667e+03   \n",
       "Código IBGE                                         2316.0  2.288414e+06   \n",
       "IPS Amazônia                                        2316.0  5.456015e+01   \n",
       "Ranking IPS                                         2316.0  3.865000e+02   \n",
       "Necessidades Humanas Básicas                        2319.0  6.437410e+01   \n",
       "...                                                    ...           ...   \n",
       "Gravidez na infância e adolescência 2019 (% de ...   772.0  2.384973e+01   \n",
       "Trabalho Infantil 2019 (nº de famílias com ao m...   772.0  3.170346e+01   \n",
       "Vulnerabilidade familiar 2019 (% de filhos de m...   772.0  4.370381e+01   \n",
       "Empregos ensino superior 2019 (% de empregos em...   772.0  1.828965e+01   \n",
       "Mulheres com empregos ensino superior 2019 (% d...   772.0  1.231738e+01   \n",
       "\n",
       "                                                             std  \\\n",
       "Ano                                                 2.868060e+00   \n",
       "Código IBGE                                         1.365403e+06   \n",
       "IPS Amazônia                                        3.811311e+00   \n",
       "Ranking IPS                                         2.229051e+02   \n",
       "Necessidades Humanas Básicas                        6.825254e+00   \n",
       "...                                                          ...   \n",
       "Gravidez na infância e adolescência 2019 (% de ...  6.295921e+00   \n",
       "Trabalho Infantil 2019 (nº de famílias com ao m...  6.065901e+01   \n",
       "Vulnerabilidade familiar 2019 (% de filhos de m...  2.095850e+01   \n",
       "Empregos ensino superior 2019 (% de empregos em...  1.281655e+01   \n",
       "Mulheres com empregos ensino superior 2019 (% d...  7.690014e+00   \n",
       "\n",
       "                                                             min  \\\n",
       "Ano                                                 2.014000e+03   \n",
       "Código IBGE                                         1.100015e+06   \n",
       "IPS Amazônia                                        4.359790e+01   \n",
       "Ranking IPS                                         1.000000e+00   \n",
       "Necessidades Humanas Básicas                        4.337849e+01   \n",
       "...                                                          ...   \n",
       "Gravidez na infância e adolescência 2019 (% de ...  5.172414e+00   \n",
       "Trabalho Infantil 2019 (nº de famílias com ao m...  0.000000e+00   \n",
       "Vulnerabilidade familiar 2019 (% de filhos de m...  5.000000e+00   \n",
       "Empregos ensino superior 2019 (% de empregos em...  4.964422e+00   \n",
       "Mulheres com empregos ensino superior 2019 (% d...  5.000000e+00   \n",
       "\n",
       "                                                             25%  \\\n",
       "Ano                                                 2.014000e+03   \n",
       "Código IBGE                                         1.502798e+06   \n",
       "IPS Amazônia                                        5.192879e+01   \n",
       "Ranking IPS                                         1.937500e+02   \n",
       "Necessidades Humanas Básicas                        5.969696e+01   \n",
       "...                                                          ...   \n",
       "Gravidez na infância e adolescência 2019 (% de ...  1.955196e+01   \n",
       "Trabalho Infantil 2019 (nº de famílias com ao m...  2.748239e+00   \n",
       "Vulnerabilidade familiar 2019 (% de filhos de m...  2.629215e+01   \n",
       "Empregos ensino superior 2019 (% de empregos em...  1.129523e+01   \n",
       "Mulheres com empregos ensino superior 2019 (% d...  7.447498e+00   \n",
       "\n",
       "                                                             50%  \\\n",
       "Ano                                                 2.018000e+03   \n",
       "Código IBGE                                         1.713254e+06   \n",
       "IPS Amazônia                                        5.430994e+01   \n",
       "Ranking IPS                                         3.865000e+02   \n",
       "Necessidades Humanas Básicas                        6.432076e+01   \n",
       "...                                                          ...   \n",
       "Gravidez na infância e adolescência 2019 (% de ...  2.412254e+01   \n",
       "Trabalho Infantil 2019 (nº de famílias com ao m...  9.631206e+00   \n",
       "Vulnerabilidade familiar 2019 (% de filhos de m...  3.899752e+01   \n",
       "Empregos ensino superior 2019 (% de empregos em...  1.595505e+01   \n",
       "Mulheres com empregos ensino superior 2019 (% d...  1.082179e+01   \n",
       "\n",
       "                                                             75%           max  \n",
       "Ano                                                 2.021000e+03  2.021000e+03  \n",
       "Código IBGE                                         2.109278e+06  5.108956e+06  \n",
       "IPS Amazônia                                        5.680819e+01  7.441633e+01  \n",
       "Ranking IPS                                         5.792500e+02  7.720000e+02  \n",
       "Necessidades Humanas Básicas                        6.887852e+01  8.712833e+01  \n",
       "...                                                          ...           ...  \n",
       "Gravidez na infância e adolescência 2019 (% de ...  2.815534e+01  4.545455e+01  \n",
       "Trabalho Infantil 2019 (nº de famílias com ao m...  3.342557e+01  4.740000e+02  \n",
       "Vulnerabilidade familiar 2019 (% de filhos de m...  5.949844e+01  9.534161e+01  \n",
       "Empregos ensino superior 2019 (% de empregos em...  2.173583e+01  1.479940e+02  \n",
       "Mulheres com empregos ensino superior 2019 (% d...  1.505757e+01  8.616407e+01  \n",
       "\n",
       "[156 rows x 8 columns]"
      ]
     },
     "execution_count": 9,
     "metadata": {},
     "output_type": "execute_result"
    }
   ],
   "source": [
    "spi_df.describe().transpose()"
   ]
  },
  {
   "cell_type": "markdown",
   "id": "2876cb6c-fd6f-4cd9-b899-4d9c165b3b56",
   "metadata": {},
   "source": [
    "### Get information about data"
   ]
  },
  {
   "cell_type": "markdown",
   "id": "020b3c1e-cc14-486f-a87c-8647ccbe4928",
   "metadata": {},
   "source": [
    "__Hotspot__"
   ]
  },
  {
   "cell_type": "code",
   "execution_count": 10,
   "id": "32fa237e-605d-456e-9f6b-7ff33878c7c8",
   "metadata": {},
   "outputs": [
    {
     "name": "stdout",
     "output_type": "stream",
     "text": [
      "<class 'pandas.core.frame.DataFrame'>\n",
      "Int64Index: 19706174 entries, 0 to 318737\n",
      "Data columns (total 12 columns):\n",
      " #   Column        Dtype  \n",
      "---  ------        -----  \n",
      " 0   datahora      object \n",
      " 1   satelite      object \n",
      " 2   pais          object \n",
      " 3   estado        object \n",
      " 4   municipio     object \n",
      " 5   bioma         object \n",
      " 6   diasemchuva   float64\n",
      " 7   precipitacao  float64\n",
      " 8   riscofogo     float64\n",
      " 9   latitude      float64\n",
      " 10  longitude     float64\n",
      " 11  frp           float64\n",
      "dtypes: float64(6), object(6)\n",
      "memory usage: 1.9+ GB\n"
     ]
    }
   ],
   "source": [
    "hotspot_df.info()"
   ]
  },
  {
   "cell_type": "markdown",
   "id": "39235ae6-9849-4535-8578-6f4950734fa4",
   "metadata": {},
   "source": [
    "__Amazon SPI__"
   ]
  },
  {
   "cell_type": "code",
   "execution_count": 11,
   "id": "4a29789e-e020-49ee-800c-fa0dcd91b4c2",
   "metadata": {},
   "outputs": [
    {
     "name": "stdout",
     "output_type": "stream",
     "text": [
      "<class 'pandas.core.frame.DataFrame'>\n",
      "Int64Index: 2319 entries, 0 to 772\n",
      "Columns: 158 entries, Ano to Mulheres com empregos ensino superior 2019 (% de empregos em relação ao total)\n",
      "dtypes: float64(155), int64(1), object(2)\n",
      "memory usage: 2.8+ MB\n"
     ]
    }
   ],
   "source": [
    "spi_df.info()"
   ]
  },
  {
   "cell_type": "markdown",
   "id": "d1176ba2-11fa-49fb-8959-88bec74427c9",
   "metadata": {},
   "source": [
    "### Percentage of missing data"
   ]
  },
  {
   "cell_type": "code",
   "execution_count": 12,
   "id": "d7a585fc-66f7-4325-b95d-939ebdd2c969",
   "metadata": {},
   "outputs": [],
   "source": [
    "def get_pct_missing_data(dataset):\n",
    "    \"\"\"\n",
    "    Get Percentage of missing data\n",
    "    \n",
    "    Attributes\n",
    "    ----------\n",
    "    dataset : Pandas DataFrame\n",
    "    \"\"\"\n",
    "    total = dataset.isnull().sum().sort_values(ascending=False)\n",
    "    percent = dataset.isnull().sum() / dataset.isnull().count() * 100\n",
    "    percent = (round(percent, 4)).sort_values(ascending=False)\n",
    "\n",
    "    missing_data = pd.concat([total, percent], keys=[\"Total\", '%'], axis=1)\n",
    "\n",
    "    return missing_data"
   ]
  },
  {
   "cell_type": "markdown",
   "id": "6860687a-d49d-4f32-ac30-3a8b31147eb2",
   "metadata": {},
   "source": [
    "__Hotspot__"
   ]
  },
  {
   "cell_type": "code",
   "execution_count": 13,
   "id": "25d7c90f-141e-4bd3-bb21-02aa26333151",
   "metadata": {},
   "outputs": [
    {
     "data": {
      "text/html": [
       "<div>\n",
       "<style scoped>\n",
       "    .dataframe tbody tr th:only-of-type {\n",
       "        vertical-align: middle;\n",
       "    }\n",
       "\n",
       "    .dataframe tbody tr th {\n",
       "        vertical-align: top;\n",
       "    }\n",
       "\n",
       "    .dataframe thead th {\n",
       "        text-align: right;\n",
       "    }\n",
       "</style>\n",
       "<table border=\"1\" class=\"dataframe\">\n",
       "  <thead>\n",
       "    <tr style=\"text-align: right;\">\n",
       "      <th></th>\n",
       "      <th>Total</th>\n",
       "      <th>%</th>\n",
       "    </tr>\n",
       "  </thead>\n",
       "  <tbody>\n",
       "    <tr>\n",
       "      <th>frp</th>\n",
       "      <td>14566036</td>\n",
       "      <td>73.9161</td>\n",
       "    </tr>\n",
       "    <tr>\n",
       "      <th>diasemchuva</th>\n",
       "      <td>2763053</td>\n",
       "      <td>14.0213</td>\n",
       "    </tr>\n",
       "    <tr>\n",
       "      <th>precipitacao</th>\n",
       "      <td>2763053</td>\n",
       "      <td>14.0213</td>\n",
       "    </tr>\n",
       "    <tr>\n",
       "      <th>riscofogo</th>\n",
       "      <td>2763053</td>\n",
       "      <td>14.0213</td>\n",
       "    </tr>\n",
       "    <tr>\n",
       "      <th>datahora</th>\n",
       "      <td>0</td>\n",
       "      <td>0.0000</td>\n",
       "    </tr>\n",
       "    <tr>\n",
       "      <th>satelite</th>\n",
       "      <td>0</td>\n",
       "      <td>0.0000</td>\n",
       "    </tr>\n",
       "    <tr>\n",
       "      <th>pais</th>\n",
       "      <td>0</td>\n",
       "      <td>0.0000</td>\n",
       "    </tr>\n",
       "    <tr>\n",
       "      <th>estado</th>\n",
       "      <td>0</td>\n",
       "      <td>0.0000</td>\n",
       "    </tr>\n",
       "    <tr>\n",
       "      <th>municipio</th>\n",
       "      <td>0</td>\n",
       "      <td>0.0000</td>\n",
       "    </tr>\n",
       "    <tr>\n",
       "      <th>bioma</th>\n",
       "      <td>0</td>\n",
       "      <td>0.0000</td>\n",
       "    </tr>\n",
       "    <tr>\n",
       "      <th>latitude</th>\n",
       "      <td>0</td>\n",
       "      <td>0.0000</td>\n",
       "    </tr>\n",
       "    <tr>\n",
       "      <th>longitude</th>\n",
       "      <td>0</td>\n",
       "      <td>0.0000</td>\n",
       "    </tr>\n",
       "  </tbody>\n",
       "</table>\n",
       "</div>"
      ],
      "text/plain": [
       "                 Total        %\n",
       "frp           14566036  73.9161\n",
       "diasemchuva    2763053  14.0213\n",
       "precipitacao   2763053  14.0213\n",
       "riscofogo      2763053  14.0213\n",
       "datahora             0   0.0000\n",
       "satelite             0   0.0000\n",
       "pais                 0   0.0000\n",
       "estado               0   0.0000\n",
       "municipio            0   0.0000\n",
       "bioma                0   0.0000\n",
       "latitude             0   0.0000\n",
       "longitude            0   0.0000"
      ]
     },
     "execution_count": 13,
     "metadata": {},
     "output_type": "execute_result"
    }
   ],
   "source": [
    "get_pct_missing_data(hotspot_df)"
   ]
  },
  {
   "cell_type": "markdown",
   "id": "ff376ed6-9c19-40d4-871f-da1b6d1884e0",
   "metadata": {},
   "source": [
    "__Amazon SPI__"
   ]
  },
  {
   "cell_type": "code",
   "execution_count": 14,
   "id": "6fa96805-c8ea-470f-892d-43f66c48fda8",
   "metadata": {},
   "outputs": [
    {
     "data": {
      "text/html": [
       "<div>\n",
       "<style scoped>\n",
       "    .dataframe tbody tr th:only-of-type {\n",
       "        vertical-align: middle;\n",
       "    }\n",
       "\n",
       "    .dataframe tbody tr th {\n",
       "        vertical-align: top;\n",
       "    }\n",
       "\n",
       "    .dataframe thead th {\n",
       "        text-align: right;\n",
       "    }\n",
       "</style>\n",
       "<table border=\"1\" class=\"dataframe\">\n",
       "  <thead>\n",
       "    <tr style=\"text-align: right;\">\n",
       "      <th></th>\n",
       "      <th>Total</th>\n",
       "      <th>%</th>\n",
       "    </tr>\n",
       "  </thead>\n",
       "  <tbody>\n",
       "    <tr>\n",
       "      <th>Moradias com iluminação adequada 2018 (% de domicilios)</th>\n",
       "      <td>1547</td>\n",
       "      <td>66.7098</td>\n",
       "    </tr>\n",
       "    <tr>\n",
       "      <th>Vulnerabilidade familiar 2017 (% de filhos de mães solteiras)</th>\n",
       "      <td>1547</td>\n",
       "      <td>66.7098</td>\n",
       "    </tr>\n",
       "    <tr>\n",
       "      <th>Desmatamento acumulado 2017 (% área total do município)</th>\n",
       "      <td>1547</td>\n",
       "      <td>66.7098</td>\n",
       "    </tr>\n",
       "    <tr>\n",
       "      <th>Desmatamento recente 2017, 2017, 2018 (% área total do município)</th>\n",
       "      <td>1547</td>\n",
       "      <td>66.7098</td>\n",
       "    </tr>\n",
       "    <tr>\n",
       "      <th>Focos de calor 2018 (nª de focos/1.000 habitantes)</th>\n",
       "      <td>1547</td>\n",
       "      <td>66.7098</td>\n",
       "    </tr>\n",
       "    <tr>\n",
       "      <th>...</th>\n",
       "      <td>...</td>\n",
       "      <td>...</td>\n",
       "    </tr>\n",
       "    <tr>\n",
       "      <th>Segurança pessoal</th>\n",
       "      <td>0</td>\n",
       "      <td>0.0000</td>\n",
       "    </tr>\n",
       "    <tr>\n",
       "      <th>Acesso ao conhecimento básico</th>\n",
       "      <td>0</td>\n",
       "      <td>0.0000</td>\n",
       "    </tr>\n",
       "    <tr>\n",
       "      <th>Acesso à informação e comunicação</th>\n",
       "      <td>0</td>\n",
       "      <td>0.0000</td>\n",
       "    </tr>\n",
       "    <tr>\n",
       "      <th>Saúde e bem-estar</th>\n",
       "      <td>0</td>\n",
       "      <td>0.0000</td>\n",
       "    </tr>\n",
       "    <tr>\n",
       "      <th>Ano</th>\n",
       "      <td>0</td>\n",
       "      <td>0.0000</td>\n",
       "    </tr>\n",
       "  </tbody>\n",
       "</table>\n",
       "<p>158 rows × 2 columns</p>\n",
       "</div>"
      ],
      "text/plain": [
       "                                                    Total        %\n",
       "Moradias com iluminação adequada 2018 (% de dom...   1547  66.7098\n",
       "Vulnerabilidade familiar 2017 (% de filhos de m...   1547  66.7098\n",
       "Desmatamento acumulado 2017 (% área total do mu...   1547  66.7098\n",
       "Desmatamento recente 2017, 2017, 2018 (% área t...   1547  66.7098\n",
       "Focos de calor 2018 (nª de focos/1.000 habitantes)   1547  66.7098\n",
       "...                                                   ...      ...\n",
       "Segurança pessoal                                       0   0.0000\n",
       "Acesso ao conhecimento básico                           0   0.0000\n",
       "Acesso à informação e comunicação                       0   0.0000\n",
       "Saúde e bem-estar                                       0   0.0000\n",
       "Ano                                                     0   0.0000\n",
       "\n",
       "[158 rows x 2 columns]"
      ]
     },
     "execution_count": 14,
     "metadata": {},
     "output_type": "execute_result"
    }
   ],
   "source": [
    "get_pct_missing_data(spi_df)"
   ]
  },
  {
   "cell_type": "markdown",
   "id": "d8b2d6ae-a892-45d0-aea5-175a3929e42e",
   "metadata": {},
   "source": [
    "## Prepare the data"
   ]
  },
  {
   "cell_type": "markdown",
   "id": "22bb529c-c2e4-4e61-8dbe-1ac03df63367",
   "metadata": {
    "tags": []
   },
   "source": [
    "### Standardize Country State Names\n",
    "\n",
    "The feature __estado__ in the two datasets are diffenrents. In _hotspot_df_ the name of state is long and spi_df is short."
   ]
  },
  {
   "cell_type": "markdown",
   "id": "e41f311f-0c7b-4aa6-a82b-ea3d991f82af",
   "metadata": {},
   "source": [
    "__Amazon SPI__"
   ]
  },
  {
   "cell_type": "code",
   "execution_count": 15,
   "id": "cf781743-c876-4667-bb92-d016813739fb",
   "metadata": {},
   "outputs": [],
   "source": [
    "def get_full_name_state(acronym):\n",
    "    \"\"\"\n",
    "    Retrieves the long name of state related to acronym.\n",
    "    \"\"\"\n",
    "    lnames = [x.get('name') for x in BRAZILIAN_STATES if x.get('acronym') == acronym]\n",
    "    return lnames[0] if lnames else np.nan\n",
    "\n",
    "\n",
    "def purge_spec_chars(word):\n",
    "    \"\"\"\n",
    "    Remove all special characters in the word.\n",
    "    \"\"\"\n",
    "    wv = word if word is not np.nan else \"\"\n",
    "    nfkd_form = unicodedata.normalize(\"NFKD\", wv) \n",
    "    return u\"\".join([c for c in nfkd_form if not unicodedata.combining(c)])"
   ]
  },
  {
   "cell_type": "code",
   "execution_count": 16,
   "id": "a6cae643-5783-4396-8d75-48c14581019d",
   "metadata": {},
   "outputs": [],
   "source": [
    "# Get full name of state\n",
    "spi_df[\"Estado\"] = spi_df[\"Estado\"].apply(get_full_name_state)\n",
    "\n",
    "# Remove special characteres\n",
    "spi_df[\"Estado\"] = spi_df[\"Estado\"].apply(purge_spec_chars)\n",
    "\n",
    "# Capitalize the name\n",
    "spi_df[\"Estado\"] = spi_df[\"Estado\"].apply(lambda x: x.upper())"
   ]
  },
  {
   "cell_type": "markdown",
   "id": "860a04dd-3001-4f0d-89eb-a5722cf6d1fd",
   "metadata": {},
   "source": [
    "### Standardize Cities Names\n",
    "\n",
    "The feature __municipio__ in the two datasets are diffenrents."
   ]
  },
  {
   "cell_type": "code",
   "execution_count": 17,
   "id": "51f61b6c-5591-4a39-a4cd-d1c3560c0bb3",
   "metadata": {},
   "outputs": [],
   "source": [
    "# Remove special characteres\n",
    "spi_df[\"Município\"] = spi_df[\"Município\"].apply(purge_spec_chars)\n",
    "\n",
    "# Capitalize the name\n",
    "spi_df[\"Município\"] = spi_df[\"Município\"].apply(lambda x: x.upper())"
   ]
  },
  {
   "cell_type": "markdown",
   "id": "554c5712-bd54-4ffc-b49c-0b6b71e10702",
   "metadata": {},
   "source": [
    "#### Some city names are written incorrectly. In this section I will fix it with the correct form"
   ]
  },
  {
   "cell_type": "markdown",
   "id": "fbd2ecdb-7207-4685-82a1-7345be0fdf83",
   "metadata": {},
   "source": [
    "__hotspot__"
   ]
  },
  {
   "cell_type": "code",
   "execution_count": 18,
   "id": "e95afd54-d297-413f-a07c-a06b22d09095",
   "metadata": {},
   "outputs": [],
   "source": [
    "hotspot_df.loc[(hotspot_df[\"municipio\"] == \"ELDORADO DO CARAJAS\"), \"municipio\"] = \"ELDORADO DOS CARAJAS\""
   ]
  },
  {
   "cell_type": "markdown",
   "id": "e3841dd6-0cc9-4b99-a214-440675f4c363",
   "metadata": {},
   "source": [
    "__Amazon SPI__"
   ]
  },
  {
   "cell_type": "code",
   "execution_count": 19,
   "id": "994d1e7a-99a5-48b7-9685-e1f91d11b2b8",
   "metadata": {},
   "outputs": [],
   "source": [
    "# spi_df.loc[spi_df[\"Município\"] == \"BARREIRINHA\", \"Município\"] = \"BARREIRINHAS\"\n",
    "\n",
    "# Acre\n",
    "spi_df.loc[spi_df[\"Município\"] == \"RIO BRANCO (ACRE)\", \"Município\"] = \"RIO BRANCO\"\n",
    "\n",
    "# Maranhão\n",
    "spi_df.loc[spi_df[\"Município\"] == \"ARAGUANA (MARANHAO)\", \"Município\"] = \"ARAGUANA\"\n",
    "spi_df.loc[spi_df[\"Município\"] == \"PRESIDENTE MEDICI (MARANHAO)\", \"Município\"] = \"PRESIDENTE MEDICI\"\n",
    "\n",
    "# Mato Grosso\n",
    "spi_df.loc[spi_df[\"Município\"] == \"POXOREO\", \"Município\"] = \"POXOREU\"\n",
    "spi_df.loc[spi_df[\"Município\"] == \"RIO BRANCO (MATO GROSSO)\", \"Município\"] = \"RIO BRANCO\"\n",
    "\n",
    "# Rondonia\n",
    "spi_df.loc[spi_df[\"Município\"] == \"PRESIDENTE MEDICI (RONDONIA)\", \"Município\"] = \"PRESIDENTE MEDICI\"\n",
    "\n",
    "# Pará\n",
    "spi_df.loc[spi_df[\"Município\"] == \"BOM JESUS DO TOCANTINS (PARA)\", \"Município\"] = \"BOM JESUS DO TOCANTINS\"\n",
    "spi_df.loc[spi_df[\"Município\"] == \"SANTA ISABEL DO PARA\", \"Município\"] = \"SANTA IZABEL DO PARA\"\n",
    "\n",
    "# Tocantins\n",
    "spi_df.loc[spi_df[\"Município\"] == \"ARAGUANA (TOCANTINS)\", \"Município\"] = \"ARAGUANA\"\n",
    "spi_df.loc[spi_df[\"Município\"] == \"BOM JESUS DO TOCANTINS (TOCANTINS)\", \"Município\"] = \"BOM JESUS DO TOCANTINS\"\n",
    "spi_df.loc[spi_df[\"Município\"] == \"COUTO DE MAGALHAES\", \"Município\"] = \"COUTO MAGALHAES\"\n",
    "spi_df.loc[spi_df[\"Município\"] == \"SAO VALERIO DA NATIVIDADE\", \"Município\"] = \"SAO VALERIO\""
   ]
  },
  {
   "cell_type": "markdown",
   "id": "f0731ee2-2dbb-4be7-9130-c987c0ba8d65",
   "metadata": {},
   "source": [
    "#### Shows the difference between the number of cities in the two datasets"
   ]
  },
  {
   "cell_type": "code",
   "execution_count": 20,
   "id": "5284803a-1972-4374-b294-844c91e1cfbb",
   "metadata": {},
   "outputs": [
    {
     "name": "stdout",
     "output_type": "stream",
     "text": [
      "hotspot_df has 808 cities and spi_df has 773. The Difference is 35.\n",
      "---------------------------------------------------------------------------------------------------\n",
      "Cities not found:\n",
      "{('PRIMEIRA CRUZ', 'MARANHAO'), ('CHAPADINHA', 'MARANHAO'), ('MATA ROMA', 'MARANHAO'), ('TUTOIA', 'MARANHAO'), ('', ''), ('ALDEIAS ALTAS', 'MARANHAO'), ('PAULINO NEVES', 'MARANHAO'), ('SANTA QUITERIA DO MARANHAO', 'MARANHAO'), ('SANTO AMARO DO MARANHAO', 'MARANHAO'), ('DUQUE BACELAR', 'MARANHAO'), ('CAXIAS', 'MARANHAO'), ('ARAIOSES', 'MARANHAO'), ('URBANO SANTOS', 'MARANHAO'), ('TIMON', 'MARANHAO'), ('MATOES', 'MARANHAO'), ('LAGOA DO MATO', 'MARANHAO'), ('BREJO', 'MARANHAO'), ('AGUA DOCE DO MARANHAO', 'MARANHAO'), ('AFONSO CUNHA', 'MARANHAO'), ('MILAGRES DO MARANHAO', 'MARANHAO'), ('HUMBERTO DE CAMPOS', 'MARANHAO'), ('ANAPURUS', 'MARANHAO'), ('PASSAGEM FRANCA', 'MARANHAO'), ('SAO JOAO DOS PATOS', 'MARANHAO'), ('BARAO DE GRAJAU', 'MARANHAO'), ('COELHO NETO', 'MARANHAO'), ('SAO BERNARDO', 'MARANHAO'), ('SAO BENEDITO DO RIO PRETO', 'MARANHAO'), ('BELAGUA', 'MARANHAO'), ('BARREIRINHAS', 'MARANHAO'), ('BURITI', 'MARANHAO'), ('SAO FRANCISCO DO MARANHAO', 'MARANHAO'), ('SANTANA DO MARANHAO', 'MARANHAO'), ('PARNARAMA', 'MARANHAO'), ('NINA RODRIGUES', 'MARANHAO'), ('SUCUPIRA DO RIACHAO', 'MARANHAO'), ('MAGALHAES DE ALMEIDA', 'MARANHAO')}\n"
     ]
    }
   ],
   "source": [
    "hotspot_regions = hotspot_df.groupby(['municipio', 'estado'])\n",
    "spi_region = spi_df.groupby(['Município', 'Estado'])\n",
    "\n",
    "n_hr = len(hotspot_regions)\n",
    "n_sr = len(spi_region)\n",
    "\n",
    "dic_cities = set(hotspot_regions.groups.keys()) ^ set(spi_region.groups.keys())\n",
    "\n",
    "print(\"hotspot_df has {} cities and spi_df has {}. The Difference is {}.\".format(n_hr, n_sr, (n_hr - n_sr)))\n",
    "print(\"---------------------------------------------------------------------------------------------------\")\n",
    "print(\"Cities not found:\\n{}\".format(dic_cities))"
   ]
  },
  {
   "cell_type": "code",
   "execution_count": null,
   "id": "7088a37e-2fce-4714-a649-bdf7404c8882",
   "metadata": {},
   "outputs": [],
   "source": [
    "dic_cities_df = pd.DataFrame(dic_cities, columns=[\"municipio\", \"estado\"])\n",
    "dic_cities_df = dic_cities_df.dropna()\n",
    "\n",
    "for index, row in dic_cities_df.iterrows():\n",
    "    hotspot_df = hotspot_df.drop(hotspot_df[(hotspot_df.municipio == row.municipio) & (hotspot_df.estado == row.estado)].index)"
   ]
  },
  {
   "cell_type": "markdown",
   "id": "ddcf701d-b737-4f22-93f1-83c4d55742e0",
   "metadata": {},
   "source": [
    "### Parse datehour of string to date"
   ]
  },
  {
   "cell_type": "markdown",
   "id": "6e3c67c7-200e-493c-970a-fb368b6b3434",
   "metadata": {
    "tags": []
   },
   "source": [
    "__Hotspot__"
   ]
  },
  {
   "cell_type": "code",
   "execution_count": null,
   "id": "4aee350c-e9bc-488c-a0ba-02e330d8ff7d",
   "metadata": {},
   "outputs": [],
   "source": [
    "hotspot_df['datahora'] = pd.to_datetime(hotspot_df['datahora'], format='%Y/%m/%d %H:%M:%S')"
   ]
  },
  {
   "cell_type": "markdown",
   "id": "063a1d04-72b1-486a-aa47-8f8294e7f44d",
   "metadata": {},
   "source": [
    "### Add features"
   ]
  },
  {
   "cell_type": "markdown",
   "id": "84554cf6-d85f-4eef-95c4-f73db4ddb528",
   "metadata": {},
   "source": [
    "__Hotspot__"
   ]
  },
  {
   "cell_type": "code",
   "execution_count": null,
   "id": "8146eb83-33fa-4092-878c-abfa059e9987",
   "metadata": {},
   "outputs": [],
   "source": [
    "hotspot_df[\"ano\"] = pd.DatetimeIndex(hotspot_df['datahora']).year\n",
    "# hotspot_df[\"mes\"] = pd.DatetimeIndex(hotspot_df['datahora']).month\n",
    "# hotspot_df[\"dia\"] = pd.DatetimeIndex(hotspot_df['datahora']).day"
   ]
  },
  {
   "cell_type": "markdown",
   "id": "9fd79de9-4bf0-4ade-a8ab-b1bd2cdbc166",
   "metadata": {},
   "source": [
    "### Fix or remove outliers (optional)"
   ]
  },
  {
   "cell_type": "markdown",
   "id": "72100684-b008-4ecc-9fcd-354407ae98ee",
   "metadata": {},
   "source": [
    "__Hotspot__"
   ]
  },
  {
   "cell_type": "code",
   "execution_count": null,
   "id": "7ec72df8-0685-4d95-b81c-5352b9c0f155",
   "metadata": {},
   "outputs": [],
   "source": [
    "hotspot_df.loc[hotspot_df[\"riscofogo\"] < 0, \"riscofogo\"] = 0\n",
    "hotspot_df.loc[hotspot_df[\"diasemchuva\"] < 0, \"diasemchuva\"] = 0\n",
    "hotspot_df.loc[hotspot_df[\"frp\"] < 0, \"frp\"] = 0"
   ]
  },
  {
   "cell_type": "markdown",
   "id": "822d239b-e865-4e16-9717-197b8311e933",
   "metadata": {},
   "source": [
    "__Amazon SPI__"
   ]
  },
  {
   "cell_type": "code",
   "execution_count": null,
   "id": "8955dfb8-d4c9-43fa-a820-6a88f555ec6c",
   "metadata": {},
   "outputs": [],
   "source": [
    "spi_df.dropna(subset=[\"Município\", \"Estado\", \"IPS Amazônia\"], inplace=True)"
   ]
  },
  {
   "cell_type": "markdown",
   "id": "f77a05a1-e574-4625-96eb-00cdb077b40f",
   "metadata": {},
   "source": [
    "### Fill in missing values (e.g., with zero, mean, median...) or drop their rows (or columns)"
   ]
  },
  {
   "cell_type": "markdown",
   "id": "9e588ea8-433c-4583-9bc0-f15fcc2b4609",
   "metadata": {},
   "source": [
    "__Hotspot__"
   ]
  },
  {
   "cell_type": "code",
   "execution_count": null,
   "id": "08a1d0d8-9c13-4ebf-87d4-fb9c07b14bfb",
   "metadata": {},
   "outputs": [],
   "source": [
    "hotspot_df[\"frp\"].fillna(value=0, inplace=True)\n",
    "hotspot_df[\"riscofogo\"].fillna(value=0, inplace=True)\n",
    "hotspot_df[\"diasemchuva\"].fillna(value=0, inplace=True)\n",
    "hotspot_df[\"precipitacao\"].fillna(value=0, inplace=True)"
   ]
  },
  {
   "cell_type": "markdown",
   "id": "ac1609f2-ac77-4316-a4d4-45023343fbef",
   "metadata": {},
   "source": [
    "### Drop columns not used"
   ]
  },
  {
   "cell_type": "markdown",
   "id": "d3790bb2-c92c-4544-8bdb-277b41de53eb",
   "metadata": {},
   "source": [
    "__Hotspot__"
   ]
  },
  {
   "cell_type": "code",
   "execution_count": null,
   "id": "47ed68be-f3e0-4aeb-ba3c-e1a6e9621fdf",
   "metadata": {},
   "outputs": [],
   "source": [
    "hotspot_df = hotspot_df.drop(columns=[\"datahora\", \"satelite\", \"pais\", \"bioma\", \"latitude\", \"longitude\"])\n",
    "hotspot_df.head()"
   ]
  },
  {
   "cell_type": "markdown",
   "id": "244c3b28-2962-469c-9259-56ac89e9eaa2",
   "metadata": {},
   "source": [
    "__Amazon SPI__\n",
    "\n",
    "_Dimensions and their components:_\n",
    "\n",
    "1. Necessidades Humanas Básicas\n",
    "    * Nutrição e cuidados médicos básicos\n",
    "    * Água e saneamento\n",
    "    * Moradia\n",
    "    * Segurança pessoal\n",
    "2. Fundamentos para o Bem-Estar\n",
    "    * Acesso ao conhecimento básico\n",
    "    * Acesso à informação e comunicação\n",
    "    * Saúde e bem-estar\",\n",
    "    * Qualidade do meio ambiente\n",
    "3. Oportunidades\n",
    "    * Direitos individuais\n",
    "    * Liberdade individual e de escolha\n",
    "    * Tolerância e inclusão\n",
    "    * Acesso à educação superior"
   ]
  },
  {
   "cell_type": "code",
   "execution_count": null,
   "id": "b72802b4-546b-4b5a-b6d4-baed31aca649",
   "metadata": {},
   "outputs": [],
   "source": [
    "spi_df = spi_df[[\n",
    "    \"Ano\", \"Município\",\"Estado\",\"IPS Amazônia\",\"Ranking IPS\",\n",
    "    \"Necessidades Humanas Básicas\", \"Fundamentos para o Bem-Estar\",\"Oportunidades\", # 3 Dimensions\n",
    "    \"Nutrição e cuidados médicos básicos\",\"Água e saneamento\",\"Moradia\",\"Segurança pessoal\", # Necessidades Humanas Básicas components\n",
    "    \"Acesso ao conhecimento básico\", \"Acesso à informação e comunicação\",\"Saúde e bem-estar\",\"Qualidade do meio ambiente\", # Fundamentos para o Bem-Estar components\n",
    "    \"Direitos individuais\",\"Liberdade individual e de escolha\",\"Tolerância e inclusão\",\"Acesso à educação superior\" # Oportunidades components\n",
    "]]\n",
    "spi_df.head()"
   ]
  },
  {
   "cell_type": "code",
   "execution_count": null,
   "id": "8145d657-6349-4478-997c-8ed22ce8b93a",
   "metadata": {},
   "outputs": [],
   "source": [
    "spi_df.sort_values([\"Estado\", \"Município\"])"
   ]
  },
  {
   "cell_type": "markdown",
   "id": "156d0d2c-3fcc-433e-9153-7acda269b1d5",
   "metadata": {},
   "source": [
    "### Describe the data II"
   ]
  },
  {
   "cell_type": "markdown",
   "id": "8f47ad69-b106-43a6-b939-7129d61f3034",
   "metadata": {},
   "source": [
    "__Hotspot__"
   ]
  },
  {
   "cell_type": "code",
   "execution_count": null,
   "id": "7cd0a829-edf7-4f9b-bfb9-88db34b774b5",
   "metadata": {},
   "outputs": [],
   "source": [
    "hotspot_df.describe().transpose()"
   ]
  },
  {
   "cell_type": "code",
   "execution_count": null,
   "id": "2505ad43-7e83-4a1f-8b00-ea5edfb7bb0d",
   "metadata": {},
   "outputs": [],
   "source": [
    "get_pct_missing_data(hotspot_df)"
   ]
  },
  {
   "cell_type": "markdown",
   "id": "97d78d8c-9424-45bb-b98b-0d9b6d7eb81f",
   "metadata": {},
   "source": [
    "__Amazon SPI__"
   ]
  },
  {
   "cell_type": "code",
   "execution_count": null,
   "id": "b05c48d6-3074-4a4f-8c34-daa8385e0d4a",
   "metadata": {},
   "outputs": [],
   "source": [
    "spi_df.describe().transpose()"
   ]
  },
  {
   "cell_type": "code",
   "execution_count": null,
   "id": "c1986340-7dc9-447c-8b26-c0b1f9dbd945",
   "metadata": {},
   "outputs": [],
   "source": [
    "get_pct_missing_data(spi_df)"
   ]
  },
  {
   "cell_type": "markdown",
   "id": "f49bc0d9-c67a-4429-86c5-77e640aba74b",
   "metadata": {},
   "source": [
    "### Data Transform"
   ]
  },
  {
   "cell_type": "markdown",
   "id": "a12a109c-5591-48b5-bcbe-093eaeb4e62c",
   "metadata": {},
   "source": [
    "#### Getting anual mean of each cities by years"
   ]
  },
  {
   "cell_type": "markdown",
   "id": "2900b526-137e-4764-a4ba-5919d8b54d6f",
   "metadata": {},
   "source": [
    "__hotspot__"
   ]
  },
  {
   "cell_type": "code",
   "execution_count": null,
   "id": "6fb2daa6-659b-4c40-bf00-ee2a851e2056",
   "metadata": {},
   "outputs": [],
   "source": [
    "hotspot_df.loc[hotspot_df.ano < 2014, \"ano\"] = 2014\n",
    "hotspot_df.loc[(hotspot_df.ano > 2014) & (hotspot_df.ano < 2018), \"ano\"] = 2018\n",
    "hotspot_df.loc[(hotspot_df.ano > 2018) & (hotspot_df.ano < 2021), \"ano\"] = 2021"
   ]
  },
  {
   "cell_type": "code",
   "execution_count": null,
   "id": "82a6be60-5356-4cc9-b06f-f488b9d2f349",
   "metadata": {},
   "outputs": [],
   "source": [
    "hotspot_df = hotspot_df.groupby([\"ano\", \"estado\", \"municipio\"]).mean()\n",
    "hotspot_df = hotspot_df.reset_index()\n",
    "hotspot_df"
   ]
  },
  {
   "cell_type": "code",
   "execution_count": null,
   "id": "40dc6416-743d-4055-bbae-5e3e239013f5",
   "metadata": {},
   "outputs": [],
   "source": [
    "output = pd.merge(hotspot_df, spi_df, left_on=[\"ano\",\"estado\", \"municipio\"], right_on=[\"Ano\", \"Estado\", \"Município\"])"
   ]
  },
  {
   "cell_type": "code",
   "execution_count": null,
   "id": "a82b3363-95c4-4769-9352-2d0fce1fa849",
   "metadata": {},
   "outputs": [],
   "source": [
    "output = result.drop([\"Ano\", \"Município\", \"Estado\"], axis=1)"
   ]
  },
  {
   "cell_type": "code",
   "execution_count": null,
   "id": "be56a6e5-a12f-43c3-9ae9-69f2eb4b1038",
   "metadata": {},
   "outputs": [],
   "source": [
    "output"
   ]
  },
  {
   "cell_type": "markdown",
   "id": "d3384194-96bd-47a0-a017-b803b12141f0",
   "metadata": {},
   "source": [
    "### Save data in a csv file"
   ]
  },
  {
   "cell_type": "code",
   "execution_count": null,
   "id": "88901d73-91e2-4bc4-b923-c7c70cc11eb4",
   "metadata": {},
   "outputs": [],
   "source": [
    "path = Path(f\"{WORKDIR}/data/output/hotspot_spi.csv\")\n",
    "         \n",
    "path.parent.mkdir(parents=True, exist_ok=True)\n",
    "output.to_csv(path, index=False)"
   ]
  }
 ],
 "metadata": {
  "kernelspec": {
   "display_name": "Python 3 (ipykernel)",
   "language": "python",
   "name": "python3"
  },
  "language_info": {
   "codemirror_mode": {
    "name": "ipython",
    "version": 3
   },
   "file_extension": ".py",
   "mimetype": "text/x-python",
   "name": "python",
   "nbconvert_exporter": "python",
   "pygments_lexer": "ipython3",
   "version": "3.9.12"
  }
 },
 "nbformat": 4,
 "nbformat_minor": 5
}
