{
 "cells": [
  {
   "cell_type": "markdown",
   "id": "a04bbad3-c262-4f89-b4c5-f3953f9b47f8",
   "metadata": {
    "tags": []
   },
   "source": [
    "```\n",
    "     _                                     ____             _       _   ____                                    \n",
    "    / \\   _ __ ___   __ _ _______  _ __   / ___|  ___   ___(_) __ _| | |  _ \\ _ __ ___   __ _ _ __ ___  ___ ___ \n",
    "   / _ \\ | '_ ` _ \\ / _` |_  / _ \\| '_ \\  \\___ \\ / _ \\ / __| |/ _` | | | |_) | '__/ _ \\ / _` | '__/ _ \\/ __/ __|\n",
    "  / ___ \\| | | | | | (_| |/ / (_) | | | |  ___) | (_) | (__| | (_| | | |  __/| | | (_) | (_| | | |  __/\\__ \\__ \\\n",
    " /_/   \\_\\_| |_| |_|\\__,_/___\\___/|_| |_| |____/ \\___/ \\___|_|\\__,_|_| |_|   |_|  \\___/ \\__, |_|  \\___||___/___/\n",
    "                                                                                        |___/                   \n",
    "```\n",
    "\n",
    "\n",
    "### Module\n",
    "Data Exploration\n",
    "\n",
    "### Goal\n",
    "Exploring classification label data by visualization tools.\n",
    "\n",
    "### Tools\n",
    "1. Pandas\n",
    "1. Matplotlib\n",
    "2. Seaborn\n",
    "\n",
    "### Requirement\n",
    "1. File Definition\n",
    "2. Data Preparation\n",
    "3. hotspot_spi.csv generated\n",
    " \n",
    "### Data Source\n",
    "__${WORKDIR}__/data/ouptut/hotspot_spi.csv\n"
   ]
  },
  {
   "cell_type": "code",
   "execution_count": 1,
   "id": "60aad346-9cf8-4421-9039-075d2beb19b7",
   "metadata": {},
   "outputs": [],
   "source": [
    "import os\n",
    "import math\n",
    "\n",
    "import numpy as np\n",
    "import pandas as pd\n",
    "\n",
    "import matplotlib.pyplot as plt\n",
    "import seaborn as sns"
   ]
  },
  {
   "cell_type": "markdown",
   "id": "61494503-8c92-420b-8dc6-6132e732951c",
   "metadata": {},
   "source": [
    "## Constants"
   ]
  },
  {
   "cell_type": "code",
   "execution_count": 2,
   "id": "88171a97-f5a5-442f-bfef-824423b89746",
   "metadata": {},
   "outputs": [],
   "source": [
    "WORKDIR = os.path.abspath(os.getcwd())\n",
    "YEARS_AVAILABLE = [2014, 2018, 2021]"
   ]
  },
  {
   "cell_type": "markdown",
   "id": "72bc35af-c5db-41ee-ac23-54ca636a54f0",
   "metadata": {},
   "source": [
    "## Get the data"
   ]
  },
  {
   "cell_type": "markdown",
   "id": "702bdeaa-0718-406c-b58b-438270bee4ca",
   "metadata": {},
   "source": [
    "__Load into Pandas DataFrame__"
   ]
  },
  {
   "cell_type": "code",
   "execution_count": 3,
   "id": "bac8f3a7-8947-4397-8e9f-62f34668170b",
   "metadata": {},
   "outputs": [
    {
     "data": {
      "text/html": [
       "<div>\n",
       "<style scoped>\n",
       "    .dataframe tbody tr th:only-of-type {\n",
       "        vertical-align: middle;\n",
       "    }\n",
       "\n",
       "    .dataframe tbody tr th {\n",
       "        vertical-align: top;\n",
       "    }\n",
       "\n",
       "    .dataframe thead th {\n",
       "        text-align: right;\n",
       "    }\n",
       "</style>\n",
       "<table border=\"1\" class=\"dataframe\">\n",
       "  <thead>\n",
       "    <tr style=\"text-align: right;\">\n",
       "      <th></th>\n",
       "      <th>ano</th>\n",
       "      <th>estado</th>\n",
       "      <th>municipio</th>\n",
       "      <th>diasemchuva</th>\n",
       "      <th>precipitacao</th>\n",
       "      <th>riscofogo</th>\n",
       "      <th>frp</th>\n",
       "      <th>fococalor</th>\n",
       "      <th>indicadorisco</th>\n",
       "      <th>indicadoriscocat</th>\n",
       "      <th>...</th>\n",
       "      <th>Gravidez na infância e adolescência</th>\n",
       "      <th>Trabalho Infantil</th>\n",
       "      <th>Vulnerabilidade familiar</th>\n",
       "      <th>Violência contra indígenas</th>\n",
       "      <th>Violência contra indígenas Taxa</th>\n",
       "      <th>Violência contra mulheres</th>\n",
       "      <th>Violência infantil</th>\n",
       "      <th>Violência infantil Taxa</th>\n",
       "      <th>Empregos ensino superior</th>\n",
       "      <th>Mulheres com empregos ensino superior</th>\n",
       "    </tr>\n",
       "  </thead>\n",
       "  <tbody>\n",
       "    <tr>\n",
       "      <th>0</th>\n",
       "      <td>2014</td>\n",
       "      <td>ACRE</td>\n",
       "      <td>ACRELANDIA</td>\n",
       "      <td>0.9</td>\n",
       "      <td>0.38</td>\n",
       "      <td>0.23</td>\n",
       "      <td>0.0</td>\n",
       "      <td>441</td>\n",
       "      <td>106.21</td>\n",
       "      <td>3Q</td>\n",
       "      <td>...</td>\n",
       "      <td>26.77</td>\n",
       "      <td>288.91</td>\n",
       "      <td>12.27</td>\n",
       "      <td>0.00</td>\n",
       "      <td>1.0</td>\n",
       "      <td>29.60</td>\n",
       "      <td>22.32</td>\n",
       "      <td>2.0</td>\n",
       "      <td>13.81</td>\n",
       "      <td>7.35</td>\n",
       "    </tr>\n",
       "    <tr>\n",
       "      <th>1</th>\n",
       "      <td>2014</td>\n",
       "      <td>ACRE</td>\n",
       "      <td>ASSIS BRASIL</td>\n",
       "      <td>1.7</td>\n",
       "      <td>0.46</td>\n",
       "      <td>0.15</td>\n",
       "      <td>0.0</td>\n",
       "      <td>327</td>\n",
       "      <td>52.17</td>\n",
       "      <td>2Q</td>\n",
       "      <td>...</td>\n",
       "      <td>36.22</td>\n",
       "      <td>201.25</td>\n",
       "      <td>17.35</td>\n",
       "      <td>1.88</td>\n",
       "      <td>2.0</td>\n",
       "      <td>58.91</td>\n",
       "      <td>80.48</td>\n",
       "      <td>3.0</td>\n",
       "      <td>8.17</td>\n",
       "      <td>4.54</td>\n",
       "    </tr>\n",
       "    <tr>\n",
       "      <th>2</th>\n",
       "      <td>2014</td>\n",
       "      <td>ACRE</td>\n",
       "      <td>BRASILEIA</td>\n",
       "      <td>1.4</td>\n",
       "      <td>0.36</td>\n",
       "      <td>0.19</td>\n",
       "      <td>0.0</td>\n",
       "      <td>1120</td>\n",
       "      <td>222.50</td>\n",
       "      <td>3Q</td>\n",
       "      <td>...</td>\n",
       "      <td>31.08</td>\n",
       "      <td>144.83</td>\n",
       "      <td>20.11</td>\n",
       "      <td>40.00</td>\n",
       "      <td>5.0</td>\n",
       "      <td>300.00</td>\n",
       "      <td>683.19</td>\n",
       "      <td>5.0</td>\n",
       "      <td>9.97</td>\n",
       "      <td>6.59</td>\n",
       "    </tr>\n",
       "    <tr>\n",
       "      <th>3</th>\n",
       "      <td>2014</td>\n",
       "      <td>ACRE</td>\n",
       "      <td>BUJARI</td>\n",
       "      <td>0.8</td>\n",
       "      <td>0.36</td>\n",
       "      <td>0.12</td>\n",
       "      <td>0.0</td>\n",
       "      <td>339</td>\n",
       "      <td>44.49</td>\n",
       "      <td>2Q</td>\n",
       "      <td>...</td>\n",
       "      <td>34.30</td>\n",
       "      <td>824.47</td>\n",
       "      <td>16.12</td>\n",
       "      <td>0.00</td>\n",
       "      <td>1.0</td>\n",
       "      <td>45.11</td>\n",
       "      <td>32.66</td>\n",
       "      <td>2.0</td>\n",
       "      <td>12.97</td>\n",
       "      <td>9.16</td>\n",
       "    </tr>\n",
       "    <tr>\n",
       "      <th>4</th>\n",
       "      <td>2014</td>\n",
       "      <td>ACRE</td>\n",
       "      <td>CAPIXABA</td>\n",
       "      <td>0.8</td>\n",
       "      <td>0.10</td>\n",
       "      <td>0.08</td>\n",
       "      <td>0.0</td>\n",
       "      <td>455</td>\n",
       "      <td>42.85</td>\n",
       "      <td>2Q</td>\n",
       "      <td>...</td>\n",
       "      <td>32.05</td>\n",
       "      <td>172.42</td>\n",
       "      <td>26.07</td>\n",
       "      <td>0.00</td>\n",
       "      <td>1.0</td>\n",
       "      <td>0.00</td>\n",
       "      <td>0.00</td>\n",
       "      <td>1.0</td>\n",
       "      <td>11.60</td>\n",
       "      <td>7.08</td>\n",
       "    </tr>\n",
       "  </tbody>\n",
       "</table>\n",
       "<p>5 rows × 77 columns</p>\n",
       "</div>"
      ],
      "text/plain": [
       "    ano estado     municipio  diasemchuva  precipitacao  riscofogo  frp  \\\n",
       "0  2014   ACRE    ACRELANDIA          0.9          0.38       0.23  0.0   \n",
       "1  2014   ACRE  ASSIS BRASIL          1.7          0.46       0.15  0.0   \n",
       "2  2014   ACRE     BRASILEIA          1.4          0.36       0.19  0.0   \n",
       "3  2014   ACRE        BUJARI          0.8          0.36       0.12  0.0   \n",
       "4  2014   ACRE      CAPIXABA          0.8          0.10       0.08  0.0   \n",
       "\n",
       "   fococalor  indicadorisco indicadoriscocat  ...  \\\n",
       "0        441         106.21               3Q  ...   \n",
       "1        327          52.17               2Q  ...   \n",
       "2       1120         222.50               3Q  ...   \n",
       "3        339          44.49               2Q  ...   \n",
       "4        455          42.85               2Q  ...   \n",
       "\n",
       "   Gravidez na infância e adolescência  Trabalho Infantil  \\\n",
       "0                                26.77             288.91   \n",
       "1                                36.22             201.25   \n",
       "2                                31.08             144.83   \n",
       "3                                34.30             824.47   \n",
       "4                                32.05             172.42   \n",
       "\n",
       "   Vulnerabilidade familiar  Violência contra indígenas  \\\n",
       "0                     12.27                        0.00   \n",
       "1                     17.35                        1.88   \n",
       "2                     20.11                       40.00   \n",
       "3                     16.12                        0.00   \n",
       "4                     26.07                        0.00   \n",
       "\n",
       "   Violência contra indígenas Taxa  Violência contra mulheres  \\\n",
       "0                              1.0                      29.60   \n",
       "1                              2.0                      58.91   \n",
       "2                              5.0                     300.00   \n",
       "3                              1.0                      45.11   \n",
       "4                              1.0                       0.00   \n",
       "\n",
       "   Violência infantil  Violência infantil Taxa  Empregos ensino superior  \\\n",
       "0               22.32                      2.0                     13.81   \n",
       "1               80.48                      3.0                      8.17   \n",
       "2              683.19                      5.0                      9.97   \n",
       "3               32.66                      2.0                     12.97   \n",
       "4                0.00                      1.0                     11.60   \n",
       "\n",
       "   Mulheres com empregos ensino superior  \n",
       "0                                   7.35  \n",
       "1                                   4.54  \n",
       "2                                   6.59  \n",
       "3                                   9.16  \n",
       "4                                   7.08  \n",
       "\n",
       "[5 rows x 77 columns]"
      ]
     },
     "execution_count": 3,
     "metadata": {},
     "output_type": "execute_result"
    }
   ],
   "source": [
    "file = ''.join([WORKDIR, \"/data/output/hotspot_spi.csv\"]) \n",
    "dataset = pd.read_csv(file)\n",
    "dataset.head()"
   ]
  },
  {
   "cell_type": "code",
   "execution_count": null,
   "id": "c374d6c8-ddd3-4636-a0c8-4ba2560da6a3",
   "metadata": {},
   "outputs": [],
   "source": [
    "# dataset[dataset.ano == 2021].groupby(by=[\"ano\", \"riscofogocat\"]).size().reset_index(name='count')"
   ]
  },
  {
   "cell_type": "markdown",
   "id": "bc7db27b-81ae-43e2-83ab-f0b738ef8731",
   "metadata": {},
   "source": [
    "## Visualize the data"
   ]
  },
  {
   "cell_type": "markdown",
   "id": "82a15095-9822-455d-954c-f331033fcc15",
   "metadata": {},
   "source": [
    "### Get top cities risk fire"
   ]
  },
  {
   "cell_type": "code",
   "execution_count": null,
   "id": "44851815-fa4e-41ff-8ed2-f943c505697c",
   "metadata": {},
   "outputs": [],
   "source": [
    "def get_top_hotspot(dataset, head=10, ascending=True): \n",
    "    df = dataset.copy()\n",
    "    df[\"regiao\"] = df[['municipio', 'estado']].agg(' - '.join, axis=1)\n",
    "    group = df.groupby(\"regiao\")\n",
    "    return group['fococalor'].sum().sort_values(ascending=ascending)[:head]\n",
    "\n",
    "def get_top_hotspot(dataset, head=10, ascending=True): \n",
    "    df = dataset.copy()\n",
    "    df[\"regiao\"] = df[['municipio', 'estado']].agg(' - '.join, axis=1)\n",
    "    group = df.groupby(\"regiao\")\n",
    "    return group['fococalor'].sum().sort_values(ascending=ascending)[:head]\n",
    "\n",
    "\n",
    "def get_max_hotspot(dataset, year):\n",
    "    max_hotspot = dataset[(dataset[\"ano\"] == year)][\"fococalor\"].max()\n",
    "    return dataset[(dataset[\"ano\"] == year) & (dataset[\"fococalor\"] == max_hotspot)]\n",
    "\n",
    "\n",
    "def get_min_hotspot(dataset, year):\n",
    "    min_hotspot = dataset[(dataset[\"ano\"] == year)][\"fococalor\"].min()\n",
    "    return dataset[(dataset[\"ano\"] == year) & (dataset[\"fococalor\"] == min_hotspot)]\n",
    "\n",
    "\n",
    "def plot_top_hotspot(dataset, how_many=10, ascending=True):\n",
    "    cols = 3\n",
    "    rows = math.ceil(len(YEARS_AVAILABLE) / cols)\n",
    "    \n",
    "    fig, axes = plt.subplots(rows, cols, figsize=(25, 5), constrained_layout=True)\n",
    "\n",
    "    title = \"Cities with {} hotspots per year\".format(\"Fewer\" if ascending else \"Biggest\")\n",
    "    fig.suptitle(title, fontsize=\"xx-large\", fontweight='heavy')\n",
    "\n",
    "    for idx, ax in enumerate(axes):\n",
    "        year = YEARS_AVAILABLE[idx]\n",
    "        yeardf = dataset[(dataset[\"ano\"] == year)]      \n",
    "        tt = get_top_hotspot(yeardf, head=how_many, ascending=ascending)\n",
    "\n",
    "        ax.set_title(year, fontdict={'fontsize': 16})\n",
    "        ax.set_xlabel(\" \")\n",
    "        ax.set_ylabel(\" \")\n",
    "        \n",
    "        # Remove axes splines\n",
    "        for spin in ['top', 'left', 'right']:\n",
    "            ax.spines[spin].set_visible(False)\n",
    "            \n",
    "        sns.histplot(data=tt, y=tt.index, weights=tt.values, ax=ax)"
   ]
  },
  {
   "cell_type": "markdown",
   "id": "743ccd98-e3a8-46f3-846a-85df5d8f0c0b",
   "metadata": {},
   "source": [
    "#### List of minors hotspot cities"
   ]
  },
  {
   "cell_type": "code",
   "execution_count": null,
   "id": "9e2f9dba-46cd-4eca-a973-3aea4bde98de",
   "metadata": {},
   "outputs": [],
   "source": [
    "plot_top_hotspot(dataset, how_many=20, ascending=True)"
   ]
  },
  {
   "cell_type": "markdown",
   "id": "a21ec4ea-479d-4349-9963-2ba1f010675f",
   "metadata": {},
   "source": [
    "#### List of maijors hotspot cities"
   ]
  },
  {
   "cell_type": "code",
   "execution_count": null,
   "id": "929bae09-9040-48fc-bae1-cba04b186706",
   "metadata": {},
   "outputs": [],
   "source": [
    "plot_top_hotspot(dataset, how_many=20, ascending=False)"
   ]
  },
  {
   "cell_type": "markdown",
   "id": "9adaee29-b7a4-46cd-a9cf-f63a70f81881",
   "metadata": {},
   "source": [
    "### Relationship between risk fire categories and IPS dimensions"
   ]
  },
  {
   "cell_type": "code",
   "execution_count": null,
   "id": "3e2e2bce-8dee-4e20-bd8d-a87c5e641ebf",
   "metadata": {},
   "outputs": [],
   "source": [
    "def plot_indicators(data, indicators):\n",
    "    for idx, ind in enumerate(indicators):\n",
    "        plt.scatter(data.index, data[ind], label=ind, s=100, ec=\"white\", zorder=2)\n",
    "        plt.plot(data.index, data[ind])\n",
    "    plt.legend(bbox_to_anchor=(1, 1), loc=\"upper left\")"
   ]
  },
  {
   "cell_type": "code",
   "execution_count": null,
   "id": "802d91cb-8098-4838-ab47-308968c1c454",
   "metadata": {},
   "outputs": [],
   "source": [
    "def plot_label_x_features(features_names, plot_title):\n",
    "    index_order = [\"MUITO_BAIXO\", \"BAIXO\", \"MODERADO\", \"ALTO\", \"MUITO_ALTO\"]\n",
    "    \n",
    "    cols = 3\n",
    "    rows = math.ceil(len(YEARS_AVAILABLE) / cols)\n",
    "    fig, axes = plt.subplots(rows, cols, figsize=(25, 5), constrained_layout=True)   \n",
    "    fig.suptitle(plot_title, fontsize=\"xx-large\", fontweight='heavy')\n",
    "\n",
    "    for idx, ax in enumerate(axes):\n",
    "        year = YEARS_AVAILABLE[idx]\n",
    "        yeardf = dataset[dataset[\"ano\"] == year]\n",
    "\n",
    "        features = yeardf[features_names]\n",
    "        data = features.groupby(by=\"riscofogocat\").mean().round(2)\n",
    "        data = data.reindex(index_order)\n",
    "\n",
    "        ax.set_title(year, fontdict={'fontsize': 16})\n",
    "        ax.set_xlabel(\" \")\n",
    "        ax.set_ylabel(\" \")\n",
    "\n",
    "        # Remove axes splines\n",
    "        for spin in ['top', 'left', 'right']:\n",
    "            ax.spines[spin].set_visible(False)\n",
    "\n",
    "        for i, col in enumerate(data.columns):\n",
    "            ax.scatter(data.index, data[col], label=col, s=100, ec=\"white\", zorder=2)\n",
    "            ax.plot(data.index, data[col])\n",
    "            ax.legend(bbox_to_anchor=(1, 1), loc=\"upper left\")"
   ]
  },
  {
   "cell_type": "markdown",
   "id": "b8ba8c21-eda6-4dee-91b9-dd823dd14c98",
   "metadata": {},
   "source": [
    "__Risk Fire vs IPS Amazônia__"
   ]
  },
  {
   "cell_type": "code",
   "execution_count": null,
   "id": "25f67d9b-221b-4f84-9665-22f40eb53cb3",
   "metadata": {},
   "outputs": [],
   "source": [
    "# features_names = [\"riscofogocat\", \"IPS Amazônia\"]\n",
    "# plot_label_x_features(features_names, \"Risk Fire vs IPS Amazônia\")"
   ]
  },
  {
   "cell_type": "markdown",
   "id": "a917eb9d-e60d-4d3b-8ed9-61c8f67c120d",
   "metadata": {},
   "source": [
    "### Plot Risk Fire vs Dimensions"
   ]
  },
  {
   "cell_type": "markdown",
   "id": "c3ecaae6-d6a1-4a84-a695-0ce4ea4249d0",
   "metadata": {},
   "source": [
    "__Risk Fire vs SPI Dimensions__"
   ]
  },
  {
   "cell_type": "code",
   "execution_count": null,
   "id": "7852f8fc-1ba1-4dca-a35f-6c7cfbc96e90",
   "metadata": {},
   "outputs": [],
   "source": [
    "# features_names = [\"riscofogocat\", \"Necessidades Humanas Básicas\", \"Fundamentos para o Bem-Estar\", \"Oportunidades\"]\n",
    "# plot_label_x_features(features_names, \"Risk Fire vs SPI Dimensions\")"
   ]
  },
  {
   "cell_type": "markdown",
   "id": "10633c38-b347-46c7-8cab-571f802adb9e",
   "metadata": {},
   "source": [
    "### Plot Risk Fire vs Components"
   ]
  },
  {
   "cell_type": "markdown",
   "id": "221ee318-322b-4218-a36a-cb00dbe42a58",
   "metadata": {},
   "source": [
    "__Risk Fire vs \"Necessidades Humanas Básicas\" SPI Component__"
   ]
  },
  {
   "cell_type": "code",
   "execution_count": null,
   "id": "2143d8a1-edcf-4dd8-85c0-46dad744af38",
   "metadata": {},
   "outputs": [],
   "source": [
    "# features_names = [\"riscofogocat\", \"Nutrição e cuidados médicos básicos\", \"Água e saneamento\",\"Moradia\",\"Segurança pessoal\"]\n",
    "# plot_label_x_features(features_names, \"Risk Fire vs \\\"Necessidades Humanas Básicas\\\" SPI Component\")"
   ]
  },
  {
   "cell_type": "markdown",
   "id": "3949e4a7-bac7-4742-afd0-8fcf9d8cc47c",
   "metadata": {},
   "source": [
    "__Risk Fire vs \"Fundamentos para o Bem-Estar\" SPI Component__"
   ]
  },
  {
   "cell_type": "code",
   "execution_count": null,
   "id": "933fdc95-6784-47c6-95d9-46fd3a408a00",
   "metadata": {},
   "outputs": [],
   "source": [
    "# features_names = [\"riscofogocat\", \"Acesso ao conhecimento básico\", \"Acesso à informação e comunicação\", \"Saúde e bem-estar\", \"Qualidade do meio ambiente\"]\n",
    "# plot_label_x_features(features_names, \"Risk Fire vs \\\"Fundamentos para o Bem-Estar\\\" SPI Component\")"
   ]
  },
  {
   "cell_type": "markdown",
   "id": "699bc14a-5284-4fc0-9358-df8657dbe899",
   "metadata": {},
   "source": [
    "__Risk Fire vs \"Oportunidades\" SPI Component__"
   ]
  },
  {
   "cell_type": "code",
   "execution_count": null,
   "id": "7baa6988-ec9b-48b8-8ee2-9abd70700051",
   "metadata": {},
   "outputs": [],
   "source": [
    "# features_names = [\"riscofogocat\", \"Direitos individuais\", \"Liberdade individual e de escolha\", \"Tolerância e inclusão\", \"Acesso à educação superior\"]\n",
    "# plot_label_x_features(features_names, \"Risk Fire vs \\\"Oportunidades\\\" SPI Component\")"
   ]
  },
  {
   "cell_type": "markdown",
   "id": "10063f03-31f2-43fa-b65c-f08742051ec5",
   "metadata": {},
   "source": [
    "### Plot Risk Fire vs Indicators"
   ]
  },
  {
   "cell_type": "markdown",
   "id": "a73a5ae3-04a7-4980-9995-19e65bb59c9f",
   "metadata": {},
   "source": [
    "```\n",
    "  _   _                        _     _           _             _   _                                         ____    __      _               \n",
    " | \\ | | ___  ___ ___  ___ ___(_) __| | __ _  __| | ___  ___  | | | |_   _ _ __ ___   __ _ _ __   __ _ ___  | __ )  /_/_ ___(_) ___ __ _ ___ \n",
    " |  \\| |/ _ \\/ __/ _ \\/ __/ __| |/ _` |/ _` |/ _` |/ _ \\/ __| | |_| | | | | '_ ` _ \\ / _` | '_ \\ / _` / __| |  _ \\ / _` / __| |/ __/ _` / __|\n",
    " | |\\  |  __/ (_|  __/\\__ \\__ \\ | (_| | (_| | (_| |  __/\\__ \\ |  _  | |_| | | | | | | (_| | | | | (_| \\__ \\ | |_) | (_| \\__ \\ | (_| (_| \\__ \\\n",
    " |_| \\_|\\___|\\___\\___||___/___/_|\\__,_|\\__,_|\\__,_|\\___||___/ |_| |_|\\__,_|_| |_| |_|\\__,_|_| |_|\\__,_|___/ |____/ \\__,_|___/_|\\___\\__,_|___/\n",
    " ```"
   ]
  },
  {
   "cell_type": "markdown",
   "id": "6bd2363a-6107-4c3f-97d6-d8eb9c6ebb1c",
   "metadata": {},
   "source": [
    "__Risk Fire vs \"Nutrição e cuidados médicos básicos\" SPI Indicator__"
   ]
  },
  {
   "cell_type": "code",
   "execution_count": null,
   "id": "fdc9fb20-3d4d-4fe6-b585-550cce0322b2",
   "metadata": {},
   "outputs": [],
   "source": [
    "# features_names = [\"riscofogocat\", \"Mortalidade infantil até 5 anos\", \"Mortalidade materna\", \"Mortalidade por desnutrição\", \"Mortalidade por doenças infecciosas\", \"Subnutrição\"]\n",
    "# plot_label_x_features(features_names, \"Risk Fire vs \\\"Nutrição e cuidados médicos básicos\\\" SPI Indicator\")"
   ]
  },
  {
   "cell_type": "markdown",
   "id": "93f2bcf5-4ef9-430d-83f9-9d65a4bb1c7c",
   "metadata": {},
   "source": [
    "__Risk Fire vs \"Água e saneamento\" SPI Indicator__"
   ]
  },
  {
   "cell_type": "code",
   "execution_count": null,
   "id": "ff3ac070-8604-49dd-8595-12f076dfb122",
   "metadata": {},
   "outputs": [],
   "source": [
    "# features_names = [\"riscofogocat\", \"Abastecimento de água\", \"Esgotamento sanitário\", \"Índice de atendimento de agua\"]\n",
    "# plot_label_x_features(features_names, \"Risk Fire vs \\\"Água e saneamento\\\" SPI Indicator\")"
   ]
  },
  {
   "cell_type": "markdown",
   "id": "3ca0e876-6825-48a5-92a0-c99889207c34",
   "metadata": {},
   "source": [
    "__Risk Fire vs \"Moradia\" SPI Indicator__"
   ]
  },
  {
   "cell_type": "code",
   "execution_count": null,
   "id": "5f5b11c7-271e-4c6a-937a-3762013b0097",
   "metadata": {},
   "outputs": [],
   "source": [
    "# features_names = [\"riscofogocat\", \"Coleta de lixo\", \"Moradias com iluminação adequada\", \"Moradias com parede adequada\", \"Moradias com piso adequado\"]\n",
    "# plot_label_x_features(features_names, \"Risk Fire vs \\\"Moradia\\\" SPI Indicator\")"
   ]
  },
  {
   "cell_type": "markdown",
   "id": "4c69a909-b3c9-4e1d-9a0f-f3d13e563a66",
   "metadata": {},
   "source": [
    "__Risk Fire vs \"Segurança pessoal\" SPI Indicator__"
   ]
  },
  {
   "cell_type": "code",
   "execution_count": null,
   "id": "98364c5f-addd-4afe-a556-320afed0d7e4",
   "metadata": {},
   "outputs": [],
   "source": [
    "# features_names = [\"riscofogocat\", \"Assassinatos de jovens\", \"Assassinatos de jovens Taxa\", \"Homicídios\", \"Homicídios Taxa\", \"Mortes por acidente no trânsito\"]\n",
    "# plot_label_x_features(features_names, \"Risk Fire vs \\\"Segurança pessoal\\\" SPI Indicator\")"
   ]
  },
  {
   "cell_type": "markdown",
   "id": "64cb9338-c1f7-4b92-b5e7-18d51f4575b6",
   "metadata": {},
   "source": [
    "```\n",
    "  _____                _                            _                                              ____                                 _             \n",
    " |  ___|   _ _ __   __| | __ _ _ __ ___   ___ _ __ | |_ ___  ___   _ __   __ _ _ __ __ _    ___   | __ )  ___ _ __ ___         ___  ___| |_ __ _ _ __ \n",
    " | |_ | | | | '_ \\ / _` |/ _` | '_ ` _ \\ / _ \\ '_ \\| __/ _ \\/ __| | '_ \\ / _` | '__/ _` |  / _ \\  |  _ \\ / _ \\ '_ ` _ \\ _____ / _ \\/ __| __/ _` | '__|\n",
    " |  _|| |_| | | | | (_| | (_| | | | | | |  __/ | | | || (_) \\__ \\ | |_) | (_| | | | (_| | | (_) | | |_) |  __/ | | | | |_____|  __/\\__ \\ || (_| | |   \n",
    " |_|   \\__,_|_| |_|\\__,_|\\__,_|_| |_| |_|\\___|_| |_|\\__\\___/|___/ | .__/ \\__,_|_|  \\__,_|  \\___/  |____/ \\___|_| |_| |_|      \\___||___/\\__\\__,_|_|   \n",
    "                                                                  |_|                                                                                 \n",
    "\n",
    "```"
   ]
  },
  {
   "cell_type": "markdown",
   "id": "777c8708-d7bc-4bd4-825f-c27d1443af15",
   "metadata": {},
   "source": [
    "__Risk Fire vs \"Acesso ao conhecimento básico\" SPI Indicator__"
   ]
  },
  {
   "cell_type": "code",
   "execution_count": null,
   "id": "aaa51d5f-0943-4867-bb07-841342e2de0e",
   "metadata": {},
   "outputs": [],
   "source": [
    "# features_names = [\"riscofogocat\", \"Abandono escolar ensino fundamental\", \"Distorção idade-série ensino fundamental\", \"Distorção idade-série ensino médio\", \"Qualidade da educação Ideb ensino fundamental\", \"Reprovação escolar ensino fundamental\"]\n",
    "# plot_label_x_features(features_names, \"Risk Fire vs \\\"Acesso ao conhecimento básico\\\" SPI Indicator\")"
   ]
  },
  {
   "cell_type": "markdown",
   "id": "d44d8467-7ed1-4847-b209-6f6fa31d65f1",
   "metadata": {},
   "source": [
    "__Risk Fire vs \"Acesso à informação e comunicação\" SPI Indicator__"
   ]
  },
  {
   "cell_type": "code",
   "execution_count": null,
   "id": "76f32bf2-d986-4ba3-b2fd-1c4a358f331f",
   "metadata": {},
   "outputs": [],
   "source": [
    "# features_names = [\"riscofogocat\", \"Densidade internet banda-larga\", \"Densidade telefonia fixa\", \"Densidade telefonia movel\", \"Densidade TV por assinatura\"]\n",
    "# plot_label_x_features(features_names, \"Risk Fire vs \\\"Acesso à informação e comunicação\\\" SPI Indicator\")"
   ]
  },
  {
   "cell_type": "markdown",
   "id": "c8192728-085d-4759-9967-45126959d525",
   "metadata": {},
   "source": [
    "__Risk Fire vs \"Saúde e bem-estar\" SPI Indicator__"
   ]
  },
  {
   "cell_type": "code",
   "execution_count": null,
   "id": "63ed8b93-71ae-4c48-8979-83d5f4f3cae2",
   "metadata": {},
   "outputs": [],
   "source": [
    "# features_names = [\"riscofogocat\", \"Mortalidade por diabetes mellitus\", \"Mortalidade por câncer\", \"Mortalidade por doenças circulatórias\", \"Mortalidade por doenças respiratórias\", \"Mortalidade por suicídios\"]\n",
    "# plot_label_x_features(features_names, \"Risk Fire vs \\\"Saúde e bem-estar\\\" SPI Indicator\")"
   ]
  },
  {
   "cell_type": "markdown",
   "id": "1f50a47d-e923-49e4-8b3c-b2ad3803f149",
   "metadata": {},
   "source": [
    "__Risk Fire vs \"Qualidade do meio ambiente\" SPI Indicator__"
   ]
  },
  {
   "cell_type": "code",
   "execution_count": null,
   "id": "e931bd65-bf13-405a-9fa7-9cfbb8e55b6b",
   "metadata": {},
   "outputs": [],
   "source": [
    "# features_names = [\"riscofogocat\", \"Áreas Protegidas\", \"Desmatamento acumulado\", \"Desmatamento recente\", \"Emissões CO2\", \"Focos de calor por habitantes\"]\n",
    "# plot_label_x_features(features_names, \"Risk Fire vs \\\"Qualidade do meio ambiente\\\" SPI Indicator\")"
   ]
  },
  {
   "cell_type": "markdown",
   "id": "71a8cb70-a264-4ba0-9c9a-04d835fa157e",
   "metadata": {},
   "source": [
    "```\n",
    "   ___                   _               _     _           _           \n",
    "  / _ \\ _ __   ___  _ __| |_ _   _ _ __ (_) __| | __ _  __| | ___  ___ \n",
    " | | | | '_ \\ / _ \\| '__| __| | | | '_ \\| |/ _` |/ _` |/ _` |/ _ \\/ __|\n",
    " | |_| | |_) | (_) | |  | |_| |_| | | | | | (_| | (_| | (_| |  __/\\__ \\\n",
    "  \\___/| .__/ \\___/|_|   \\__|\\__,_|_| |_|_|\\__,_|\\__,_|\\__,_|\\___||___/\n",
    "       |_|                                                             \n",
    "```"
   ]
  },
  {
   "cell_type": "markdown",
   "id": "54d60a19-a130-425d-a634-4461a26a8322",
   "metadata": {},
   "source": [
    "__Risk Fire vs \"Direitos individuais\" SPI Indicator__"
   ]
  },
  {
   "cell_type": "code",
   "execution_count": null,
   "id": "2ae4dcb4-5283-4c09-9713-88b808ed46d6",
   "metadata": {},
   "outputs": [],
   "source": [
    "# features_names = [\"riscofogocat\", \"Diversidade Partidária\", \"Transporte Público\"]\n",
    "# plot_label_x_features(features_names, \"Risk Fire vs \\\"Direitos individuais\\\" SPI Indicator\")"
   ]
  },
  {
   "cell_type": "markdown",
   "id": "cf0a1e67-68fe-4c6c-8785-c90fcd64ad7b",
   "metadata": {},
   "source": [
    "__Risk Fire vs \"Liberdades individuais\" SPI Indicator__"
   ]
  },
  {
   "cell_type": "code",
   "execution_count": null,
   "id": "f90c8fc3-7eb8-4bf3-8f78-809d0378abcf",
   "metadata": {},
   "outputs": [],
   "source": [
    "# features_names = [\"riscofogocat\", \"Acesso à cultura, esporte e lazer\", \"Gravidez na infância e adolescência\", \"Trabalho Infantil\" , \"Vulnerabilidade familiar\"]\n",
    "# plot_label_x_features(features_names, \"Risk Fire vs \\\"Liberdades individuais\\\" SPI Indicator\")"
   ]
  },
  {
   "cell_type": "markdown",
   "id": "0e925ab0-5a84-4efd-9f05-1bfaa1472184",
   "metadata": {},
   "source": [
    "__Risk Fire vs \"Tolerância e inclusão\" SPI Indicator__"
   ]
  },
  {
   "cell_type": "code",
   "execution_count": null,
   "id": "492105c4-7508-43de-be27-a584f38cebb0",
   "metadata": {},
   "outputs": [],
   "source": [
    "# features_names = [\"riscofogocat\", \"Violência contra indígenas\", \"Violência contra indígenas Taxa\", \"Violência contra mulheres\", \"Violência infantil\", \"Violência infantil Taxa\",]\n",
    "# plot_label_x_features(features_names, \"Risk Fire vs \\\"Tolerância e inclusão\\\" SPI Indicator\")"
   ]
  },
  {
   "cell_type": "markdown",
   "id": "cd157e15-7e16-4f39-adfc-b0eed8ea74c3",
   "metadata": {},
   "source": [
    "__Risk Fire vs \"Acesso à educação superior\" SPI Indicator__"
   ]
  },
  {
   "cell_type": "code",
   "execution_count": null,
   "id": "801db0b2-373e-486d-b960-f73bd36fb7b9",
   "metadata": {},
   "outputs": [],
   "source": [
    "# features_names = [\"riscofogocat\",  \"Empregos ensino superior\", \"Mulheres com empregos ensino superior\"]\n",
    "# plot_label_x_features(features_names, \"Risk Fire vs \\\"Acesso à educação superior\\\" SPI Indicator\")"
   ]
  },
  {
   "cell_type": "markdown",
   "id": "7d445f73-0051-4dec-b91a-c4342c403f39",
   "metadata": {},
   "source": [
    "### Correlation beetwen features of the cities that burn the most"
   ]
  },
  {
   "cell_type": "code",
   "execution_count": null,
   "id": "52712dd7-9ddf-43ae-826d-a6b80e1b919c",
   "metadata": {},
   "outputs": [],
   "source": [
    "\n",
    "# list_biggest = []\n",
    "# for year in YEARS_AVAILABLE:\n",
    "#     dasy = dataset[dataset.ano == year]\n",
    "#     list_biggest.append(dasy.sort_values(by=[\"fococalor\"], ascending=False)[:20])\n",
    "    \n",
    "# biggest_df = pd.concat(list_biggest)\n",
    "\n",
    "# ## plot pair correlation beetween featres.\n",
    "# sns.set_theme(style=\"ticks\")\n",
    "# sns.pairplot(dataset)"
   ]
  },
  {
   "cell_type": "code",
   "execution_count": null,
   "id": "96ef079d-d45c-479a-8e52-10deef18046f",
   "metadata": {},
   "outputs": [],
   "source": [
    "# from sklearn.preprocessing import StandardScaler\n",
    "# ss = StandardScaler()\n",
    "\n",
    "\n",
    "# df = dataset[[ \"indicadorisco\",\n",
    "#             \"Mortalidade infantil até 5 anos\", \"Mortalidade materna\", \"Mortalidade por desnutrição\", \"Mortalidade por doenças infecciosas\", \"Subnutrição\", \n",
    "#             \"Abastecimento de água\", \"Esgotamento sanitário\", \"Índice de atendimento de agua\",\n",
    "#             \"Coleta de lixo\", \"Moradias com iluminação adequada\", \"Moradias com parede adequada\", \"Moradias com piso adequado\",\n",
    "#             \"Assassinatos de jovens\", \"Assassinatos de jovens Taxa\", \"Homicídios\", \"Homicídios Taxa\", \"Mortes por acidente no trânsito\",\n",
    "\n",
    "#             \"Abandono escolar ensino fundamental\", \"Distorção idade-série ensino fundamental\", \"Distorção idade-série ensino médio\", \"Qualidade da educação Ideb ensino fundamental\", \"Reprovação escolar ensino fundamental\",\n",
    "#             \"Densidade internet banda-larga\", \"Densidade telefonia fixa\", \"Densidade telefonia movel\", \"Densidade TV por assinatura\",\n",
    "#             \"Mortalidade por diabetes mellitus\", \"Mortalidade por câncer\", \"Mortalidade por doenças circulatórias\", \"Mortalidade por doenças respiratórias\", \"Mortalidade por suicídios\",\n",
    "#             \"Áreas Protegidas\", \"Desmatamento acumulado\", \"Desmatamento recente\", \"Emissões CO2\", \"Focos de calor por habitantes\", \n",
    "\n",
    "#             \"Diversidade Partidária\", \"Transporte Público\", \n",
    "#             \"Acesso à cultura, esporte e lazer\", \"Gravidez na infância e adolescência\", \"Trabalho Infantil\" , \"Vulnerabilidade familiar\",\n",
    "#             \"Violência contra indígenas\", \"Violência contra indígenas Taxa\", \"Violência contra mulheres\", \"Violência infantil\", \"Violência infantil Taxa\",\n",
    "#             \"Empregos ensino superior\", \"Mulheres com empregos ensino superior\"\n",
    "#         ]]\n",
    "\n",
    "# df_scaled = pd.DataFrame(ss.fit_transform(df),columns = df.columns)\n",
    "\n",
    "# sns.set_theme(style=\"ticks\")\n",
    "# sns.pairplot(df_scaled)"
   ]
  },
  {
   "cell_type": "markdown",
   "id": "bc2fb373-64db-4876-9f12-e147b3e49239",
   "metadata": {},
   "source": [
    "### Get top Amazon IPS cities"
   ]
  },
  {
   "cell_type": "code",
   "execution_count": null,
   "id": "8ef35b18-a5a3-461c-9d57-5e024ecab1b1",
   "metadata": {},
   "outputs": [],
   "source": [
    "def get_top_spi(dataset, head=10, ascending=True): \n",
    "    df = dataset.copy()\n",
    "    df[\"regiao\"] = df[['municipio', 'estado']].agg(' - '.join, axis=1)\n",
    "    group = df.groupby(\"regiao\")\n",
    "    return group['IPS Amazônia'].sum().sort_values(ascending=ascending)[:head]\n",
    "\n",
    "\n",
    "def get_max_spi(dataset, year):\n",
    "    max_spi = dataset[(dataset[\"ano\"] == year)][\"IPS Amazônia\"].max()\n",
    "    return dataset[(dataset[\"ano\"] == year) & (dataset[\"IPS Amazônia\"] == max_spi)]\n",
    "\n",
    "\n",
    "def get_min_spi(dataset, year):\n",
    "    min_spi = dataset[(dataset[\"ano\"] == year)][\"IPS Amazônia\"].min()\n",
    "    return dataset[(dataset[\"ano\"] == year) & (dataset[\"IPS Amazônia\"] == min_spi)]\n",
    "\n",
    "\n",
    "def plot_top_spi(dataset, how_many=10, ascending=True):\n",
    "    cols = 3\n",
    "    rows = math.ceil(len(YEARS_AVAILABLE) / cols)\n",
    "    \n",
    "    fig, axes = plt.subplots(rows, cols, figsize=(25, 5), constrained_layout=True)\n",
    "\n",
    "    title = \"Cities with {} Amazon SPI per year\".format(\"Fewer\" if ascending else \"Biggest\")\n",
    "    fig.suptitle(title, fontsize=\"xx-large\", fontweight='heavy')\n",
    "\n",
    "    for idx, ax in enumerate(axes):\n",
    "        year = YEARS_AVAILABLE[idx]\n",
    "        yeardf = dataset[(dataset[\"ano\"] == year)]\n",
    "        tt = get_top_spi(yeardf, head=how_many, ascending=ascending)\n",
    "\n",
    "        ax.set_title(year, fontdict={'fontsize': 16})\n",
    "        ax.set_xlabel(\" \")\n",
    "        ax.set_ylabel(\" \")\n",
    "        \n",
    "        # Remove axes splines\n",
    "        for spin in ['top', 'left', 'right']:\n",
    "            ax.spines[spin].set_visible(False)\n",
    "            \n",
    "        sns.histplot(data=tt, y=tt.index, weights=tt.values, ax=ax)"
   ]
  },
  {
   "cell_type": "markdown",
   "id": "fb0381d9-8b28-4837-a94d-5651bbaf352f",
   "metadata": {},
   "source": [
    "#### List of minors SPImazon spi cities"
   ]
  },
  {
   "cell_type": "code",
   "execution_count": null,
   "id": "0fb3a05e-edad-409b-8227-648bcb2503b0",
   "metadata": {},
   "outputs": [],
   "source": [
    "# plot_top_spi(dataset, how_many=20, ascending=True)"
   ]
  },
  {
   "cell_type": "markdown",
   "id": "62a579b0-3ea0-435c-8845-28d5dee7aa33",
   "metadata": {},
   "source": [
    "#### List of maijors SPImazon spi cities"
   ]
  },
  {
   "cell_type": "code",
   "execution_count": null,
   "id": "1baef2c7-2cd8-4ab9-8844-a89536ffb692",
   "metadata": {},
   "outputs": [],
   "source": [
    "# plot_top_spi(dataset, how_many=20, ascending=False)"
   ]
  },
  {
   "cell_type": "code",
   "execution_count": null,
   "id": "410b9c06-6a82-4e7e-a0e5-7832efa358d3",
   "metadata": {},
   "outputs": [],
   "source": [
    "# Lista os municípios abaixo da média ips e que foram os que mais queimaram\n",
    "# year = 2021\n",
    "# mean =  dataset[\"Media IPS\"]\n",
    "\n",
    "# low_spi_mean = dataset[(dataset[\"IPS Amazônia\"] > mean) & (dataset[\"ano\"] == year)]\n",
    "# low_spi_mean.sort_values(by=[\"fococalor\"], ascending=[False])"
   ]
  },
  {
   "cell_type": "code",
   "execution_count": null,
   "id": "57b5c7a5-8287-40bb-8149-6378c20ee290",
   "metadata": {},
   "outputs": [],
   "source": [
    "# year = 2021\n",
    "\n",
    "# low_of_spi_mean = dataset[(dataset[\"IPS Amazônia\"] < dataset[\"Media IPS\"]) & (dataset[\"ano\"] == year)]\n",
    "# low_of_spi_mean.sort_values(by=\"fococalor\", ascending=False)"
   ]
  },
  {
   "cell_type": "markdown",
   "id": "8c2e584c-1198-44c4-a9e4-0db21d60c63e",
   "metadata": {},
   "source": [
    "### Visualize the correlation in a matrix"
   ]
  },
  {
   "cell_type": "code",
   "execution_count": null,
   "id": "c1ac267d-3af6-49ae-91a2-c7508ee66d35",
   "metadata": {},
   "outputs": [],
   "source": [
    "# def show_heatmap_corr(dataset):\n",
    "#     fig, ax = plt.subplots(figsize=(50,50))\n",
    "#     sns.heatmap(\n",
    "#         dataset.corr(), \n",
    "#         vmax=1.0, \n",
    "#         center=0, \n",
    "#         fmt='.2f',\n",
    "#         square=True, \n",
    "#         linewidths=.5, \n",
    "#         annot=True, \n",
    "#         cbar_kws={\"shrink\": .70}\n",
    "#     )\n",
    "    \n",
    "    \n",
    "# xxx = dataset[dataset.ano == 2021][['riscofogocat', 'IPS Amazônia']]    \n",
    "# show_heatmap_corr(xxx)"
   ]
  },
  {
   "cell_type": "code",
   "execution_count": null,
   "id": "63819fc2-494e-4e47-bfd3-03f840646110",
   "metadata": {},
   "outputs": [],
   "source": [
    "# xxx = dataset[dataset.ano == 2021][['riscofogocat', 'IPS Amazônia']]\n",
    "\n",
    "# xxx['c'] = pd.factorize(xxx.riscofogocat )[0]\n",
    "\n",
    "# sns.set_theme(style=\"ticks\")\n",
    "# sns.pairplot(xxx)"
   ]
  },
  {
   "cell_type": "code",
   "execution_count": null,
   "id": "24e76d73-6c71-4f5e-a635-bd2976c0c218",
   "metadata": {},
   "outputs": [],
   "source": [
    "# citie_name = \"NOVA IPIXUNA\"\n",
    "# citie_data = dataset[dataset.municipio == citie_name]"
   ]
  },
  {
   "cell_type": "code",
   "execution_count": null,
   "id": "5c93f5ee-79ef-47cf-b77b-3738f6a95e0c",
   "metadata": {},
   "outputs": [],
   "source": [
    "# compare hotspot and Amazon IPS\n",
    "# labels = [ \"frp\", \"riscofogo\", \"IPS Amazônia\"]\n",
    "# indicators = [citie_data[labels[0]], citie_data[labels[1]], citie_data[labels[2]]]\n",
    "# plot_indicators(citie_data, indicators, labels)\n",
    "\n",
    "# # Show Dimensions\n",
    "# labels = [\"Necessidades Humanas Básicas\", \"Fundamentos para o Bem-Estar\", \"Oportunidades\"]\n",
    "# indicators = [citie_data[labels[0]], citie_data[labels[1]], citie_data[labels[2]]]\n",
    "# plot_indicators(citie_data, indicators, labels)\n",
    "# plt.show()\n",
    "\n",
    "# # Show Necessidades Humanas Básicas components\n",
    "# labels = [\"Nutrição e cuidados médicos básicos\", \"Água e saneamento\", \"Moradia\", \"Segurança pessoal\"]\n",
    "# indicators = [citie_data[labels[0]], citie_data[labels[1]], citie_data[labels[2]], citie_data[labels[3]]]\n",
    "# plot_indicators(citie_data, indicators, labels)\n",
    "\n",
    "# # Show Fundamentos para o Bem-Estar components\n",
    "# labels = [\"Acesso ao conhecimento básico\", \"Acesso à informação e comunicação\", \"Saúde e bem-estar\", \"Qualidade do meio ambiente\"]\n",
    "# indicators = [citie_data[labels[0]], citie_data[labels[1]], citie_data[labels[2]], citie_data[labels[3]]]\n",
    "# plot_indicators(citie_data, indicators, labels)\n",
    "\n",
    "# # Show Oportunidades components\n",
    "# labels = labels = [\"Direitos individuais\", \"Liberdade individual e de escolha\", \"Tolerância e inclusão\", \"Acesso à educação superior\"]\n",
    "# indicators = [citie_data[labels[0]], citie_data[labels[1]], citie_data[labels[2]], citie_data[labels[3]]]\n",
    "# plot_indicators(citie_data, indicators, labels)"
   ]
  }
 ],
 "metadata": {
  "kernelspec": {
   "display_name": "Python 3 (ipykernel)",
   "language": "python",
   "name": "python3"
  },
  "language_info": {
   "codemirror_mode": {
    "name": "ipython",
    "version": 3
   },
   "file_extension": ".py",
   "mimetype": "text/x-python",
   "name": "python",
   "nbconvert_exporter": "python",
   "pygments_lexer": "ipython3",
   "version": "3.9.12"
  }
 },
 "nbformat": 4,
 "nbformat_minor": 5
}
